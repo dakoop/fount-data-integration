{
 "cells": [
  {
   "cell_type": "markdown",
   "id": "815760a6",
   "metadata": {},
   "source": [
    "# Data Integration Courselet\n",
    "\n",
    "**Authors:** \n",
    " - Siddarth Vijayakumar Sivakala (Z2061678@students.niu.edu)\n",
    " - Manvitha Kuncham (Z1959412@students.niu.edu)\n",
    " - David Koop (dakoop@niu.edu)\n",
    "\n",
    "**Last Updated:** 2025-10-25\n",
    "\n",
    "This courselet provides information on using polars to do data integration. Data integration is the process of combining data from multiple sources into a single, unified view. This generally involves bringing together data from different databases, file formats, and data streams to create a more comprehensive dataset to answer complex questions. A key challenge in data integration is dealing with inconsistencies and discrepancies between different data sources, including differences in data formats, naming conventions, and conflicting data values. We will be using datasets that measure the economic impact of world travel on different countries. For this data integration process we will be using data from the following sources:\n",
    "\n",
    " * [United Nations World Tourism Organization](https://www.unwto.org) (UNWTO),\n",
    " * [World Bank](https://data.worldbank.org) (WB),\n",
    " * [OECD](https://data.oecd.org) \n",
    " * [United Nations World Population Division](https://population.un.org/wpp/) (UNPOP)\n",
    "\n",
    " These datasets are have been partially wrangled and are available from GitHub:\n",
    "\n",
    "* <https://raw.githubusercontent.com/dakoop/fount-data-integration/refs/heads/main/unwto.parquet>\n",
    "* <https://raw.githubusercontent.com/dakoop/fount-data-integration/refs/heads/main/wb.parquet>\n",
    "* <https://raw.githubusercontent.com/dakoop/fount-data-integration/refs/heads/main/oecd.parquet>\n",
    "* <https://raw.githubusercontent.com/dakoop/fount-data-integration/refs/heads/main/population.parquet>\n",
    "\n",
    " In the World Bank dataset, `ST.INT.RCPT.CD` are the receipts and `ST.INT.XPND.CD` are the expenditures. In the UNWTO dataset, \"Inbound Tourism expenditure in the country\" are the receipts and \"Outbound Tourism expenditure in other countries\" are the expenditures. In the OECD dataset, \"Total international expenditure\" and \"Total international receipts\" are the columns for expenditures and receipts, respectively. Other attributes should be decipherable.\n"
   ]
  },
  {
   "cell_type": "code",
   "execution_count": 2,
   "id": "80e8840a",
   "metadata": {},
   "outputs": [],
   "source": [
    "%config InteractiveShell.ast_node_interactivity = 'last_expr_or_assign'"
   ]
  },
  {
   "cell_type": "code",
   "execution_count": 3,
   "id": "99552aac",
   "metadata": {},
   "outputs": [],
   "source": [
    "import polars as pl"
   ]
  },
  {
   "cell_type": "code",
   "execution_count": null,
   "id": "c4233f29",
   "metadata": {},
   "outputs": [
    {
     "data": {
      "text/html": [
       "<div><style>\n",
       ".dataframe > thead > tr,\n",
       ".dataframe > tbody > tr {\n",
       "  text-align: right;\n",
       "  white-space: pre-wrap;\n",
       "}\n",
       "</style>\n",
       "<small>shape: (36_126, 6)</small><table border=\"1\" class=\"dataframe\"><thead><tr><th>Country</th><th>CountryCode</th><th>Units</th><th>Variable</th><th>Year</th><th>value</th></tr><tr><td>str</td><td>i64</td><td>str</td><td>str</td><td>i64</td><td>f64</td></tr></thead><tbody><tr><td>&quot;AFGHANISTAN&quot;</td><td>4</td><td>&quot;US$ Millions&quot;</td><td>&quot;Inbound Tourism expenditure in…</td><td>1995</td><td>null</td></tr><tr><td>&quot;AFGHANISTAN&quot;</td><td>4</td><td>&quot;US$ Millions&quot;</td><td>&quot;Inbound Travel&quot;</td><td>1995</td><td>null</td></tr><tr><td>&quot;AFGHANISTAN&quot;</td><td>4</td><td>&quot;US$ Millions&quot;</td><td>&quot;Inbound Passenger transport&quot;</td><td>1995</td><td>null</td></tr><tr><td>&quot;ALBANIA&quot;</td><td>8</td><td>&quot;US$ Millions&quot;</td><td>&quot;Inbound Tourism expenditure in…</td><td>1995</td><td>70.0</td></tr><tr><td>&quot;ALBANIA&quot;</td><td>8</td><td>&quot;US$ Millions&quot;</td><td>&quot;Inbound Travel&quot;</td><td>1995</td><td>65.0</td></tr><tr><td>&hellip;</td><td>&hellip;</td><td>&hellip;</td><td>&hellip;</td><td>&hellip;</td><td>&hellip;</td></tr><tr><td>&quot;ZAMBIA&quot;</td><td>894</td><td>&quot;US$ Millions&quot;</td><td>&quot;Outbound Travel&quot;</td><td>2021</td><td>249.0</td></tr><tr><td>&quot;ZAMBIA&quot;</td><td>894</td><td>&quot;US$ Millions&quot;</td><td>&quot;Outbound Passenger transport&quot;</td><td>2021</td><td>181.0</td></tr><tr><td>&quot;ZIMBABWE&quot;</td><td>716</td><td>&quot;US$ Millions&quot;</td><td>&quot;Outbound Tourism expenditure i…</td><td>2021</td><td>null</td></tr><tr><td>&quot;ZIMBABWE&quot;</td><td>716</td><td>&quot;US$ Millions&quot;</td><td>&quot;Outbound Travel&quot;</td><td>2021</td><td>null</td></tr><tr><td>&quot;ZIMBABWE&quot;</td><td>716</td><td>&quot;US$ Millions&quot;</td><td>&quot;Outbound Passenger transport&quot;</td><td>2021</td><td>null</td></tr></tbody></table></div>"
      ],
      "text/plain": [
       "shape: (36_126, 6)\n",
       "┌─────────────┬─────────────┬──────────────┬─────────────────────────────────┬──────┬───────┐\n",
       "│ Country     ┆ CountryCode ┆ Units        ┆ Variable                        ┆ Year ┆ value │\n",
       "│ ---         ┆ ---         ┆ ---          ┆ ---                             ┆ ---  ┆ ---   │\n",
       "│ str         ┆ i64         ┆ str          ┆ str                             ┆ i64  ┆ f64   │\n",
       "╞═════════════╪═════════════╪══════════════╪═════════════════════════════════╪══════╪═══════╡\n",
       "│ AFGHANISTAN ┆ 4           ┆ US$ Millions ┆ Inbound Tourism expenditure in… ┆ 1995 ┆ null  │\n",
       "│ AFGHANISTAN ┆ 4           ┆ US$ Millions ┆ Inbound Travel                  ┆ 1995 ┆ null  │\n",
       "│ AFGHANISTAN ┆ 4           ┆ US$ Millions ┆ Inbound Passenger transport     ┆ 1995 ┆ null  │\n",
       "│ ALBANIA     ┆ 8           ┆ US$ Millions ┆ Inbound Tourism expenditure in… ┆ 1995 ┆ 70.0  │\n",
       "│ ALBANIA     ┆ 8           ┆ US$ Millions ┆ Inbound Travel                  ┆ 1995 ┆ 65.0  │\n",
       "│ …           ┆ …           ┆ …            ┆ …                               ┆ …    ┆ …     │\n",
       "│ ZAMBIA      ┆ 894         ┆ US$ Millions ┆ Outbound Travel                 ┆ 2021 ┆ 249.0 │\n",
       "│ ZAMBIA      ┆ 894         ┆ US$ Millions ┆ Outbound Passenger transport    ┆ 2021 ┆ 181.0 │\n",
       "│ ZIMBABWE    ┆ 716         ┆ US$ Millions ┆ Outbound Tourism expenditure i… ┆ 2021 ┆ null  │\n",
       "│ ZIMBABWE    ┆ 716         ┆ US$ Millions ┆ Outbound Travel                 ┆ 2021 ┆ null  │\n",
       "│ ZIMBABWE    ┆ 716         ┆ US$ Millions ┆ Outbound Passenger transport    ┆ 2021 ┆ null  │\n",
       "└─────────────┴─────────────┴──────────────┴─────────────────────────────────┴──────┴───────┘"
      ]
     },
     "execution_count": 4,
     "metadata": {},
     "output_type": "execute_result"
    }
   ],
   "source": [
    "unwto = pl.read_parquet(\n",
    "    \"https://raw.githubusercontent.com/dakoop/fount-data-integration/refs/heads/main/unwto.parquet\"\n",
    ")"
   ]
  },
  {
   "cell_type": "code",
   "execution_count": null,
   "id": "7011e4a5",
   "metadata": {},
   "outputs": [
    {
     "data": {
      "text/html": [
       "<div><style>\n",
       ".dataframe > thead > tr,\n",
       ".dataframe > tbody > tr {\n",
       "  text-align: right;\n",
       "  white-space: pre-wrap;\n",
       "}\n",
       "</style>\n",
       "<small>shape: (32_984, 6)</small><table border=\"1\" class=\"dataframe\"><thead><tr><th>Country Name</th><th>Country Code</th><th>Indicator Name</th><th>Indicator Code</th><th>Year</th><th>value</th></tr><tr><td>str</td><td>str</td><td>str</td><td>str</td><td>i64</td><td>f64</td></tr></thead><tbody><tr><td>&quot;Aruba&quot;</td><td>&quot;ABW&quot;</td><td>&quot;International tourism, receipt…</td><td>&quot;ST.INT.RCPT.CD&quot;</td><td>1960</td><td>null</td></tr><tr><td>&quot;Africa Eastern and Southern&quot;</td><td>&quot;AFE&quot;</td><td>&quot;International tourism, receipt…</td><td>&quot;ST.INT.RCPT.CD&quot;</td><td>1960</td><td>null</td></tr><tr><td>&quot;Afghanistan&quot;</td><td>&quot;AFG&quot;</td><td>&quot;International tourism, receipt…</td><td>&quot;ST.INT.RCPT.CD&quot;</td><td>1960</td><td>null</td></tr><tr><td>&quot;Africa Western and Central&quot;</td><td>&quot;AFW&quot;</td><td>&quot;International tourism, receipt…</td><td>&quot;ST.INT.RCPT.CD&quot;</td><td>1960</td><td>null</td></tr><tr><td>&quot;Angola&quot;</td><td>&quot;AGO&quot;</td><td>&quot;International tourism, receipt…</td><td>&quot;ST.INT.RCPT.CD&quot;</td><td>1960</td><td>null</td></tr><tr><td>&hellip;</td><td>&hellip;</td><td>&hellip;</td><td>&hellip;</td><td>&hellip;</td><td>&hellip;</td></tr><tr><td>&quot;Kosovo&quot;</td><td>&quot;XKX&quot;</td><td>&quot;International tourism, expendi…</td><td>&quot;ST.INT.XPND.CD&quot;</td><td>2021</td><td>null</td></tr><tr><td>&quot;Yemen, Rep.&quot;</td><td>&quot;YEM&quot;</td><td>&quot;International tourism, expendi…</td><td>&quot;ST.INT.XPND.CD&quot;</td><td>2021</td><td>null</td></tr><tr><td>&quot;South Africa&quot;</td><td>&quot;ZAF&quot;</td><td>&quot;International tourism, expendi…</td><td>&quot;ST.INT.XPND.CD&quot;</td><td>2021</td><td>null</td></tr><tr><td>&quot;Zambia&quot;</td><td>&quot;ZMB&quot;</td><td>&quot;International tourism, expendi…</td><td>&quot;ST.INT.XPND.CD&quot;</td><td>2021</td><td>null</td></tr><tr><td>&quot;Zimbabwe&quot;</td><td>&quot;ZWE&quot;</td><td>&quot;International tourism, expendi…</td><td>&quot;ST.INT.XPND.CD&quot;</td><td>2021</td><td>null</td></tr></tbody></table></div>"
      ],
      "text/plain": [
       "shape: (32_984, 6)\n",
       "┌────────────────────┬──────────────┬────────────────────────┬────────────────┬──────┬───────┐\n",
       "│ Country Name       ┆ Country Code ┆ Indicator Name         ┆ Indicator Code ┆ Year ┆ value │\n",
       "│ ---                ┆ ---          ┆ ---                    ┆ ---            ┆ ---  ┆ ---   │\n",
       "│ str                ┆ str          ┆ str                    ┆ str            ┆ i64  ┆ f64   │\n",
       "╞════════════════════╪══════════════╪════════════════════════╪════════════════╪══════╪═══════╡\n",
       "│ Aruba              ┆ ABW          ┆ International tourism, ┆ ST.INT.RCPT.CD ┆ 1960 ┆ null  │\n",
       "│                    ┆              ┆ receipt…               ┆                ┆      ┆       │\n",
       "│ Africa Eastern and ┆ AFE          ┆ International tourism, ┆ ST.INT.RCPT.CD ┆ 1960 ┆ null  │\n",
       "│ Southern           ┆              ┆ receipt…               ┆                ┆      ┆       │\n",
       "│ Afghanistan        ┆ AFG          ┆ International tourism, ┆ ST.INT.RCPT.CD ┆ 1960 ┆ null  │\n",
       "│                    ┆              ┆ receipt…               ┆                ┆      ┆       │\n",
       "│ Africa Western and ┆ AFW          ┆ International tourism, ┆ ST.INT.RCPT.CD ┆ 1960 ┆ null  │\n",
       "│ Central            ┆              ┆ receipt…               ┆                ┆      ┆       │\n",
       "│ Angola             ┆ AGO          ┆ International tourism, ┆ ST.INT.RCPT.CD ┆ 1960 ┆ null  │\n",
       "│                    ┆              ┆ receipt…               ┆                ┆      ┆       │\n",
       "│ …                  ┆ …            ┆ …                      ┆ …              ┆ …    ┆ …     │\n",
       "│ Kosovo             ┆ XKX          ┆ International tourism, ┆ ST.INT.XPND.CD ┆ 2021 ┆ null  │\n",
       "│                    ┆              ┆ expendi…               ┆                ┆      ┆       │\n",
       "│ Yemen, Rep.        ┆ YEM          ┆ International tourism, ┆ ST.INT.XPND.CD ┆ 2021 ┆ null  │\n",
       "│                    ┆              ┆ expendi…               ┆                ┆      ┆       │\n",
       "│ South Africa       ┆ ZAF          ┆ International tourism, ┆ ST.INT.XPND.CD ┆ 2021 ┆ null  │\n",
       "│                    ┆              ┆ expendi…               ┆                ┆      ┆       │\n",
       "│ Zambia             ┆ ZMB          ┆ International tourism, ┆ ST.INT.XPND.CD ┆ 2021 ┆ null  │\n",
       "│                    ┆              ┆ expendi…               ┆                ┆      ┆       │\n",
       "│ Zimbabwe           ┆ ZWE          ┆ International tourism, ┆ ST.INT.XPND.CD ┆ 2021 ┆ null  │\n",
       "│                    ┆              ┆ expendi…               ┆                ┆      ┆       │\n",
       "└────────────────────┴──────────────┴────────────────────────┴────────────────┴──────┴───────┘"
      ]
     },
     "execution_count": 5,
     "metadata": {},
     "output_type": "execute_result"
    }
   ],
   "source": [
    "wb = pl.read_parquet(\"https://raw.githubusercontent.com/dakoop/fount-data-integration/refs/heads/main/wb.parquet\")"
   ]
  },
  {
   "cell_type": "code",
   "execution_count": null,
   "id": "f392e9dc",
   "metadata": {},
   "outputs": [
    {
     "data": {
      "text/html": [
       "<div><style>\n",
       ".dataframe > thead > tr,\n",
       ".dataframe > tbody > tr {\n",
       "  text-align: right;\n",
       "  white-space: pre-wrap;\n",
       "}\n",
       "</style>\n",
       "<small>shape: (9_408, 4)</small><table border=\"1\" class=\"dataframe\"><thead><tr><th>Country</th><th>Variable</th><th>Year</th><th>value</th></tr><tr><td>str</td><td>str</td><td>i64</td><td>str</td></tr></thead><tbody><tr><td>&quot;Australia&quot;</td><td>&quot;Total international receipts&quot;</td><td>2008</td><td>&quot;31159.8&quot;</td></tr><tr><td>&quot;Australia&quot;</td><td>&quot;International travel receipts&quot;</td><td>2008</td><td>&quot;28014.3&quot;</td></tr><tr><td>&quot;Australia&quot;</td><td>&quot;International passenger transp…</td><td>2008</td><td>&quot;3145.5&quot;</td></tr><tr><td>&quot;Australia&quot;</td><td>&quot;International sea passenger tr…</td><td>2008</td><td>&quot;..&quot;</td></tr><tr><td>&quot;Australia&quot;</td><td>&quot;International air passenger tr…</td><td>2008</td><td>&quot;..&quot;</td></tr><tr><td>&hellip;</td><td>&hellip;</td><td>&hellip;</td><td>&hellip;</td></tr><tr><td>&quot;South Africa&quot;</td><td>&quot;International travel expenditu…</td><td>2021</td><td>&quot;991&quot;</td></tr><tr><td>&quot;South Africa&quot;</td><td>&quot;International passenger transp…</td><td>2021</td><td>&quot;678&quot;</td></tr><tr><td>&quot;South Africa&quot;</td><td>&quot;International sea passenger tr…</td><td>2021</td><td>&quot;..&quot;</td></tr><tr><td>&quot;South Africa&quot;</td><td>&quot;International air passenger tr…</td><td>2021</td><td>&quot;..&quot;</td></tr><tr><td>&quot;South Africa&quot;</td><td>&quot;International other passenger …</td><td>2021</td><td>&quot;..&quot;</td></tr></tbody></table></div>"
      ],
      "text/plain": [
       "shape: (9_408, 4)\n",
       "┌──────────────┬─────────────────────────────────┬──────┬─────────┐\n",
       "│ Country      ┆ Variable                        ┆ Year ┆ value   │\n",
       "│ ---          ┆ ---                             ┆ ---  ┆ ---     │\n",
       "│ str          ┆ str                             ┆ i64  ┆ str     │\n",
       "╞══════════════╪═════════════════════════════════╪══════╪═════════╡\n",
       "│ Australia    ┆ Total international receipts    ┆ 2008 ┆ 31159.8 │\n",
       "│ Australia    ┆ International travel receipts   ┆ 2008 ┆ 28014.3 │\n",
       "│ Australia    ┆ International passenger transp… ┆ 2008 ┆ 3145.5  │\n",
       "│ Australia    ┆ International sea passenger tr… ┆ 2008 ┆ ..      │\n",
       "│ Australia    ┆ International air passenger tr… ┆ 2008 ┆ ..      │\n",
       "│ …            ┆ …                               ┆ …    ┆ …       │\n",
       "│ South Africa ┆ International travel expenditu… ┆ 2021 ┆ 991     │\n",
       "│ South Africa ┆ International passenger transp… ┆ 2021 ┆ 678     │\n",
       "│ South Africa ┆ International sea passenger tr… ┆ 2021 ┆ ..      │\n",
       "│ South Africa ┆ International air passenger tr… ┆ 2021 ┆ ..      │\n",
       "│ South Africa ┆ International other passenger … ┆ 2021 ┆ ..      │\n",
       "└──────────────┴─────────────────────────────────┴──────┴─────────┘"
      ]
     },
     "execution_count": 6,
     "metadata": {},
     "output_type": "execute_result"
    }
   ],
   "source": [
    "oecd = pl.read_parquet(\n",
    "    \"https://raw.githubusercontent.com/dakoop/fount-data-integration/refs/heads/main/oecd.parquet\"\n",
    ")"
   ]
  },
  {
   "cell_type": "code",
   "execution_count": null,
   "id": "0b24f40d",
   "metadata": {},
   "outputs": [
    {
     "data": {
      "text/html": [
       "<div><style>\n",
       ".dataframe > thead > tr,\n",
       ".dataframe > tbody > tr {\n",
       "  text-align: right;\n",
       "  white-space: pre-wrap;\n",
       "}\n",
       "</style>\n",
       "<small>shape: (17_064, 5)</small><table border=\"1\" class=\"dataframe\"><thead><tr><th>Country</th><th>NumericCode</th><th>AlphaCode</th><th>Year</th><th>Population-Thousands</th></tr><tr><td>str</td><td>i64</td><td>str</td><td>i64</td><td>f64</td></tr></thead><tbody><tr><td>&quot;Burundi&quot;</td><td>108</td><td>&quot;BDI&quot;</td><td>1950</td><td>2229.322</td></tr><tr><td>&quot;Burundi&quot;</td><td>108</td><td>&quot;BDI&quot;</td><td>1951</td><td>2278.903</td></tr><tr><td>&quot;Burundi&quot;</td><td>108</td><td>&quot;BDI&quot;</td><td>1952</td><td>2327.593</td></tr><tr><td>&quot;Burundi&quot;</td><td>108</td><td>&quot;BDI&quot;</td><td>1953</td><td>2375.478</td></tr><tr><td>&quot;Burundi&quot;</td><td>108</td><td>&quot;BDI&quot;</td><td>1954</td><td>2422.721</td></tr><tr><td>&hellip;</td><td>&hellip;</td><td>&hellip;</td><td>&hellip;</td><td>&hellip;</td></tr><tr><td>&quot;Wallis and Futuna Islands&quot;</td><td>876</td><td>&quot;WLF&quot;</td><td>2017</td><td>12.002</td></tr><tr><td>&quot;Wallis and Futuna Islands&quot;</td><td>876</td><td>&quot;WLF&quot;</td><td>2018</td><td>11.87</td></tr><tr><td>&quot;Wallis and Futuna Islands&quot;</td><td>876</td><td>&quot;WLF&quot;</td><td>2019</td><td>11.761</td></tr><tr><td>&quot;Wallis and Futuna Islands&quot;</td><td>876</td><td>&quot;WLF&quot;</td><td>2020</td><td>11.667</td></tr><tr><td>&quot;Wallis and Futuna Islands&quot;</td><td>876</td><td>&quot;WLF&quot;</td><td>2021</td><td>11.642</td></tr></tbody></table></div>"
      ],
      "text/plain": [
       "shape: (17_064, 5)\n",
       "┌───────────────────────────┬─────────────┬───────────┬──────┬──────────────────────┐\n",
       "│ Country                   ┆ NumericCode ┆ AlphaCode ┆ Year ┆ Population-Thousands │\n",
       "│ ---                       ┆ ---         ┆ ---       ┆ ---  ┆ ---                  │\n",
       "│ str                       ┆ i64         ┆ str       ┆ i64  ┆ f64                  │\n",
       "╞═══════════════════════════╪═════════════╪═══════════╪══════╪══════════════════════╡\n",
       "│ Burundi                   ┆ 108         ┆ BDI       ┆ 1950 ┆ 2229.322             │\n",
       "│ Burundi                   ┆ 108         ┆ BDI       ┆ 1951 ┆ 2278.903             │\n",
       "│ Burundi                   ┆ 108         ┆ BDI       ┆ 1952 ┆ 2327.593             │\n",
       "│ Burundi                   ┆ 108         ┆ BDI       ┆ 1953 ┆ 2375.478             │\n",
       "│ Burundi                   ┆ 108         ┆ BDI       ┆ 1954 ┆ 2422.721             │\n",
       "│ …                         ┆ …           ┆ …         ┆ …    ┆ …                    │\n",
       "│ Wallis and Futuna Islands ┆ 876         ┆ WLF       ┆ 2017 ┆ 12.002               │\n",
       "│ Wallis and Futuna Islands ┆ 876         ┆ WLF       ┆ 2018 ┆ 11.87                │\n",
       "│ Wallis and Futuna Islands ┆ 876         ┆ WLF       ┆ 2019 ┆ 11.761               │\n",
       "│ Wallis and Futuna Islands ┆ 876         ┆ WLF       ┆ 2020 ┆ 11.667               │\n",
       "│ Wallis and Futuna Islands ┆ 876         ┆ WLF       ┆ 2021 ┆ 11.642               │\n",
       "└───────────────────────────┴─────────────┴───────────┴──────┴──────────────────────┘"
      ]
     },
     "execution_count": 7,
     "metadata": {},
     "output_type": "execute_result"
    }
   ],
   "source": [
    "pop = pl.read_parquet(\n",
    "    \"https://raw.githubusercontent.com/dakoop/fount-data-integration/refs/heads/main/population.parquet\"\n",
    ")"
   ]
  },
  {
   "cell_type": "markdown",
   "id": "b4b29414",
   "metadata": {},
   "source": [
    "### Data Cleaning\n",
    "\n",
    "Now that we have gathered all the required data from different sources, its essential to clean the data before we jump into processing the information. Here lets not jump into removing the null values for now, but notice how the OECD dataset `oecd` is filled with `..` values instead of null values. Let's clean that up."
   ]
  },
  {
   "cell_type": "code",
   "execution_count": 117,
   "id": "8e799c48",
   "metadata": {},
   "outputs": [
    {
     "data": {
      "text/html": [
       "<div><style>\n",
       ".dataframe > thead > tr,\n",
       ".dataframe > tbody > tr {\n",
       "  text-align: right;\n",
       "  white-space: pre-wrap;\n",
       "}\n",
       "</style>\n",
       "<small>shape: (9_408, 4)</small><table border=\"1\" class=\"dataframe\"><thead><tr><th>Country</th><th>Variable</th><th>Year</th><th>value</th></tr><tr><td>str</td><td>str</td><td>i64</td><td>f64</td></tr></thead><tbody><tr><td>&quot;Australia&quot;</td><td>&quot;Total international receipts&quot;</td><td>2008</td><td>31159.8</td></tr><tr><td>&quot;Australia&quot;</td><td>&quot;International travel receipts&quot;</td><td>2008</td><td>28014.3</td></tr><tr><td>&quot;Australia&quot;</td><td>&quot;International passenger transp…</td><td>2008</td><td>3145.5</td></tr><tr><td>&quot;Australia&quot;</td><td>&quot;International sea passenger tr…</td><td>2008</td><td>null</td></tr><tr><td>&quot;Australia&quot;</td><td>&quot;International air passenger tr…</td><td>2008</td><td>null</td></tr><tr><td>&hellip;</td><td>&hellip;</td><td>&hellip;</td><td>&hellip;</td></tr><tr><td>&quot;South Africa&quot;</td><td>&quot;International travel expenditu…</td><td>2021</td><td>991.0</td></tr><tr><td>&quot;South Africa&quot;</td><td>&quot;International passenger transp…</td><td>2021</td><td>678.0</td></tr><tr><td>&quot;South Africa&quot;</td><td>&quot;International sea passenger tr…</td><td>2021</td><td>null</td></tr><tr><td>&quot;South Africa&quot;</td><td>&quot;International air passenger tr…</td><td>2021</td><td>null</td></tr><tr><td>&quot;South Africa&quot;</td><td>&quot;International other passenger …</td><td>2021</td><td>null</td></tr></tbody></table></div>"
      ],
      "text/plain": [
       "shape: (9_408, 4)\n",
       "┌──────────────┬─────────────────────────────────┬──────┬─────────┐\n",
       "│ Country      ┆ Variable                        ┆ Year ┆ value   │\n",
       "│ ---          ┆ ---                             ┆ ---  ┆ ---     │\n",
       "│ str          ┆ str                             ┆ i64  ┆ f64     │\n",
       "╞══════════════╪═════════════════════════════════╪══════╪═════════╡\n",
       "│ Australia    ┆ Total international receipts    ┆ 2008 ┆ 31159.8 │\n",
       "│ Australia    ┆ International travel receipts   ┆ 2008 ┆ 28014.3 │\n",
       "│ Australia    ┆ International passenger transp… ┆ 2008 ┆ 3145.5  │\n",
       "│ Australia    ┆ International sea passenger tr… ┆ 2008 ┆ null    │\n",
       "│ Australia    ┆ International air passenger tr… ┆ 2008 ┆ null    │\n",
       "│ …            ┆ …                               ┆ …    ┆ …       │\n",
       "│ South Africa ┆ International travel expenditu… ┆ 2021 ┆ 991.0   │\n",
       "│ South Africa ┆ International passenger transp… ┆ 2021 ┆ 678.0   │\n",
       "│ South Africa ┆ International sea passenger tr… ┆ 2021 ┆ null    │\n",
       "│ South Africa ┆ International air passenger tr… ┆ 2021 ┆ null    │\n",
       "│ South Africa ┆ International other passenger … ┆ 2021 ┆ null    │\n",
       "└──────────────┴─────────────────────────────────┴──────┴─────────┘"
      ]
     },
     "execution_count": 117,
     "metadata": {},
     "output_type": "execute_result"
    }
   ],
   "source": [
    "oecd_updated = oecd.with_columns(pl.col(\"value\").replace(\"..\", None).cast(pl.Float64))"
   ]
  },
  {
   "cell_type": "markdown",
   "id": "032c7141",
   "metadata": {},
   "source": [
    "### Data Transformation\n",
    "\n",
    "Now, observe that this dataset is not tidy. The dataset records information for the same country and year in different rows; the variables are listed in separate rows instead of columns. We can use the `pivot` operation to fix this."
   ]
  },
  {
   "cell_type": "code",
   "execution_count": 118,
   "id": "844ccef2",
   "metadata": {},
   "outputs": [
    {
     "data": {
      "text/html": [
       "<div><style>\n",
       ".dataframe > thead > tr,\n",
       ".dataframe > tbody > tr {\n",
       "  text-align: right;\n",
       "  white-space: pre-wrap;\n",
       "}\n",
       "</style>\n",
       "<small>shape: (784, 14)</small><table border=\"1\" class=\"dataframe\"><thead><tr><th>Country</th><th>Year</th><th>Total international receipts</th><th>International travel receipts</th><th>International passenger transport receipts</th><th>International sea passenger transport receipts</th><th>International air passenger transport receipts</th><th>International other passenger transport receipts</th><th>Total international expenditure</th><th>International travel expenditure</th><th>International passenger transport expenditure</th><th>International sea passenger transport expenditure</th><th>International air passenger transport expenditure</th><th>International other passenger transport expenditure</th></tr><tr><td>str</td><td>i64</td><td>f64</td><td>f64</td><td>f64</td><td>f64</td><td>f64</td><td>f64</td><td>f64</td><td>f64</td><td>f64</td><td>f64</td><td>f64</td><td>f64</td></tr></thead><tbody><tr><td>&quot;Australia&quot;</td><td>2008</td><td>31159.8</td><td>28014.3</td><td>3145.5</td><td>null</td><td>null</td><td>null</td><td>27620.0</td><td>21834.8</td><td>5785.2</td><td>null</td><td>null</td><td>null</td></tr><tr><td>&quot;Austria&quot;</td><td>2008</td><td>21499.2</td><td>21499.2</td><td>null</td><td>null</td><td>null</td><td>null</td><td>11309.9</td><td>11309.9</td><td>null</td><td>null</td><td>null</td><td>null</td></tr><tr><td>&quot;Belgium&quot;</td><td>2008</td><td>13117.515</td><td>11733.255</td><td>1384.26</td><td>5.859</td><td>1359.358</td><td>19.043</td><td>21525.615</td><td>19674.076</td><td>1851.539</td><td>13.183</td><td>1832.497</td><td>5.859</td></tr><tr><td>&quot;Canada&quot;</td><td>2008</td><td>19603.8</td><td>17081.1</td><td>2522.7</td><td>null</td><td>2502.1</td><td>20.6</td><td>34820.1</td><td>28202.0</td><td>6618.1</td><td>null</td><td>6422.2</td><td>195.9</td></tr><tr><td>&quot;Chile&quot;</td><td>2008</td><td>2481.0</td><td>1626.3</td><td>886.5</td><td>null</td><td>null</td><td>886.5</td><td>1386.0</td><td>1047.3</td><td>391.8</td><td>null</td><td>null</td><td>407.1</td></tr><tr><td>&hellip;</td><td>&hellip;</td><td>&hellip;</td><td>&hellip;</td><td>&hellip;</td><td>&hellip;</td><td>&hellip;</td><td>&hellip;</td><td>&hellip;</td><td>&hellip;</td><td>&hellip;</td><td>&hellip;</td><td>&hellip;</td><td>&hellip;</td></tr><tr><td>&quot;Philippines&quot;</td><td>2021</td><td>null</td><td>null</td><td>null</td><td>null</td><td>null</td><td>null</td><td>null</td><td>null</td><td>null</td><td>null</td><td>null</td><td>null</td></tr><tr><td>&quot;Romania&quot;</td><td>2021</td><td>null</td><td>null</td><td>null</td><td>null</td><td>null</td><td>null</td><td>null</td><td>null</td><td>null</td><td>null</td><td>null</td><td>null</td></tr><tr><td>&quot;Russia&quot;</td><td>2021</td><td>null</td><td>null</td><td>null</td><td>null</td><td>null</td><td>null</td><td>null</td><td>null</td><td>null</td><td>null</td><td>null</td><td>null</td></tr><tr><td>&quot;Serbia&quot;</td><td>2021</td><td>null</td><td>null</td><td>null</td><td>null</td><td>null</td><td>null</td><td>null</td><td>null</td><td>null</td><td>null</td><td>null</td><td>null</td></tr><tr><td>&quot;South Africa&quot;</td><td>2021</td><td>2113.0</td><td>2108.0</td><td>5.0</td><td>null</td><td>null</td><td>null</td><td>1669.0</td><td>991.0</td><td>678.0</td><td>null</td><td>null</td><td>null</td></tr></tbody></table></div>"
      ],
      "text/plain": [
       "shape: (784, 14)\n",
       "┌────────────┬──────┬────────────┬────────────┬───┬────────────┬───────────┬───────────┬───────────┐\n",
       "│ Country    ┆ Year ┆ Total inte ┆ Internatio ┆ … ┆ Internatio ┆ Internati ┆ Internati ┆ Internati │\n",
       "│ ---        ┆ ---  ┆ rnational  ┆ nal travel ┆   ┆ nal        ┆ onal sea  ┆ onal air  ┆ onal      │\n",
       "│ str        ┆ i64  ┆ receipts   ┆ receipts   ┆   ┆ passenger  ┆ passenger ┆ passenger ┆ other     │\n",
       "│            ┆      ┆ ---        ┆ ---        ┆   ┆ transp…    ┆ tr…       ┆ tr…       ┆ passenger │\n",
       "│            ┆      ┆ f64        ┆ f64        ┆   ┆ ---        ┆ ---       ┆ ---       ┆ …         │\n",
       "│            ┆      ┆            ┆            ┆   ┆ f64        ┆ f64       ┆ f64       ┆ ---       │\n",
       "│            ┆      ┆            ┆            ┆   ┆            ┆           ┆           ┆ f64       │\n",
       "╞════════════╪══════╪════════════╪════════════╪═══╪════════════╪═══════════╪═══════════╪═══════════╡\n",
       "│ Australia  ┆ 2008 ┆ 31159.8    ┆ 28014.3    ┆ … ┆ 5785.2     ┆ null      ┆ null      ┆ null      │\n",
       "│ Austria    ┆ 2008 ┆ 21499.2    ┆ 21499.2    ┆ … ┆ null       ┆ null      ┆ null      ┆ null      │\n",
       "│ Belgium    ┆ 2008 ┆ 13117.515  ┆ 11733.255  ┆ … ┆ 1851.539   ┆ 13.183    ┆ 1832.497  ┆ 5.859     │\n",
       "│ Canada     ┆ 2008 ┆ 19603.8    ┆ 17081.1    ┆ … ┆ 6618.1     ┆ null      ┆ 6422.2    ┆ 195.9     │\n",
       "│ Chile      ┆ 2008 ┆ 2481.0     ┆ 1626.3     ┆ … ┆ 391.8      ┆ null      ┆ null      ┆ 407.1     │\n",
       "│ …          ┆ …    ┆ …          ┆ …          ┆ … ┆ …          ┆ …         ┆ …         ┆ …         │\n",
       "│ Philippine ┆ 2021 ┆ null       ┆ null       ┆ … ┆ null       ┆ null      ┆ null      ┆ null      │\n",
       "│ s          ┆      ┆            ┆            ┆   ┆            ┆           ┆           ┆           │\n",
       "│ Romania    ┆ 2021 ┆ null       ┆ null       ┆ … ┆ null       ┆ null      ┆ null      ┆ null      │\n",
       "│ Russia     ┆ 2021 ┆ null       ┆ null       ┆ … ┆ null       ┆ null      ┆ null      ┆ null      │\n",
       "│ Serbia     ┆ 2021 ┆ null       ┆ null       ┆ … ┆ null       ┆ null      ┆ null      ┆ null      │\n",
       "│ South      ┆ 2021 ┆ 2113.0     ┆ 2108.0     ┆ … ┆ 678.0      ┆ null      ┆ null      ┆ null      │\n",
       "│ Africa     ┆      ┆            ┆            ┆   ┆            ┆           ┆           ┆           │\n",
       "└────────────┴──────┴────────────┴────────────┴───┴────────────┴───────────┴───────────┴───────────┘"
      ]
     },
     "execution_count": 118,
     "metadata": {},
     "output_type": "execute_result"
    }
   ],
   "source": [
    "oecd_pivoted = oecd_updated.pivot(on=\"Variable\", values=\"value\")"
   ]
  },
  {
   "cell_type": "markdown",
   "id": "2d0d8b9e",
   "metadata": {},
   "source": [
    "There is a similar problem with the UNWTO dataset."
   ]
  },
  {
   "cell_type": "code",
   "execution_count": 119,
   "id": "37f42a1e",
   "metadata": {},
   "outputs": [
    {
     "data": {
      "text/html": [
       "<div><style>\n",
       ".dataframe > thead > tr,\n",
       ".dataframe > tbody > tr {\n",
       "  text-align: right;\n",
       "  white-space: pre-wrap;\n",
       "}\n",
       "</style>\n",
       "<small>shape: (36_126, 6)</small><table border=\"1\" class=\"dataframe\"><thead><tr><th>Country</th><th>CountryCode</th><th>Units</th><th>Variable</th><th>Year</th><th>value</th></tr><tr><td>str</td><td>i64</td><td>str</td><td>str</td><td>i64</td><td>f64</td></tr></thead><tbody><tr><td>&quot;AFGHANISTAN&quot;</td><td>4</td><td>&quot;US$ Millions&quot;</td><td>&quot;Inbound Tourism expenditure in…</td><td>1995</td><td>null</td></tr><tr><td>&quot;AFGHANISTAN&quot;</td><td>4</td><td>&quot;US$ Millions&quot;</td><td>&quot;Inbound Travel&quot;</td><td>1995</td><td>null</td></tr><tr><td>&quot;AFGHANISTAN&quot;</td><td>4</td><td>&quot;US$ Millions&quot;</td><td>&quot;Inbound Passenger transport&quot;</td><td>1995</td><td>null</td></tr><tr><td>&quot;ALBANIA&quot;</td><td>8</td><td>&quot;US$ Millions&quot;</td><td>&quot;Inbound Tourism expenditure in…</td><td>1995</td><td>70.0</td></tr><tr><td>&quot;ALBANIA&quot;</td><td>8</td><td>&quot;US$ Millions&quot;</td><td>&quot;Inbound Travel&quot;</td><td>1995</td><td>65.0</td></tr><tr><td>&hellip;</td><td>&hellip;</td><td>&hellip;</td><td>&hellip;</td><td>&hellip;</td><td>&hellip;</td></tr><tr><td>&quot;ZAMBIA&quot;</td><td>894</td><td>&quot;US$ Millions&quot;</td><td>&quot;Outbound Travel&quot;</td><td>2021</td><td>249.0</td></tr><tr><td>&quot;ZAMBIA&quot;</td><td>894</td><td>&quot;US$ Millions&quot;</td><td>&quot;Outbound Passenger transport&quot;</td><td>2021</td><td>181.0</td></tr><tr><td>&quot;ZIMBABWE&quot;</td><td>716</td><td>&quot;US$ Millions&quot;</td><td>&quot;Outbound Tourism expenditure i…</td><td>2021</td><td>null</td></tr><tr><td>&quot;ZIMBABWE&quot;</td><td>716</td><td>&quot;US$ Millions&quot;</td><td>&quot;Outbound Travel&quot;</td><td>2021</td><td>null</td></tr><tr><td>&quot;ZIMBABWE&quot;</td><td>716</td><td>&quot;US$ Millions&quot;</td><td>&quot;Outbound Passenger transport&quot;</td><td>2021</td><td>null</td></tr></tbody></table></div>"
      ],
      "text/plain": [
       "shape: (36_126, 6)\n",
       "┌─────────────┬─────────────┬──────────────┬─────────────────────────────────┬──────┬───────┐\n",
       "│ Country     ┆ CountryCode ┆ Units        ┆ Variable                        ┆ Year ┆ value │\n",
       "│ ---         ┆ ---         ┆ ---          ┆ ---                             ┆ ---  ┆ ---   │\n",
       "│ str         ┆ i64         ┆ str          ┆ str                             ┆ i64  ┆ f64   │\n",
       "╞═════════════╪═════════════╪══════════════╪═════════════════════════════════╪══════╪═══════╡\n",
       "│ AFGHANISTAN ┆ 4           ┆ US$ Millions ┆ Inbound Tourism expenditure in… ┆ 1995 ┆ null  │\n",
       "│ AFGHANISTAN ┆ 4           ┆ US$ Millions ┆ Inbound Travel                  ┆ 1995 ┆ null  │\n",
       "│ AFGHANISTAN ┆ 4           ┆ US$ Millions ┆ Inbound Passenger transport     ┆ 1995 ┆ null  │\n",
       "│ ALBANIA     ┆ 8           ┆ US$ Millions ┆ Inbound Tourism expenditure in… ┆ 1995 ┆ 70.0  │\n",
       "│ ALBANIA     ┆ 8           ┆ US$ Millions ┆ Inbound Travel                  ┆ 1995 ┆ 65.0  │\n",
       "│ …           ┆ …           ┆ …            ┆ …                               ┆ …    ┆ …     │\n",
       "│ ZAMBIA      ┆ 894         ┆ US$ Millions ┆ Outbound Travel                 ┆ 2021 ┆ 249.0 │\n",
       "│ ZAMBIA      ┆ 894         ┆ US$ Millions ┆ Outbound Passenger transport    ┆ 2021 ┆ 181.0 │\n",
       "│ ZIMBABWE    ┆ 716         ┆ US$ Millions ┆ Outbound Tourism expenditure i… ┆ 2021 ┆ null  │\n",
       "│ ZIMBABWE    ┆ 716         ┆ US$ Millions ┆ Outbound Travel                 ┆ 2021 ┆ null  │\n",
       "│ ZIMBABWE    ┆ 716         ┆ US$ Millions ┆ Outbound Passenger transport    ┆ 2021 ┆ null  │\n",
       "└─────────────┴─────────────┴──────────────┴─────────────────────────────────┴──────┴───────┘"
      ]
     },
     "execution_count": 119,
     "metadata": {},
     "output_type": "execute_result"
    }
   ],
   "source": [
    "unwto"
   ]
  },
  {
   "cell_type": "code",
   "execution_count": 120,
   "id": "8928284d",
   "metadata": {},
   "outputs": [
    {
     "data": {
      "text/html": [
       "<div><style>\n",
       ".dataframe > thead > tr,\n",
       ".dataframe > tbody > tr {\n",
       "  text-align: right;\n",
       "  white-space: pre-wrap;\n",
       "}\n",
       "</style>\n",
       "<small>shape: (6_021, 10)</small><table border=\"1\" class=\"dataframe\"><thead><tr><th>Country</th><th>CountryCode</th><th>Units</th><th>Year</th><th>Inbound Tourism expenditure in the country</th><th>Inbound Travel</th><th>Inbound Passenger transport</th><th>Outbound Tourism expenditure in other countries</th><th>Outbound Travel</th><th>Outbound Passenger transport</th></tr><tr><td>str</td><td>i64</td><td>str</td><td>i64</td><td>f64</td><td>f64</td><td>f64</td><td>f64</td><td>f64</td><td>f64</td></tr></thead><tbody><tr><td>&quot;AFGHANISTAN&quot;</td><td>4</td><td>&quot;US$ Millions&quot;</td><td>1995</td><td>null</td><td>null</td><td>null</td><td>null</td><td>null</td><td>null</td></tr><tr><td>&quot;ALBANIA&quot;</td><td>8</td><td>&quot;US$ Millions&quot;</td><td>1995</td><td>70.0</td><td>65.0</td><td>5.0</td><td>19.0</td><td>7.0</td><td>12.0</td></tr><tr><td>&quot;ALGERIA&quot;</td><td>12</td><td>&quot;US$ Millions&quot;</td><td>1995</td><td>null</td><td>32.0</td><td>null</td><td>null</td><td>186.0</td><td>null</td></tr><tr><td>&quot;AMERICAN SAMOA&quot;</td><td>16</td><td>&quot;US$ Millions&quot;</td><td>1995</td><td>null</td><td>null</td><td>null</td><td>null</td><td>null</td><td>null</td></tr><tr><td>&quot;ANDORRA&quot;</td><td>20</td><td>&quot;US$ Millions&quot;</td><td>1995</td><td>null</td><td>null</td><td>null</td><td>null</td><td>null</td><td>null</td></tr><tr><td>&hellip;</td><td>&hellip;</td><td>&hellip;</td><td>&hellip;</td><td>&hellip;</td><td>&hellip;</td><td>&hellip;</td><td>&hellip;</td><td>&hellip;</td><td>&hellip;</td></tr><tr><td>&quot;VENEZUELA, BOLIVARIAN REPUBLIC…</td><td>862</td><td>&quot;US$ Millions&quot;</td><td>2021</td><td>null</td><td>null</td><td>null</td><td>null</td><td>null</td><td>null</td></tr><tr><td>&quot;VIET NAM&quot;</td><td>704</td><td>&quot;US$ Millions&quot;</td><td>2021</td><td>149.0</td><td>null</td><td>null</td><td>3830.0</td><td>null</td><td>null</td></tr><tr><td>&quot;YEMEN&quot;</td><td>886</td><td>&quot;US$ Millions&quot;</td><td>2021</td><td>null</td><td>null</td><td>null</td><td>null</td><td>null</td><td>null</td></tr><tr><td>&quot;ZAMBIA&quot;</td><td>894</td><td>&quot;US$ Millions&quot;</td><td>2021</td><td>null</td><td>393.0</td><td>null</td><td>430.0</td><td>249.0</td><td>181.0</td></tr><tr><td>&quot;ZIMBABWE&quot;</td><td>716</td><td>&quot;US$ Millions&quot;</td><td>2021</td><td>null</td><td>null</td><td>null</td><td>null</td><td>null</td><td>null</td></tr></tbody></table></div>"
      ],
      "text/plain": [
       "shape: (6_021, 10)\n",
       "┌────────────┬────────────┬────────────┬──────┬───┬────────────┬───────────┬───────────┬───────────┐\n",
       "│ Country    ┆ CountryCod ┆ Units      ┆ Year ┆ … ┆ Inbound    ┆ Outbound  ┆ Outbound  ┆ Outbound  │\n",
       "│ ---        ┆ e          ┆ ---        ┆ ---  ┆   ┆ Passenger  ┆ Tourism   ┆ Travel    ┆ Passenger │\n",
       "│ str        ┆ ---        ┆ str        ┆ i64  ┆   ┆ transport  ┆ expenditu ┆ ---       ┆ transport │\n",
       "│            ┆ i64        ┆            ┆      ┆   ┆ ---        ┆ re i…     ┆ f64       ┆ ---       │\n",
       "│            ┆            ┆            ┆      ┆   ┆ f64        ┆ ---       ┆           ┆ f64       │\n",
       "│            ┆            ┆            ┆      ┆   ┆            ┆ f64       ┆           ┆           │\n",
       "╞════════════╪════════════╪════════════╪══════╪═══╪════════════╪═══════════╪═══════════╪═══════════╡\n",
       "│ AFGHANISTA ┆ 4          ┆ US$        ┆ 1995 ┆ … ┆ null       ┆ null      ┆ null      ┆ null      │\n",
       "│ N          ┆            ┆ Millions   ┆      ┆   ┆            ┆           ┆           ┆           │\n",
       "│ ALBANIA    ┆ 8          ┆ US$        ┆ 1995 ┆ … ┆ 5.0        ┆ 19.0      ┆ 7.0       ┆ 12.0      │\n",
       "│            ┆            ┆ Millions   ┆      ┆   ┆            ┆           ┆           ┆           │\n",
       "│ ALGERIA    ┆ 12         ┆ US$        ┆ 1995 ┆ … ┆ null       ┆ null      ┆ 186.0     ┆ null      │\n",
       "│            ┆            ┆ Millions   ┆      ┆   ┆            ┆           ┆           ┆           │\n",
       "│ AMERICAN   ┆ 16         ┆ US$        ┆ 1995 ┆ … ┆ null       ┆ null      ┆ null      ┆ null      │\n",
       "│ SAMOA      ┆            ┆ Millions   ┆      ┆   ┆            ┆           ┆           ┆           │\n",
       "│ ANDORRA    ┆ 20         ┆ US$        ┆ 1995 ┆ … ┆ null       ┆ null      ┆ null      ┆ null      │\n",
       "│            ┆            ┆ Millions   ┆      ┆   ┆            ┆           ┆           ┆           │\n",
       "│ …          ┆ …          ┆ …          ┆ …    ┆ … ┆ …          ┆ …         ┆ …         ┆ …         │\n",
       "│ VENEZUELA, ┆ 862        ┆ US$        ┆ 2021 ┆ … ┆ null       ┆ null      ┆ null      ┆ null      │\n",
       "│ BOLIVARIAN ┆            ┆ Millions   ┆      ┆   ┆            ┆           ┆           ┆           │\n",
       "│ REPUBLIC…  ┆            ┆            ┆      ┆   ┆            ┆           ┆           ┆           │\n",
       "│ VIET NAM   ┆ 704        ┆ US$        ┆ 2021 ┆ … ┆ null       ┆ 3830.0    ┆ null      ┆ null      │\n",
       "│            ┆            ┆ Millions   ┆      ┆   ┆            ┆           ┆           ┆           │\n",
       "│ YEMEN      ┆ 886        ┆ US$        ┆ 2021 ┆ … ┆ null       ┆ null      ┆ null      ┆ null      │\n",
       "│            ┆            ┆ Millions   ┆      ┆   ┆            ┆           ┆           ┆           │\n",
       "│ ZAMBIA     ┆ 894        ┆ US$        ┆ 2021 ┆ … ┆ null       ┆ 430.0     ┆ 249.0     ┆ 181.0     │\n",
       "│            ┆            ┆ Millions   ┆      ┆   ┆            ┆           ┆           ┆           │\n",
       "│ ZIMBABWE   ┆ 716        ┆ US$        ┆ 2021 ┆ … ┆ null       ┆ null      ┆ null      ┆ null      │\n",
       "│            ┆            ┆ Millions   ┆      ┆   ┆            ┆           ┆           ┆           │\n",
       "└────────────┴────────────┴────────────┴──────┴───┴────────────┴───────────┴───────────┴───────────┘"
      ]
     },
     "execution_count": 120,
     "metadata": {},
     "output_type": "execute_result"
    }
   ],
   "source": [
    "unwto_pivoted = unwto.pivot(on=\"Variable\", values=\"value\")"
   ]
  },
  {
   "cell_type": "markdown",
   "id": "9c8435b1",
   "metadata": {},
   "source": [
    "After pivoting the data, we see six columns yet many of those cells are missing values. We are intrested the total expenditures inbound and outbound. You may notice that when we have complete data for inbound or outbound, the other two columns (travel and transport) add up to the total expenditure. We can use the coalesce operation to fill in missing totals."
   ]
  },
  {
   "cell_type": "code",
   "execution_count": 121,
   "id": "5c772a91",
   "metadata": {},
   "outputs": [
    {
     "data": {
      "text/html": [
       "<div><style>\n",
       ".dataframe > thead > tr,\n",
       ".dataframe > tbody > tr {\n",
       "  text-align: right;\n",
       "  white-space: pre-wrap;\n",
       "}\n",
       "</style>\n",
       "<small>shape: (6_021, 10)</small><table border=\"1\" class=\"dataframe\"><thead><tr><th>Country</th><th>CountryCode</th><th>Units</th><th>Year</th><th>Inbound Tourism expenditure in the country</th><th>Inbound Travel</th><th>Inbound Passenger transport</th><th>Outbound Tourism expenditure in other countries</th><th>Outbound Travel</th><th>Outbound Passenger transport</th></tr><tr><td>str</td><td>i64</td><td>str</td><td>i64</td><td>f64</td><td>f64</td><td>f64</td><td>f64</td><td>f64</td><td>f64</td></tr></thead><tbody><tr><td>&quot;AFGHANISTAN&quot;</td><td>4</td><td>&quot;US$ Millions&quot;</td><td>1995</td><td>null</td><td>null</td><td>null</td><td>null</td><td>null</td><td>null</td></tr><tr><td>&quot;ALBANIA&quot;</td><td>8</td><td>&quot;US$ Millions&quot;</td><td>1995</td><td>70.0</td><td>65.0</td><td>5.0</td><td>19.0</td><td>7.0</td><td>12.0</td></tr><tr><td>&quot;ALGERIA&quot;</td><td>12</td><td>&quot;US$ Millions&quot;</td><td>1995</td><td>32.0</td><td>32.0</td><td>null</td><td>186.0</td><td>186.0</td><td>null</td></tr><tr><td>&quot;AMERICAN SAMOA&quot;</td><td>16</td><td>&quot;US$ Millions&quot;</td><td>1995</td><td>null</td><td>null</td><td>null</td><td>null</td><td>null</td><td>null</td></tr><tr><td>&quot;ANDORRA&quot;</td><td>20</td><td>&quot;US$ Millions&quot;</td><td>1995</td><td>null</td><td>null</td><td>null</td><td>null</td><td>null</td><td>null</td></tr><tr><td>&hellip;</td><td>&hellip;</td><td>&hellip;</td><td>&hellip;</td><td>&hellip;</td><td>&hellip;</td><td>&hellip;</td><td>&hellip;</td><td>&hellip;</td><td>&hellip;</td></tr><tr><td>&quot;VENEZUELA, BOLIVARIAN REPUBLIC…</td><td>862</td><td>&quot;US$ Millions&quot;</td><td>2021</td><td>null</td><td>null</td><td>null</td><td>null</td><td>null</td><td>null</td></tr><tr><td>&quot;VIET NAM&quot;</td><td>704</td><td>&quot;US$ Millions&quot;</td><td>2021</td><td>149.0</td><td>null</td><td>null</td><td>3830.0</td><td>null</td><td>null</td></tr><tr><td>&quot;YEMEN&quot;</td><td>886</td><td>&quot;US$ Millions&quot;</td><td>2021</td><td>null</td><td>null</td><td>null</td><td>null</td><td>null</td><td>null</td></tr><tr><td>&quot;ZAMBIA&quot;</td><td>894</td><td>&quot;US$ Millions&quot;</td><td>2021</td><td>393.0</td><td>393.0</td><td>null</td><td>430.0</td><td>249.0</td><td>181.0</td></tr><tr><td>&quot;ZIMBABWE&quot;</td><td>716</td><td>&quot;US$ Millions&quot;</td><td>2021</td><td>null</td><td>null</td><td>null</td><td>null</td><td>null</td><td>null</td></tr></tbody></table></div>"
      ],
      "text/plain": [
       "shape: (6_021, 10)\n",
       "┌────────────┬────────────┬────────────┬──────┬───┬────────────┬───────────┬───────────┬───────────┐\n",
       "│ Country    ┆ CountryCod ┆ Units      ┆ Year ┆ … ┆ Inbound    ┆ Outbound  ┆ Outbound  ┆ Outbound  │\n",
       "│ ---        ┆ e          ┆ ---        ┆ ---  ┆   ┆ Passenger  ┆ Tourism   ┆ Travel    ┆ Passenger │\n",
       "│ str        ┆ ---        ┆ str        ┆ i64  ┆   ┆ transport  ┆ expenditu ┆ ---       ┆ transport │\n",
       "│            ┆ i64        ┆            ┆      ┆   ┆ ---        ┆ re i…     ┆ f64       ┆ ---       │\n",
       "│            ┆            ┆            ┆      ┆   ┆ f64        ┆ ---       ┆           ┆ f64       │\n",
       "│            ┆            ┆            ┆      ┆   ┆            ┆ f64       ┆           ┆           │\n",
       "╞════════════╪════════════╪════════════╪══════╪═══╪════════════╪═══════════╪═══════════╪═══════════╡\n",
       "│ AFGHANISTA ┆ 4          ┆ US$        ┆ 1995 ┆ … ┆ null       ┆ null      ┆ null      ┆ null      │\n",
       "│ N          ┆            ┆ Millions   ┆      ┆   ┆            ┆           ┆           ┆           │\n",
       "│ ALBANIA    ┆ 8          ┆ US$        ┆ 1995 ┆ … ┆ 5.0        ┆ 19.0      ┆ 7.0       ┆ 12.0      │\n",
       "│            ┆            ┆ Millions   ┆      ┆   ┆            ┆           ┆           ┆           │\n",
       "│ ALGERIA    ┆ 12         ┆ US$        ┆ 1995 ┆ … ┆ null       ┆ 186.0     ┆ 186.0     ┆ null      │\n",
       "│            ┆            ┆ Millions   ┆      ┆   ┆            ┆           ┆           ┆           │\n",
       "│ AMERICAN   ┆ 16         ┆ US$        ┆ 1995 ┆ … ┆ null       ┆ null      ┆ null      ┆ null      │\n",
       "│ SAMOA      ┆            ┆ Millions   ┆      ┆   ┆            ┆           ┆           ┆           │\n",
       "│ ANDORRA    ┆ 20         ┆ US$        ┆ 1995 ┆ … ┆ null       ┆ null      ┆ null      ┆ null      │\n",
       "│            ┆            ┆ Millions   ┆      ┆   ┆            ┆           ┆           ┆           │\n",
       "│ …          ┆ …          ┆ …          ┆ …    ┆ … ┆ …          ┆ …         ┆ …         ┆ …         │\n",
       "│ VENEZUELA, ┆ 862        ┆ US$        ┆ 2021 ┆ … ┆ null       ┆ null      ┆ null      ┆ null      │\n",
       "│ BOLIVARIAN ┆            ┆ Millions   ┆      ┆   ┆            ┆           ┆           ┆           │\n",
       "│ REPUBLIC…  ┆            ┆            ┆      ┆   ┆            ┆           ┆           ┆           │\n",
       "│ VIET NAM   ┆ 704        ┆ US$        ┆ 2021 ┆ … ┆ null       ┆ 3830.0    ┆ null      ┆ null      │\n",
       "│            ┆            ┆ Millions   ┆      ┆   ┆            ┆           ┆           ┆           │\n",
       "│ YEMEN      ┆ 886        ┆ US$        ┆ 2021 ┆ … ┆ null       ┆ null      ┆ null      ┆ null      │\n",
       "│            ┆            ┆ Millions   ┆      ┆   ┆            ┆           ┆           ┆           │\n",
       "│ ZAMBIA     ┆ 894        ┆ US$        ┆ 2021 ┆ … ┆ null       ┆ 430.0     ┆ 249.0     ┆ 181.0     │\n",
       "│            ┆            ┆ Millions   ┆      ┆   ┆            ┆           ┆           ┆           │\n",
       "│ ZIMBABWE   ┆ 716        ┆ US$        ┆ 2021 ┆ … ┆ null       ┆ null      ┆ null      ┆ null      │\n",
       "│            ┆            ┆ Millions   ┆      ┆   ┆            ┆           ┆           ┆           │\n",
       "└────────────┴────────────┴────────────┴──────┴───┴────────────┴───────────┴───────────┴───────────┘"
      ]
     },
     "execution_count": 121,
     "metadata": {},
     "output_type": "execute_result"
    }
   ],
   "source": [
    "def add_if_not_both_null(col1, col2):\n",
    "    return (\n",
    "        pl.when(col1.is_not_null() | col2.is_not_null())\n",
    "        .then(col1.fill_null(0) + col2.fill_null(0))\n",
    "        .otherwise(None)\n",
    "    )\n",
    "\n",
    "\n",
    "unwto_filled = unwto_pivoted.with_columns(\n",
    "    pl.coalesce(\n",
    "        pl.col(\"Inbound Tourism expenditure in the country\"),\n",
    "        add_if_not_both_null(\n",
    "            pl.col(\"Inbound Travel\"), pl.col(\"Inbound Passenger transport\")\n",
    "        ),\n",
    "    ),\n",
    "    pl.coalesce(\n",
    "        pl.col(\"Outbound Tourism expenditure in other countries\"),\n",
    "        add_if_not_both_null(\n",
    "            pl.col(\"Outbound Travel\"), pl.col(\"Outbound Passenger transport\")\n",
    "        ),\n",
    "    ),\n",
    ")"
   ]
  },
  {
   "cell_type": "markdown",
   "id": "6f043d5c",
   "metadata": {},
   "source": [
    "Finally, we have a similar transformation for the World Bank data."
   ]
  },
  {
   "cell_type": "code",
   "execution_count": 122,
   "id": "2e5a37f0",
   "metadata": {},
   "outputs": [
    {
     "data": {
      "text/html": [
       "<div><style>\n",
       ".dataframe > thead > tr,\n",
       ".dataframe > tbody > tr {\n",
       "  text-align: right;\n",
       "  white-space: pre-wrap;\n",
       "}\n",
       "</style>\n",
       "<small>shape: (32_984, 6)</small><table border=\"1\" class=\"dataframe\"><thead><tr><th>Country Name</th><th>Country Code</th><th>Indicator Name</th><th>Year</th><th>ST.INT.RCPT.CD</th><th>ST.INT.XPND.CD</th></tr><tr><td>str</td><td>str</td><td>str</td><td>i64</td><td>f64</td><td>f64</td></tr></thead><tbody><tr><td>&quot;Aruba&quot;</td><td>&quot;ABW&quot;</td><td>&quot;International tourism, receipt…</td><td>1960</td><td>null</td><td>null</td></tr><tr><td>&quot;Africa Eastern and Southern&quot;</td><td>&quot;AFE&quot;</td><td>&quot;International tourism, receipt…</td><td>1960</td><td>null</td><td>null</td></tr><tr><td>&quot;Afghanistan&quot;</td><td>&quot;AFG&quot;</td><td>&quot;International tourism, receipt…</td><td>1960</td><td>null</td><td>null</td></tr><tr><td>&quot;Africa Western and Central&quot;</td><td>&quot;AFW&quot;</td><td>&quot;International tourism, receipt…</td><td>1960</td><td>null</td><td>null</td></tr><tr><td>&quot;Angola&quot;</td><td>&quot;AGO&quot;</td><td>&quot;International tourism, receipt…</td><td>1960</td><td>null</td><td>null</td></tr><tr><td>&hellip;</td><td>&hellip;</td><td>&hellip;</td><td>&hellip;</td><td>&hellip;</td><td>&hellip;</td></tr><tr><td>&quot;Kosovo&quot;</td><td>&quot;XKX&quot;</td><td>&quot;International tourism, expendi…</td><td>2021</td><td>null</td><td>null</td></tr><tr><td>&quot;Yemen, Rep.&quot;</td><td>&quot;YEM&quot;</td><td>&quot;International tourism, expendi…</td><td>2021</td><td>null</td><td>null</td></tr><tr><td>&quot;South Africa&quot;</td><td>&quot;ZAF&quot;</td><td>&quot;International tourism, expendi…</td><td>2021</td><td>null</td><td>null</td></tr><tr><td>&quot;Zambia&quot;</td><td>&quot;ZMB&quot;</td><td>&quot;International tourism, expendi…</td><td>2021</td><td>null</td><td>null</td></tr><tr><td>&quot;Zimbabwe&quot;</td><td>&quot;ZWE&quot;</td><td>&quot;International tourism, expendi…</td><td>2021</td><td>null</td><td>null</td></tr></tbody></table></div>"
      ],
      "text/plain": [
       "shape: (32_984, 6)\n",
       "┌─────────────────────┬──────────────┬────────────────────┬──────┬────────────────┬────────────────┐\n",
       "│ Country Name        ┆ Country Code ┆ Indicator Name     ┆ Year ┆ ST.INT.RCPT.CD ┆ ST.INT.XPND.CD │\n",
       "│ ---                 ┆ ---          ┆ ---                ┆ ---  ┆ ---            ┆ ---            │\n",
       "│ str                 ┆ str          ┆ str                ┆ i64  ┆ f64            ┆ f64            │\n",
       "╞═════════════════════╪══════════════╪════════════════════╪══════╪════════════════╪════════════════╡\n",
       "│ Aruba               ┆ ABW          ┆ International      ┆ 1960 ┆ null           ┆ null           │\n",
       "│                     ┆              ┆ tourism, receipt…  ┆      ┆                ┆                │\n",
       "│ Africa Eastern and  ┆ AFE          ┆ International      ┆ 1960 ┆ null           ┆ null           │\n",
       "│ Southern            ┆              ┆ tourism, receipt…  ┆      ┆                ┆                │\n",
       "│ Afghanistan         ┆ AFG          ┆ International      ┆ 1960 ┆ null           ┆ null           │\n",
       "│                     ┆              ┆ tourism, receipt…  ┆      ┆                ┆                │\n",
       "│ Africa Western and  ┆ AFW          ┆ International      ┆ 1960 ┆ null           ┆ null           │\n",
       "│ Central             ┆              ┆ tourism, receipt…  ┆      ┆                ┆                │\n",
       "│ Angola              ┆ AGO          ┆ International      ┆ 1960 ┆ null           ┆ null           │\n",
       "│                     ┆              ┆ tourism, receipt…  ┆      ┆                ┆                │\n",
       "│ …                   ┆ …            ┆ …                  ┆ …    ┆ …              ┆ …              │\n",
       "│ Kosovo              ┆ XKX          ┆ International      ┆ 2021 ┆ null           ┆ null           │\n",
       "│                     ┆              ┆ tourism, expendi…  ┆      ┆                ┆                │\n",
       "│ Yemen, Rep.         ┆ YEM          ┆ International      ┆ 2021 ┆ null           ┆ null           │\n",
       "│                     ┆              ┆ tourism, expendi…  ┆      ┆                ┆                │\n",
       "│ South Africa        ┆ ZAF          ┆ International      ┆ 2021 ┆ null           ┆ null           │\n",
       "│                     ┆              ┆ tourism, expendi…  ┆      ┆                ┆                │\n",
       "│ Zambia              ┆ ZMB          ┆ International      ┆ 2021 ┆ null           ┆ null           │\n",
       "│                     ┆              ┆ tourism, expendi…  ┆      ┆                ┆                │\n",
       "│ Zimbabwe            ┆ ZWE          ┆ International      ┆ 2021 ┆ null           ┆ null           │\n",
       "│                     ┆              ┆ tourism, expendi…  ┆      ┆                ┆                │\n",
       "└─────────────────────┴──────────────┴────────────────────┴──────┴────────────────┴────────────────┘"
      ]
     },
     "execution_count": 122,
     "metadata": {},
     "output_type": "execute_result"
    }
   ],
   "source": [
    "wb_pivoted = wb.pivot(on=\"Indicator Code\", values=\"value\")"
   ]
  },
  {
   "cell_type": "markdown",
   "id": "bdec02c0",
   "metadata": {},
   "source": [
    "### Schema Matching\n",
    "\n",
    "Next, we are going to align the schemas of these datasets. This involves renaming columns so that they have consistent names across datasets, selecting relevant columns to keep, and ensuring that data types are consistent. This involves identifying which attributes refer to the same thing or concept and how they are related to each other. We want our shared schema to have the following columns:\n",
    "\n",
    "* `countryCodeNum`: the numeric code for the country\n",
    "* `countryCodeAlpha`: the alphabetic code for the country\n",
    "* `country`: the name of the country\n",
    "* `year`: the year the amounts were recorded\n",
    "* `receipts`: the amount of money (in millions of USD) spent in the country on travel\n",
    "* `expenditures`: the amount of money (in millions of USD) residents spend in other countries while on travel\n",
    "* `source_dataset`: the corresponding data source `(\"unwto\", \"wb\", \"oecd\")`\n",
    "\n",
    "We will rename the columns in each dataset to match this schema, and drop any columns that are not needed."
   ]
  },
  {
   "cell_type": "code",
   "execution_count": 123,
   "id": "b98c2aeb",
   "metadata": {},
   "outputs": [
    {
     "data": {
      "text/html": [
       "<div><style>\n",
       ".dataframe > thead > tr,\n",
       ".dataframe > tbody > tr {\n",
       "  text-align: right;\n",
       "  white-space: pre-wrap;\n",
       "}\n",
       "</style>\n",
       "<small>shape: (6_021, 6)</small><table border=\"1\" class=\"dataframe\"><thead><tr><th>country</th><th>countryCodeNum</th><th>year</th><th>receipts</th><th>expenditures</th><th>source_dataset</th></tr><tr><td>str</td><td>i64</td><td>i64</td><td>f64</td><td>f64</td><td>str</td></tr></thead><tbody><tr><td>&quot;AFGHANISTAN&quot;</td><td>4</td><td>1995</td><td>null</td><td>null</td><td>&quot;unwto&quot;</td></tr><tr><td>&quot;ALBANIA&quot;</td><td>8</td><td>1995</td><td>70.0</td><td>19.0</td><td>&quot;unwto&quot;</td></tr><tr><td>&quot;ALGERIA&quot;</td><td>12</td><td>1995</td><td>32.0</td><td>186.0</td><td>&quot;unwto&quot;</td></tr><tr><td>&quot;AMERICAN SAMOA&quot;</td><td>16</td><td>1995</td><td>null</td><td>null</td><td>&quot;unwto&quot;</td></tr><tr><td>&quot;ANDORRA&quot;</td><td>20</td><td>1995</td><td>null</td><td>null</td><td>&quot;unwto&quot;</td></tr><tr><td>&hellip;</td><td>&hellip;</td><td>&hellip;</td><td>&hellip;</td><td>&hellip;</td><td>&hellip;</td></tr><tr><td>&quot;VENEZUELA, BOLIVARIAN REPUBLIC…</td><td>862</td><td>2021</td><td>null</td><td>null</td><td>&quot;unwto&quot;</td></tr><tr><td>&quot;VIET NAM&quot;</td><td>704</td><td>2021</td><td>149.0</td><td>3830.0</td><td>&quot;unwto&quot;</td></tr><tr><td>&quot;YEMEN&quot;</td><td>886</td><td>2021</td><td>null</td><td>null</td><td>&quot;unwto&quot;</td></tr><tr><td>&quot;ZAMBIA&quot;</td><td>894</td><td>2021</td><td>393.0</td><td>430.0</td><td>&quot;unwto&quot;</td></tr><tr><td>&quot;ZIMBABWE&quot;</td><td>716</td><td>2021</td><td>null</td><td>null</td><td>&quot;unwto&quot;</td></tr></tbody></table></div>"
      ],
      "text/plain": [
       "shape: (6_021, 6)\n",
       "┌───────────────────────┬────────────────┬──────┬──────────┬──────────────┬────────────────┐\n",
       "│ country               ┆ countryCodeNum ┆ year ┆ receipts ┆ expenditures ┆ source_dataset │\n",
       "│ ---                   ┆ ---            ┆ ---  ┆ ---      ┆ ---          ┆ ---            │\n",
       "│ str                   ┆ i64            ┆ i64  ┆ f64      ┆ f64          ┆ str            │\n",
       "╞═══════════════════════╪════════════════╪══════╪══════════╪══════════════╪════════════════╡\n",
       "│ AFGHANISTAN           ┆ 4              ┆ 1995 ┆ null     ┆ null         ┆ unwto          │\n",
       "│ ALBANIA               ┆ 8              ┆ 1995 ┆ 70.0     ┆ 19.0         ┆ unwto          │\n",
       "│ ALGERIA               ┆ 12             ┆ 1995 ┆ 32.0     ┆ 186.0        ┆ unwto          │\n",
       "│ AMERICAN SAMOA        ┆ 16             ┆ 1995 ┆ null     ┆ null         ┆ unwto          │\n",
       "│ ANDORRA               ┆ 20             ┆ 1995 ┆ null     ┆ null         ┆ unwto          │\n",
       "│ …                     ┆ …              ┆ …    ┆ …        ┆ …            ┆ …              │\n",
       "│ VENEZUELA, BOLIVARIAN ┆ 862            ┆ 2021 ┆ null     ┆ null         ┆ unwto          │\n",
       "│ REPUBLIC…             ┆                ┆      ┆          ┆              ┆                │\n",
       "│ VIET NAM              ┆ 704            ┆ 2021 ┆ 149.0    ┆ 3830.0       ┆ unwto          │\n",
       "│ YEMEN                 ┆ 886            ┆ 2021 ┆ null     ┆ null         ┆ unwto          │\n",
       "│ ZAMBIA                ┆ 894            ┆ 2021 ┆ 393.0    ┆ 430.0        ┆ unwto          │\n",
       "│ ZIMBABWE              ┆ 716            ┆ 2021 ┆ null     ┆ null         ┆ unwto          │\n",
       "└───────────────────────┴────────────────┴──────┴──────────┴──────────────┴────────────────┘"
      ]
     },
     "execution_count": 123,
     "metadata": {},
     "output_type": "execute_result"
    }
   ],
   "source": [
    "unwto_renamed = (\n",
    "    unwto_filled.rename(\n",
    "        {\n",
    "            \"Inbound Tourism expenditure in the country\": \"receipts\",\n",
    "            \"Outbound Tourism expenditure in other countries\": \"expenditures\",\n",
    "            \"CountryCode\": \"countryCodeNum\",\n",
    "            \"Country\": \"country\",\n",
    "            \"Year\": \"year\",\n",
    "        }\n",
    "    )\n",
    "    .with_columns(pl.lit(\"unwto\").alias(\"source_dataset\"))\n",
    "    .select(\n",
    "        \"country\",\n",
    "        \"countryCodeNum\",\n",
    "        \"year\",\n",
    "        \"receipts\",\n",
    "        \"expenditures\",\n",
    "        \"source_dataset\",\n",
    "    )\n",
    ")"
   ]
  },
  {
   "cell_type": "markdown",
   "id": "25f8fc29",
   "metadata": {},
   "source": [
    "Similarly, we can do this for the WB dataset. In addition, this dataset has duplicate rows and its values are specified in US dollars instead of millions of US dollars."
   ]
  },
  {
   "cell_type": "code",
   "execution_count": 124,
   "id": "4149ef47",
   "metadata": {},
   "outputs": [
    {
     "data": {
      "text/html": [
       "<div><style>\n",
       ".dataframe > thead > tr,\n",
       ".dataframe > tbody > tr {\n",
       "  text-align: right;\n",
       "  white-space: pre-wrap;\n",
       "}\n",
       "</style>\n",
       "<small>shape: (16_492, 6)</small><table border=\"1\" class=\"dataframe\"><thead><tr><th>country</th><th>countryCodeAlpha</th><th>year</th><th>receipts</th><th>expenditures</th><th>source_dataset</th></tr><tr><td>str</td><td>str</td><td>i64</td><td>f64</td><td>f64</td><td>str</td></tr></thead><tbody><tr><td>&quot;Sub-Saharan Africa&quot;</td><td>&quot;SSF&quot;</td><td>1976</td><td>null</td><td>null</td><td>&quot;wb&quot;</td></tr><tr><td>&quot;Korea, Rep.&quot;</td><td>&quot;KOR&quot;</td><td>1999</td><td>8337.0</td><td>null</td><td>&quot;wb&quot;</td></tr><tr><td>&quot;Russian Federation&quot;</td><td>&quot;RUS&quot;</td><td>2015</td><td>13186.0</td><td>null</td><td>&quot;wb&quot;</td></tr><tr><td>&quot;Dominica&quot;</td><td>&quot;DMA&quot;</td><td>1979</td><td>null</td><td>null</td><td>&quot;wb&quot;</td></tr><tr><td>&quot;Angola&quot;</td><td>&quot;AGO&quot;</td><td>2017</td><td>884.0</td><td>null</td><td>&quot;wb&quot;</td></tr><tr><td>&hellip;</td><td>&hellip;</td><td>&hellip;</td><td>&hellip;</td><td>&hellip;</td><td>&hellip;</td></tr><tr><td>&quot;Botswana&quot;</td><td>&quot;BWA&quot;</td><td>2008</td><td>510.700012</td><td>null</td><td>&quot;wb&quot;</td></tr><tr><td>&quot;Poland&quot;</td><td>&quot;POL&quot;</td><td>1974</td><td>null</td><td>null</td><td>&quot;wb&quot;</td></tr><tr><td>&quot;Late-demographic dividend&quot;</td><td>&quot;LTE&quot;</td><td>1986</td><td>null</td><td>null</td><td>&quot;wb&quot;</td></tr><tr><td>&quot;Papua New Guinea&quot;</td><td>&quot;PNG&quot;</td><td>2008</td><td>3.7</td><td>null</td><td>&quot;wb&quot;</td></tr><tr><td>&quot;Samoa&quot;</td><td>&quot;WSM&quot;</td><td>1997</td><td>38.511845</td><td>null</td><td>&quot;wb&quot;</td></tr></tbody></table></div>"
      ],
      "text/plain": [
       "shape: (16_492, 6)\n",
       "┌───────────────────────────┬──────────────────┬──────┬────────────┬──────────────┬────────────────┐\n",
       "│ country                   ┆ countryCodeAlpha ┆ year ┆ receipts   ┆ expenditures ┆ source_dataset │\n",
       "│ ---                       ┆ ---              ┆ ---  ┆ ---        ┆ ---          ┆ ---            │\n",
       "│ str                       ┆ str              ┆ i64  ┆ f64        ┆ f64          ┆ str            │\n",
       "╞═══════════════════════════╪══════════════════╪══════╪════════════╪══════════════╪════════════════╡\n",
       "│ Sub-Saharan Africa        ┆ SSF              ┆ 1976 ┆ null       ┆ null         ┆ wb             │\n",
       "│ Korea, Rep.               ┆ KOR              ┆ 1999 ┆ 8337.0     ┆ null         ┆ wb             │\n",
       "│ Russian Federation        ┆ RUS              ┆ 2015 ┆ 13186.0    ┆ null         ┆ wb             │\n",
       "│ Dominica                  ┆ DMA              ┆ 1979 ┆ null       ┆ null         ┆ wb             │\n",
       "│ Angola                    ┆ AGO              ┆ 2017 ┆ 884.0      ┆ null         ┆ wb             │\n",
       "│ …                         ┆ …                ┆ …    ┆ …          ┆ …            ┆ …              │\n",
       "│ Botswana                  ┆ BWA              ┆ 2008 ┆ 510.700012 ┆ null         ┆ wb             │\n",
       "│ Poland                    ┆ POL              ┆ 1974 ┆ null       ┆ null         ┆ wb             │\n",
       "│ Late-demographic dividend ┆ LTE              ┆ 1986 ┆ null       ┆ null         ┆ wb             │\n",
       "│ Papua New Guinea          ┆ PNG              ┆ 2008 ┆ 3.7        ┆ null         ┆ wb             │\n",
       "│ Samoa                     ┆ WSM              ┆ 1997 ┆ 38.511845  ┆ null         ┆ wb             │\n",
       "└───────────────────────────┴──────────────────┴──────┴────────────┴──────────────┴────────────────┘"
      ]
     },
     "execution_count": 124,
     "metadata": {},
     "output_type": "execute_result"
    }
   ],
   "source": [
    "wb_renamed = (\n",
    "    wb_pivoted.rename(\n",
    "        {\n",
    "            \"ST.INT.RCPT.CD\": \"receipts\",\n",
    "            \"ST.INT.XPND.CD\": \"expenditures\",\n",
    "            \"Country Code\": \"countryCodeAlpha\",\n",
    "            \"Country Name\": \"country\",\n",
    "            \"Year\": \"year\",\n",
    "        }\n",
    "    )\n",
    "    .with_columns(\n",
    "        pl.col(\"receipts\", \"expenditures\") / 1e6, pl.lit(\"wb\").alias(\"source_dataset\")\n",
    "    )\n",
    "    .unique(subset=[\"country\", \"year\"])\n",
    "    .drop(\"Indicator Name\")\n",
    ")"
   ]
  },
  {
   "cell_type": "markdown",
   "id": "27782aa3",
   "metadata": {},
   "source": [
    "##### Exercise\n",
    "\n",
    "Complete the schema matching for the OECD dataset."
   ]
  },
  {
   "cell_type": "markdown",
   "id": "fd2fbe66",
   "metadata": {},
   "source": [
    "##### Solution"
   ]
  },
  {
   "cell_type": "code",
   "execution_count": 125,
   "id": "7461ed34",
   "metadata": {},
   "outputs": [
    {
     "data": {
      "text/html": [
       "<div><style>\n",
       ".dataframe > thead > tr,\n",
       ".dataframe > tbody > tr {\n",
       "  text-align: right;\n",
       "  white-space: pre-wrap;\n",
       "}\n",
       "</style>\n",
       "<small>shape: (784, 5)</small><table border=\"1\" class=\"dataframe\"><thead><tr><th>country</th><th>year</th><th>receipts</th><th>expenditures</th><th>source_dataset</th></tr><tr><td>str</td><td>i64</td><td>f64</td><td>f64</td><td>str</td></tr></thead><tbody><tr><td>&quot;Australia&quot;</td><td>2008</td><td>31159.8</td><td>27620.0</td><td>&quot;oecd&quot;</td></tr><tr><td>&quot;Austria&quot;</td><td>2008</td><td>21499.2</td><td>11309.9</td><td>&quot;oecd&quot;</td></tr><tr><td>&quot;Belgium&quot;</td><td>2008</td><td>13117.515</td><td>21525.615</td><td>&quot;oecd&quot;</td></tr><tr><td>&quot;Canada&quot;</td><td>2008</td><td>19603.8</td><td>34820.1</td><td>&quot;oecd&quot;</td></tr><tr><td>&quot;Chile&quot;</td><td>2008</td><td>2481.0</td><td>1386.0</td><td>&quot;oecd&quot;</td></tr><tr><td>&hellip;</td><td>&hellip;</td><td>&hellip;</td><td>&hellip;</td><td>&hellip;</td></tr><tr><td>&quot;Philippines&quot;</td><td>2021</td><td>null</td><td>null</td><td>&quot;oecd&quot;</td></tr><tr><td>&quot;Romania&quot;</td><td>2021</td><td>null</td><td>null</td><td>&quot;oecd&quot;</td></tr><tr><td>&quot;Russia&quot;</td><td>2021</td><td>null</td><td>null</td><td>&quot;oecd&quot;</td></tr><tr><td>&quot;Serbia&quot;</td><td>2021</td><td>null</td><td>null</td><td>&quot;oecd&quot;</td></tr><tr><td>&quot;South Africa&quot;</td><td>2021</td><td>2113.0</td><td>1669.0</td><td>&quot;oecd&quot;</td></tr></tbody></table></div>"
      ],
      "text/plain": [
       "shape: (784, 5)\n",
       "┌──────────────┬──────┬───────────┬──────────────┬────────────────┐\n",
       "│ country      ┆ year ┆ receipts  ┆ expenditures ┆ source_dataset │\n",
       "│ ---          ┆ ---  ┆ ---       ┆ ---          ┆ ---            │\n",
       "│ str          ┆ i64  ┆ f64       ┆ f64          ┆ str            │\n",
       "╞══════════════╪══════╪═══════════╪══════════════╪════════════════╡\n",
       "│ Australia    ┆ 2008 ┆ 31159.8   ┆ 27620.0      ┆ oecd           │\n",
       "│ Austria      ┆ 2008 ┆ 21499.2   ┆ 11309.9      ┆ oecd           │\n",
       "│ Belgium      ┆ 2008 ┆ 13117.515 ┆ 21525.615    ┆ oecd           │\n",
       "│ Canada       ┆ 2008 ┆ 19603.8   ┆ 34820.1      ┆ oecd           │\n",
       "│ Chile        ┆ 2008 ┆ 2481.0    ┆ 1386.0       ┆ oecd           │\n",
       "│ …            ┆ …    ┆ …         ┆ …            ┆ …              │\n",
       "│ Philippines  ┆ 2021 ┆ null      ┆ null         ┆ oecd           │\n",
       "│ Romania      ┆ 2021 ┆ null      ┆ null         ┆ oecd           │\n",
       "│ Russia       ┆ 2021 ┆ null      ┆ null         ┆ oecd           │\n",
       "│ Serbia       ┆ 2021 ┆ null      ┆ null         ┆ oecd           │\n",
       "│ South Africa ┆ 2021 ┆ 2113.0    ┆ 1669.0       ┆ oecd           │\n",
       "└──────────────┴──────┴───────────┴──────────────┴────────────────┘"
      ]
     },
     "execution_count": 125,
     "metadata": {},
     "output_type": "execute_result"
    }
   ],
   "source": [
    "oecd_renamed = (\n",
    "    oecd_pivoted.rename(\n",
    "        {\n",
    "            \"Total international receipts\": \"receipts\",\n",
    "            \"Total international expenditure\": \"expenditures\",\n",
    "            \"Country\": \"country\",\n",
    "            \"Year\": \"year\",\n",
    "        }\n",
    "    )\n",
    "    .with_columns(pl.lit(\"oecd\").alias(\"source_dataset\"))\n",
    "    .select(\"country\", \"year\", \"receipts\", \"expenditures\", \"source_dataset\")\n",
    ")\n"
   ]
  },
  {
   "cell_type": "markdown",
   "id": "9fdf0c69",
   "metadata": {},
   "source": [
    "### Data Integration\n",
    "\n",
    "While our main goal is to integrate these datasets into a single dataset, we can also integrate data by merging two datasets with **different** information. For example, we can integrate the UNPOP dataset with the UNWTO dataset to get population information for each country and year. In this case, we can use the numeric code for each country along with the year to join the datasets."
   ]
  },
  {
   "cell_type": "code",
   "execution_count": 126,
   "id": "33cad540",
   "metadata": {},
   "outputs": [
    {
     "data": {
      "text/html": [
       "<div><style>\n",
       ".dataframe > thead > tr,\n",
       ".dataframe > tbody > tr {\n",
       "  text-align: right;\n",
       "  white-space: pre-wrap;\n",
       "}\n",
       "</style>\n",
       "<small>shape: (17_064, 5)</small><table border=\"1\" class=\"dataframe\"><thead><tr><th>Country</th><th>NumericCode</th><th>AlphaCode</th><th>Year</th><th>Population-Thousands</th></tr><tr><td>str</td><td>i64</td><td>str</td><td>i64</td><td>f64</td></tr></thead><tbody><tr><td>&quot;Burundi&quot;</td><td>108</td><td>&quot;BDI&quot;</td><td>1950</td><td>2229.322</td></tr><tr><td>&quot;Burundi&quot;</td><td>108</td><td>&quot;BDI&quot;</td><td>1951</td><td>2278.903</td></tr><tr><td>&quot;Burundi&quot;</td><td>108</td><td>&quot;BDI&quot;</td><td>1952</td><td>2327.593</td></tr><tr><td>&quot;Burundi&quot;</td><td>108</td><td>&quot;BDI&quot;</td><td>1953</td><td>2375.478</td></tr><tr><td>&quot;Burundi&quot;</td><td>108</td><td>&quot;BDI&quot;</td><td>1954</td><td>2422.721</td></tr><tr><td>&hellip;</td><td>&hellip;</td><td>&hellip;</td><td>&hellip;</td><td>&hellip;</td></tr><tr><td>&quot;Wallis and Futuna Islands&quot;</td><td>876</td><td>&quot;WLF&quot;</td><td>2017</td><td>12.002</td></tr><tr><td>&quot;Wallis and Futuna Islands&quot;</td><td>876</td><td>&quot;WLF&quot;</td><td>2018</td><td>11.87</td></tr><tr><td>&quot;Wallis and Futuna Islands&quot;</td><td>876</td><td>&quot;WLF&quot;</td><td>2019</td><td>11.761</td></tr><tr><td>&quot;Wallis and Futuna Islands&quot;</td><td>876</td><td>&quot;WLF&quot;</td><td>2020</td><td>11.667</td></tr><tr><td>&quot;Wallis and Futuna Islands&quot;</td><td>876</td><td>&quot;WLF&quot;</td><td>2021</td><td>11.642</td></tr></tbody></table></div>"
      ],
      "text/plain": [
       "shape: (17_064, 5)\n",
       "┌───────────────────────────┬─────────────┬───────────┬──────┬──────────────────────┐\n",
       "│ Country                   ┆ NumericCode ┆ AlphaCode ┆ Year ┆ Population-Thousands │\n",
       "│ ---                       ┆ ---         ┆ ---       ┆ ---  ┆ ---                  │\n",
       "│ str                       ┆ i64         ┆ str       ┆ i64  ┆ f64                  │\n",
       "╞═══════════════════════════╪═════════════╪═══════════╪══════╪══════════════════════╡\n",
       "│ Burundi                   ┆ 108         ┆ BDI       ┆ 1950 ┆ 2229.322             │\n",
       "│ Burundi                   ┆ 108         ┆ BDI       ┆ 1951 ┆ 2278.903             │\n",
       "│ Burundi                   ┆ 108         ┆ BDI       ┆ 1952 ┆ 2327.593             │\n",
       "│ Burundi                   ┆ 108         ┆ BDI       ┆ 1953 ┆ 2375.478             │\n",
       "│ Burundi                   ┆ 108         ┆ BDI       ┆ 1954 ┆ 2422.721             │\n",
       "│ …                         ┆ …           ┆ …         ┆ …    ┆ …                    │\n",
       "│ Wallis and Futuna Islands ┆ 876         ┆ WLF       ┆ 2017 ┆ 12.002               │\n",
       "│ Wallis and Futuna Islands ┆ 876         ┆ WLF       ┆ 2018 ┆ 11.87                │\n",
       "│ Wallis and Futuna Islands ┆ 876         ┆ WLF       ┆ 2019 ┆ 11.761               │\n",
       "│ Wallis and Futuna Islands ┆ 876         ┆ WLF       ┆ 2020 ┆ 11.667               │\n",
       "│ Wallis and Futuna Islands ┆ 876         ┆ WLF       ┆ 2021 ┆ 11.642               │\n",
       "└───────────────────────────┴─────────────┴───────────┴──────┴──────────────────────┘"
      ]
     },
     "execution_count": 126,
     "metadata": {},
     "output_type": "execute_result"
    }
   ],
   "source": [
    "pop"
   ]
  },
  {
   "cell_type": "code",
   "execution_count": 127,
   "id": "76497308",
   "metadata": {},
   "outputs": [
    {
     "data": {
      "text/html": [
       "<div><style>\n",
       ".dataframe > thead > tr,\n",
       ".dataframe > tbody > tr {\n",
       "  text-align: right;\n",
       "  white-space: pre-wrap;\n",
       "}\n",
       "</style>\n",
       "<small>shape: (5_832, 7)</small><table border=\"1\" class=\"dataframe\"><thead><tr><th>country</th><th>countryCodeNum</th><th>year</th><th>receipts</th><th>expenditures</th><th>source_dataset</th><th>population</th></tr><tr><td>str</td><td>i64</td><td>i64</td><td>f64</td><td>f64</td><td>str</td><td>f64</td></tr></thead><tbody><tr><td>&quot;BURUNDI&quot;</td><td>108</td><td>1995</td><td>2.424994</td><td>25.0</td><td>&quot;unwto&quot;</td><td>5898.312</td></tr><tr><td>&quot;BURUNDI&quot;</td><td>108</td><td>1996</td><td>2.141381</td><td>12.0</td><td>&quot;unwto&quot;</td><td>5967.254</td></tr><tr><td>&quot;BURUNDI&quot;</td><td>108</td><td>1997</td><td>1.440072</td><td>4.0</td><td>&quot;unwto&quot;</td><td>5893.759</td></tr><tr><td>&quot;BURUNDI&quot;</td><td>108</td><td>1998</td><td>1.3</td><td>3.0</td><td>&quot;unwto&quot;</td><td>5953.965</td></tr><tr><td>&quot;BURUNDI&quot;</td><td>108</td><td>1999</td><td>1.2</td><td>2.0</td><td>&quot;unwto&quot;</td><td>6116.715</td></tr><tr><td>&hellip;</td><td>&hellip;</td><td>&hellip;</td><td>&hellip;</td><td>&hellip;</td><td>&hellip;</td><td>&hellip;</td></tr><tr><td>&quot;TUVALU&quot;</td><td>798</td><td>2017</td><td>6.7</td><td>10.1</td><td>&quot;unwto&quot;</td><td>10.839</td></tr><tr><td>&quot;TUVALU&quot;</td><td>798</td><td>2018</td><td>7.0</td><td>10.8</td><td>&quot;unwto&quot;</td><td>10.816</td></tr><tr><td>&quot;TUVALU&quot;</td><td>798</td><td>2019</td><td>8.7</td><td>9.8</td><td>&quot;unwto&quot;</td><td>10.914</td></tr><tr><td>&quot;TUVALU&quot;</td><td>798</td><td>2020</td><td>2.1</td><td>7.2</td><td>&quot;unwto&quot;</td><td>10.998</td></tr><tr><td>&quot;TUVALU&quot;</td><td>798</td><td>2021</td><td>1.0</td><td>7.4</td><td>&quot;unwto&quot;</td><td>11.14</td></tr></tbody></table></div>"
      ],
      "text/plain": [
       "shape: (5_832, 7)\n",
       "┌─────────┬────────────────┬──────┬──────────┬──────────────┬────────────────┬────────────┐\n",
       "│ country ┆ countryCodeNum ┆ year ┆ receipts ┆ expenditures ┆ source_dataset ┆ population │\n",
       "│ ---     ┆ ---            ┆ ---  ┆ ---      ┆ ---          ┆ ---            ┆ ---        │\n",
       "│ str     ┆ i64            ┆ i64  ┆ f64      ┆ f64          ┆ str            ┆ f64        │\n",
       "╞═════════╪════════════════╪══════╪══════════╪══════════════╪════════════════╪════════════╡\n",
       "│ BURUNDI ┆ 108            ┆ 1995 ┆ 2.424994 ┆ 25.0         ┆ unwto          ┆ 5898.312   │\n",
       "│ BURUNDI ┆ 108            ┆ 1996 ┆ 2.141381 ┆ 12.0         ┆ unwto          ┆ 5967.254   │\n",
       "│ BURUNDI ┆ 108            ┆ 1997 ┆ 1.440072 ┆ 4.0          ┆ unwto          ┆ 5893.759   │\n",
       "│ BURUNDI ┆ 108            ┆ 1998 ┆ 1.3      ┆ 3.0          ┆ unwto          ┆ 5953.965   │\n",
       "│ BURUNDI ┆ 108            ┆ 1999 ┆ 1.2      ┆ 2.0          ┆ unwto          ┆ 6116.715   │\n",
       "│ …       ┆ …              ┆ …    ┆ …        ┆ …            ┆ …              ┆ …          │\n",
       "│ TUVALU  ┆ 798            ┆ 2017 ┆ 6.7      ┆ 10.1         ┆ unwto          ┆ 10.839     │\n",
       "│ TUVALU  ┆ 798            ┆ 2018 ┆ 7.0      ┆ 10.8         ┆ unwto          ┆ 10.816     │\n",
       "│ TUVALU  ┆ 798            ┆ 2019 ┆ 8.7      ┆ 9.8          ┆ unwto          ┆ 10.914     │\n",
       "│ TUVALU  ┆ 798            ┆ 2020 ┆ 2.1      ┆ 7.2          ┆ unwto          ┆ 10.998     │\n",
       "│ TUVALU  ┆ 798            ┆ 2021 ┆ 1.0      ┆ 7.4          ┆ unwto          ┆ 11.14      │\n",
       "└─────────┴────────────────┴──────┴──────────┴──────────────┴────────────────┴────────────┘"
      ]
     },
     "execution_count": 127,
     "metadata": {},
     "output_type": "execute_result"
    }
   ],
   "source": [
    "unwto_renamed.join(\n",
    "    pop.select(\"NumericCode\", \"Year\", \"Population-Thousands\").rename(\n",
    "        {\n",
    "            \"NumericCode\": \"countryCodeNum\",\n",
    "            \"Year\": \"year\",\n",
    "            \"Population-Thousands\": \"population\",\n",
    "        }\n",
    "    ),\n",
    "    on=[\"countryCodeNum\", \"year\"],\n",
    ")"
   ]
  },
  {
   "cell_type": "markdown",
   "id": "6de5a6ad",
   "metadata": {},
   "source": [
    "You may have noticed that we lost some rows when we joined the population data. This is because some country codes in the UNWTO dataset did not have a matching country code in the UNPOP dataset. To avoid losing data, we can perform a **left** join instead, which keeps all rows from the UNWTO dataset and adds population data where available."
   ]
  },
  {
   "cell_type": "code",
   "execution_count": 128,
   "id": "968a13ce",
   "metadata": {},
   "outputs": [
    {
     "data": {
      "text/html": [
       "<div><style>\n",
       ".dataframe > thead > tr,\n",
       ".dataframe > tbody > tr {\n",
       "  text-align: right;\n",
       "  white-space: pre-wrap;\n",
       "}\n",
       "</style>\n",
       "<small>shape: (6_021, 7)</small><table border=\"1\" class=\"dataframe\"><thead><tr><th>country</th><th>countryCodeNum</th><th>year</th><th>receipts</th><th>expenditures</th><th>source_dataset</th><th>population</th></tr><tr><td>str</td><td>i64</td><td>i64</td><td>f64</td><td>f64</td><td>str</td><td>f64</td></tr></thead><tbody><tr><td>&quot;AFGHANISTAN&quot;</td><td>4</td><td>1995</td><td>null</td><td>null</td><td>&quot;unwto&quot;</td><td>16071.789</td></tr><tr><td>&quot;ALBANIA&quot;</td><td>8</td><td>1995</td><td>70.0</td><td>19.0</td><td>&quot;unwto&quot;</td><td>3289.96</td></tr><tr><td>&quot;ALGERIA&quot;</td><td>12</td><td>1995</td><td>32.0</td><td>186.0</td><td>&quot;unwto&quot;</td><td>28220.833</td></tr><tr><td>&quot;AMERICAN SAMOA&quot;</td><td>16</td><td>1995</td><td>null</td><td>null</td><td>&quot;unwto&quot;</td><td>52.853</td></tr><tr><td>&quot;ANDORRA&quot;</td><td>20</td><td>1995</td><td>null</td><td>null</td><td>&quot;unwto&quot;</td><td>61.983</td></tr><tr><td>&hellip;</td><td>&hellip;</td><td>&hellip;</td><td>&hellip;</td><td>&hellip;</td><td>&hellip;</td><td>&hellip;</td></tr><tr><td>&quot;VENEZUELA, BOLIVARIAN REPUBLIC…</td><td>862</td><td>2021</td><td>null</td><td>null</td><td>&quot;unwto&quot;</td><td>28352.075</td></tr><tr><td>&quot;VIET NAM&quot;</td><td>704</td><td>2021</td><td>149.0</td><td>3830.0</td><td>&quot;unwto&quot;</td><td>97093.774</td></tr><tr><td>&quot;YEMEN&quot;</td><td>886</td><td>2021</td><td>null</td><td>null</td><td>&quot;unwto&quot;</td><td>null</td></tr><tr><td>&quot;ZAMBIA&quot;</td><td>894</td><td>2021</td><td>393.0</td><td>430.0</td><td>&quot;unwto&quot;</td><td>19200.512</td></tr><tr><td>&quot;ZIMBABWE&quot;</td><td>716</td><td>2021</td><td>null</td><td>null</td><td>&quot;unwto&quot;</td><td>15834.106</td></tr></tbody></table></div>"
      ],
      "text/plain": [
       "shape: (6_021, 7)\n",
       "┌──────────────────┬────────────────┬──────┬──────────┬──────────────┬────────────────┬────────────┐\n",
       "│ country          ┆ countryCodeNum ┆ year ┆ receipts ┆ expenditures ┆ source_dataset ┆ population │\n",
       "│ ---              ┆ ---            ┆ ---  ┆ ---      ┆ ---          ┆ ---            ┆ ---        │\n",
       "│ str              ┆ i64            ┆ i64  ┆ f64      ┆ f64          ┆ str            ┆ f64        │\n",
       "╞══════════════════╪════════════════╪══════╪══════════╪══════════════╪════════════════╪════════════╡\n",
       "│ AFGHANISTAN      ┆ 4              ┆ 1995 ┆ null     ┆ null         ┆ unwto          ┆ 16071.789  │\n",
       "│ ALBANIA          ┆ 8              ┆ 1995 ┆ 70.0     ┆ 19.0         ┆ unwto          ┆ 3289.96    │\n",
       "│ ALGERIA          ┆ 12             ┆ 1995 ┆ 32.0     ┆ 186.0        ┆ unwto          ┆ 28220.833  │\n",
       "│ AMERICAN SAMOA   ┆ 16             ┆ 1995 ┆ null     ┆ null         ┆ unwto          ┆ 52.853     │\n",
       "│ ANDORRA          ┆ 20             ┆ 1995 ┆ null     ┆ null         ┆ unwto          ┆ 61.983     │\n",
       "│ …                ┆ …              ┆ …    ┆ …        ┆ …            ┆ …              ┆ …          │\n",
       "│ VENEZUELA,       ┆ 862            ┆ 2021 ┆ null     ┆ null         ┆ unwto          ┆ 28352.075  │\n",
       "│ BOLIVARIAN       ┆                ┆      ┆          ┆              ┆                ┆            │\n",
       "│ REPUBLIC…        ┆                ┆      ┆          ┆              ┆                ┆            │\n",
       "│ VIET NAM         ┆ 704            ┆ 2021 ┆ 149.0    ┆ 3830.0       ┆ unwto          ┆ 97093.774  │\n",
       "│ YEMEN            ┆ 886            ┆ 2021 ┆ null     ┆ null         ┆ unwto          ┆ null       │\n",
       "│ ZAMBIA           ┆ 894            ┆ 2021 ┆ 393.0    ┆ 430.0        ┆ unwto          ┆ 19200.512  │\n",
       "│ ZIMBABWE         ┆ 716            ┆ 2021 ┆ null     ┆ null         ┆ unwto          ┆ 15834.106  │\n",
       "└──────────────────┴────────────────┴──────┴──────────┴──────────────┴────────────────┴────────────┘"
      ]
     },
     "execution_count": 128,
     "metadata": {},
     "output_type": "execute_result"
    }
   ],
   "source": [
    "unwto_renamed.join(\n",
    "    pop.select(\"NumericCode\", \"Year\", \"Population-Thousands\").rename(\n",
    "        {\n",
    "            \"NumericCode\": \"countryCodeNum\",\n",
    "            \"Year\": \"year\",\n",
    "            \"Population-Thousands\": \"population\",\n",
    "        }\n",
    "    ),\n",
    "    on=[\"countryCodeNum\", \"year\"],\n",
    "    how=\"left\",\n",
    ")"
   ]
  },
  {
   "cell_type": "markdown",
   "id": "ee4f5158",
   "metadata": {},
   "source": [
    "Polars also supports right joins and outer joins. A right join keeps all rows from the right dataframe, while an outer join keeps all rows from both dataframes. In addition, it support an anti-join which tells us which rows in the left dataframe do not have a match in the right dataframe. Thus, we can find those countries for which the country codes did not match."
   ]
  },
  {
   "cell_type": "code",
   "execution_count": 129,
   "id": "df753cb7",
   "metadata": {},
   "outputs": [
    {
     "data": {
      "text/html": [
       "<div><style>\n",
       ".dataframe > thead > tr,\n",
       ".dataframe > tbody > tr {\n",
       "  text-align: right;\n",
       "  white-space: pre-wrap;\n",
       "}\n",
       "</style>\n",
       "<small>shape: (189, 6)</small><table border=\"1\" class=\"dataframe\"><thead><tr><th>country</th><th>countryCodeNum</th><th>year</th><th>receipts</th><th>expenditures</th><th>source_dataset</th></tr><tr><td>str</td><td>i64</td><td>i64</td><td>f64</td><td>f64</td><td>str</td></tr></thead><tbody><tr><td>&quot;ETHIOPIA&quot;</td><td>230</td><td>1995</td><td>177.0</td><td>30.0</td><td>&quot;unwto&quot;</td></tr><tr><td>&quot;GERMANY&quot;</td><td>280</td><td>1995</td><td>24053.0</td><td>66527.0</td><td>&quot;unwto&quot;</td></tr><tr><td>&quot;SABA&quot;</td><td>461</td><td>1995</td><td>null</td><td>null</td><td>&quot;unwto&quot;</td></tr><tr><td>&quot;SERBIA AND MONTENEGRO&quot;</td><td>891</td><td>1995</td><td>42.0</td><td>null</td><td>&quot;unwto&quot;</td></tr><tr><td>&quot;SINT EUSTATIUS&quot;</td><td>658</td><td>1995</td><td>null</td><td>null</td><td>&quot;unwto&quot;</td></tr><tr><td>&hellip;</td><td>&hellip;</td><td>&hellip;</td><td>&hellip;</td><td>&hellip;</td><td>&hellip;</td></tr><tr><td>&quot;SABA&quot;</td><td>461</td><td>2021</td><td>null</td><td>null</td><td>&quot;unwto&quot;</td></tr><tr><td>&quot;SERBIA AND MONTENEGRO&quot;</td><td>891</td><td>2021</td><td>null</td><td>null</td><td>&quot;unwto&quot;</td></tr><tr><td>&quot;SINT EUSTATIUS&quot;</td><td>658</td><td>2021</td><td>null</td><td>null</td><td>&quot;unwto&quot;</td></tr><tr><td>&quot;SUDAN&quot;</td><td>736</td><td>2021</td><td>1077.0</td><td>31.0</td><td>&quot;unwto&quot;</td></tr><tr><td>&quot;YEMEN&quot;</td><td>886</td><td>2021</td><td>null</td><td>null</td><td>&quot;unwto&quot;</td></tr></tbody></table></div>"
      ],
      "text/plain": [
       "shape: (189, 6)\n",
       "┌───────────────────────┬────────────────┬──────┬──────────┬──────────────┬────────────────┐\n",
       "│ country               ┆ countryCodeNum ┆ year ┆ receipts ┆ expenditures ┆ source_dataset │\n",
       "│ ---                   ┆ ---            ┆ ---  ┆ ---      ┆ ---          ┆ ---            │\n",
       "│ str                   ┆ i64            ┆ i64  ┆ f64      ┆ f64          ┆ str            │\n",
       "╞═══════════════════════╪════════════════╪══════╪══════════╪══════════════╪════════════════╡\n",
       "│ ETHIOPIA              ┆ 230            ┆ 1995 ┆ 177.0    ┆ 30.0         ┆ unwto          │\n",
       "│ GERMANY               ┆ 280            ┆ 1995 ┆ 24053.0  ┆ 66527.0      ┆ unwto          │\n",
       "│ SABA                  ┆ 461            ┆ 1995 ┆ null     ┆ null         ┆ unwto          │\n",
       "│ SERBIA AND MONTENEGRO ┆ 891            ┆ 1995 ┆ 42.0     ┆ null         ┆ unwto          │\n",
       "│ SINT EUSTATIUS        ┆ 658            ┆ 1995 ┆ null     ┆ null         ┆ unwto          │\n",
       "│ …                     ┆ …              ┆ …    ┆ …        ┆ …            ┆ …              │\n",
       "│ SABA                  ┆ 461            ┆ 2021 ┆ null     ┆ null         ┆ unwto          │\n",
       "│ SERBIA AND MONTENEGRO ┆ 891            ┆ 2021 ┆ null     ┆ null         ┆ unwto          │\n",
       "│ SINT EUSTATIUS        ┆ 658            ┆ 2021 ┆ null     ┆ null         ┆ unwto          │\n",
       "│ SUDAN                 ┆ 736            ┆ 2021 ┆ 1077.0   ┆ 31.0         ┆ unwto          │\n",
       "│ YEMEN                 ┆ 886            ┆ 2021 ┆ null     ┆ null         ┆ unwto          │\n",
       "└───────────────────────┴────────────────┴──────┴──────────┴──────────────┴────────────────┘"
      ]
     },
     "execution_count": 129,
     "metadata": {},
     "output_type": "execute_result"
    }
   ],
   "source": [
    "unwto_renamed.join(\n",
    "    pop.select(\"NumericCode\", \"Year\", \"Population-Thousands\").rename(\n",
    "        {\n",
    "            \"NumericCode\": \"countryCodeNum\",\n",
    "            \"Year\": \"year\",\n",
    "            \"Population-Thousands\": \"population\",\n",
    "        }\n",
    "    ),\n",
    "    on=[\"countryCodeNum\", \"year\"],\n",
    "    how=\"anti\",\n",
    ")"
   ]
  },
  {
   "cell_type": "markdown",
   "id": "c0762d4e",
   "metadata": {},
   "source": [
    "### Entity Resolution\n",
    "\n",
    "We will revisit the integration of population data after fusing the three datasets together. For now, we want to use this population data for its country code mapping information. The UNPOP dataset has both the numeric and alphabetic country codes, along with the country name. This will allow us to identify the same countries across datasets. Let's create a dataframe with these codes."
   ]
  },
  {
   "cell_type": "code",
   "execution_count": 130,
   "id": "234bd987",
   "metadata": {},
   "outputs": [
    {
     "data": {
      "text/html": [
       "<div><style>\n",
       ".dataframe > thead > tr,\n",
       ".dataframe > tbody > tr {\n",
       "  text-align: right;\n",
       "  white-space: pre-wrap;\n",
       "}\n",
       "</style>\n",
       "<small>shape: (237, 3)</small><table border=\"1\" class=\"dataframe\"><thead><tr><th>country</th><th>countryCodeNum</th><th>countryCodeAlpha</th></tr><tr><td>str</td><td>i64</td><td>str</td></tr></thead><tbody><tr><td>&quot;KOSOVO (UNDER UNSC RES. 1244)&quot;</td><td>412</td><td>&quot;XKX&quot;</td></tr><tr><td>&quot;FRENCH GUIANA&quot;</td><td>254</td><td>&quot;GUF&quot;</td></tr><tr><td>&quot;BURKINA FASO&quot;</td><td>854</td><td>&quot;BFA&quot;</td></tr><tr><td>&quot;WALLIS AND FUTUNA ISLANDS&quot;</td><td>876</td><td>&quot;WLF&quot;</td></tr><tr><td>&quot;LIBERIA&quot;</td><td>430</td><td>&quot;LBR&quot;</td></tr><tr><td>&hellip;</td><td>&hellip;</td><td>&hellip;</td></tr><tr><td>&quot;TURKS AND CAICOS ISLANDS&quot;</td><td>796</td><td>&quot;TCA&quot;</td></tr><tr><td>&quot;PUERTO RICO&quot;</td><td>630</td><td>&quot;PRI&quot;</td></tr><tr><td>&quot;COSTA RICA&quot;</td><td>188</td><td>&quot;CRI&quot;</td></tr><tr><td>&quot;BRUNEI DARUSSALAM&quot;</td><td>96</td><td>&quot;BRN&quot;</td></tr><tr><td>&quot;COLOMBIA&quot;</td><td>170</td><td>&quot;COL&quot;</td></tr></tbody></table></div>"
      ],
      "text/plain": [
       "shape: (237, 3)\n",
       "┌───────────────────────────────┬────────────────┬──────────────────┐\n",
       "│ country                       ┆ countryCodeNum ┆ countryCodeAlpha │\n",
       "│ ---                           ┆ ---            ┆ ---              │\n",
       "│ str                           ┆ i64            ┆ str              │\n",
       "╞═══════════════════════════════╪════════════════╪══════════════════╡\n",
       "│ KOSOVO (UNDER UNSC RES. 1244) ┆ 412            ┆ XKX              │\n",
       "│ FRENCH GUIANA                 ┆ 254            ┆ GUF              │\n",
       "│ BURKINA FASO                  ┆ 854            ┆ BFA              │\n",
       "│ WALLIS AND FUTUNA ISLANDS     ┆ 876            ┆ WLF              │\n",
       "│ LIBERIA                       ┆ 430            ┆ LBR              │\n",
       "│ …                             ┆ …              ┆ …                │\n",
       "│ TURKS AND CAICOS ISLANDS      ┆ 796            ┆ TCA              │\n",
       "│ PUERTO RICO                   ┆ 630            ┆ PRI              │\n",
       "│ COSTA RICA                    ┆ 188            ┆ CRI              │\n",
       "│ BRUNEI DARUSSALAM             ┆ 96             ┆ BRN              │\n",
       "│ COLOMBIA                      ┆ 170            ┆ COL              │\n",
       "└───────────────────────────────┴────────────────┴──────────────────┘"
      ]
     },
     "execution_count": 130,
     "metadata": {},
     "output_type": "execute_result"
    }
   ],
   "source": [
    "country_codes = (\n",
    "    pop.select(\n",
    "        pl.col(\"Country\").str.to_uppercase(), pl.col(\"NumericCode\"), pl.col(\"AlphaCode\")\n",
    "    )\n",
    "    .rename(\n",
    "        {\n",
    "            \"Country\": \"country\",\n",
    "            \"AlphaCode\": \"countryCodeAlpha\",\n",
    "            \"NumericCode\": \"countryCodeNum\",\n",
    "        }\n",
    "    )\n",
    "    .unique()\n",
    ")"
   ]
  },
  {
   "cell_type": "markdown",
   "id": "cebf28b5",
   "metadata": {},
   "source": [
    "Now we try to resolve both the UNWTO and WB dataframe with the available information. UNWTO has numeric country codes while WB uses the alphabetic country codes. We will again use left joins to add the missing country codes to each dataset."
   ]
  },
  {
   "cell_type": "code",
   "execution_count": 131,
   "id": "cea35c4a",
   "metadata": {},
   "outputs": [
    {
     "data": {
      "text/html": [
       "<div><style>\n",
       ".dataframe > thead > tr,\n",
       ".dataframe > tbody > tr {\n",
       "  text-align: right;\n",
       "  white-space: pre-wrap;\n",
       "}\n",
       "</style>\n",
       "<small>shape: (6_021, 8)</small><table border=\"1\" class=\"dataframe\"><thead><tr><th>country</th><th>countryCodeNum</th><th>year</th><th>receipts</th><th>expenditures</th><th>source_dataset</th><th>country_right</th><th>countryCodeAlpha</th></tr><tr><td>str</td><td>i64</td><td>i64</td><td>f64</td><td>f64</td><td>str</td><td>str</td><td>str</td></tr></thead><tbody><tr><td>&quot;AFGHANISTAN&quot;</td><td>4</td><td>1995</td><td>null</td><td>null</td><td>&quot;unwto&quot;</td><td>&quot;AFGHANISTAN&quot;</td><td>&quot;AFG&quot;</td></tr><tr><td>&quot;ALBANIA&quot;</td><td>8</td><td>1995</td><td>70.0</td><td>19.0</td><td>&quot;unwto&quot;</td><td>&quot;ALBANIA&quot;</td><td>&quot;ALB&quot;</td></tr><tr><td>&quot;ALGERIA&quot;</td><td>12</td><td>1995</td><td>32.0</td><td>186.0</td><td>&quot;unwto&quot;</td><td>&quot;ALGERIA&quot;</td><td>&quot;DZA&quot;</td></tr><tr><td>&quot;AMERICAN SAMOA&quot;</td><td>16</td><td>1995</td><td>null</td><td>null</td><td>&quot;unwto&quot;</td><td>&quot;AMERICAN SAMOA&quot;</td><td>&quot;ASM&quot;</td></tr><tr><td>&quot;ANDORRA&quot;</td><td>20</td><td>1995</td><td>null</td><td>null</td><td>&quot;unwto&quot;</td><td>&quot;ANDORRA&quot;</td><td>&quot;AND&quot;</td></tr><tr><td>&hellip;</td><td>&hellip;</td><td>&hellip;</td><td>&hellip;</td><td>&hellip;</td><td>&hellip;</td><td>&hellip;</td><td>&hellip;</td></tr><tr><td>&quot;VENEZUELA, BOLIVARIAN REPUBLIC…</td><td>862</td><td>2021</td><td>null</td><td>null</td><td>&quot;unwto&quot;</td><td>&quot;VENEZUELA (BOLIVARIAN REPUBLIC…</td><td>&quot;VEN&quot;</td></tr><tr><td>&quot;VIET NAM&quot;</td><td>704</td><td>2021</td><td>149.0</td><td>3830.0</td><td>&quot;unwto&quot;</td><td>&quot;VIET NAM&quot;</td><td>&quot;VNM&quot;</td></tr><tr><td>&quot;YEMEN&quot;</td><td>886</td><td>2021</td><td>null</td><td>null</td><td>&quot;unwto&quot;</td><td>null</td><td>null</td></tr><tr><td>&quot;ZAMBIA&quot;</td><td>894</td><td>2021</td><td>393.0</td><td>430.0</td><td>&quot;unwto&quot;</td><td>&quot;ZAMBIA&quot;</td><td>&quot;ZMB&quot;</td></tr><tr><td>&quot;ZIMBABWE&quot;</td><td>716</td><td>2021</td><td>null</td><td>null</td><td>&quot;unwto&quot;</td><td>&quot;ZIMBABWE&quot;</td><td>&quot;ZWE&quot;</td></tr></tbody></table></div>"
      ],
      "text/plain": [
       "shape: (6_021, 8)\n",
       "┌─────────────┬─────────────┬──────┬──────────┬─────────────┬────────────┬────────────┬────────────┐\n",
       "│ country     ┆ countryCode ┆ year ┆ receipts ┆ expenditure ┆ source_dat ┆ country_ri ┆ countryCod │\n",
       "│ ---         ┆ Num         ┆ ---  ┆ ---      ┆ s           ┆ aset       ┆ ght        ┆ eAlpha     │\n",
       "│ str         ┆ ---         ┆ i64  ┆ f64      ┆ ---         ┆ ---        ┆ ---        ┆ ---        │\n",
       "│             ┆ i64         ┆      ┆          ┆ f64         ┆ str        ┆ str        ┆ str        │\n",
       "╞═════════════╪═════════════╪══════╪══════════╪═════════════╪════════════╪════════════╪════════════╡\n",
       "│ AFGHANISTAN ┆ 4           ┆ 1995 ┆ null     ┆ null        ┆ unwto      ┆ AFGHANISTA ┆ AFG        │\n",
       "│             ┆             ┆      ┆          ┆             ┆            ┆ N          ┆            │\n",
       "│ ALBANIA     ┆ 8           ┆ 1995 ┆ 70.0     ┆ 19.0        ┆ unwto      ┆ ALBANIA    ┆ ALB        │\n",
       "│ ALGERIA     ┆ 12          ┆ 1995 ┆ 32.0     ┆ 186.0       ┆ unwto      ┆ ALGERIA    ┆ DZA        │\n",
       "│ AMERICAN    ┆ 16          ┆ 1995 ┆ null     ┆ null        ┆ unwto      ┆ AMERICAN   ┆ ASM        │\n",
       "│ SAMOA       ┆             ┆      ┆          ┆             ┆            ┆ SAMOA      ┆            │\n",
       "│ ANDORRA     ┆ 20          ┆ 1995 ┆ null     ┆ null        ┆ unwto      ┆ ANDORRA    ┆ AND        │\n",
       "│ …           ┆ …           ┆ …    ┆ …        ┆ …           ┆ …          ┆ …          ┆ …          │\n",
       "│ VENEZUELA,  ┆ 862         ┆ 2021 ┆ null     ┆ null        ┆ unwto      ┆ VENEZUELA  ┆ VEN        │\n",
       "│ BOLIVARIAN  ┆             ┆      ┆          ┆             ┆            ┆ (BOLIVARIA ┆            │\n",
       "│ REPUBLIC…   ┆             ┆      ┆          ┆             ┆            ┆ N          ┆            │\n",
       "│             ┆             ┆      ┆          ┆             ┆            ┆ REPUBLIC…  ┆            │\n",
       "│ VIET NAM    ┆ 704         ┆ 2021 ┆ 149.0    ┆ 3830.0      ┆ unwto      ┆ VIET NAM   ┆ VNM        │\n",
       "│ YEMEN       ┆ 886         ┆ 2021 ┆ null     ┆ null        ┆ unwto      ┆ null       ┆ null       │\n",
       "│ ZAMBIA      ┆ 894         ┆ 2021 ┆ 393.0    ┆ 430.0       ┆ unwto      ┆ ZAMBIA     ┆ ZMB        │\n",
       "│ ZIMBABWE    ┆ 716         ┆ 2021 ┆ null     ┆ null        ┆ unwto      ┆ ZIMBABWE   ┆ ZWE        │\n",
       "└─────────────┴─────────────┴──────┴──────────┴─────────────┴────────────┴────────────┴────────────┘"
      ]
     },
     "execution_count": 131,
     "metadata": {},
     "output_type": "execute_result"
    }
   ],
   "source": [
    "unwto_resolved = unwto_renamed.join(country_codes, on=\"countryCodeNum\", how=\"left\")"
   ]
  },
  {
   "cell_type": "code",
   "execution_count": 132,
   "id": "b9f94d1b",
   "metadata": {},
   "outputs": [
    {
     "data": {
      "text/html": [
       "<div><style>\n",
       ".dataframe > thead > tr,\n",
       ".dataframe > tbody > tr {\n",
       "  text-align: right;\n",
       "  white-space: pre-wrap;\n",
       "}\n",
       "</style>\n",
       "<small>shape: (16_492, 8)</small><table border=\"1\" class=\"dataframe\"><thead><tr><th>country</th><th>countryCodeAlpha</th><th>year</th><th>receipts</th><th>expenditures</th><th>source_dataset</th><th>country_right</th><th>countryCodeNum</th></tr><tr><td>str</td><td>str</td><td>i64</td><td>f64</td><td>f64</td><td>str</td><td>str</td><td>i64</td></tr></thead><tbody><tr><td>&quot;Sub-Saharan Africa&quot;</td><td>&quot;SSF&quot;</td><td>1976</td><td>null</td><td>null</td><td>&quot;wb&quot;</td><td>null</td><td>null</td></tr><tr><td>&quot;Korea, Rep.&quot;</td><td>&quot;KOR&quot;</td><td>1999</td><td>8337.0</td><td>null</td><td>&quot;wb&quot;</td><td>&quot;REPUBLIC OF KOREA&quot;</td><td>410</td></tr><tr><td>&quot;Russian Federation&quot;</td><td>&quot;RUS&quot;</td><td>2015</td><td>13186.0</td><td>null</td><td>&quot;wb&quot;</td><td>&quot;RUSSIAN FEDERATION&quot;</td><td>643</td></tr><tr><td>&quot;Dominica&quot;</td><td>&quot;DMA&quot;</td><td>1979</td><td>null</td><td>null</td><td>&quot;wb&quot;</td><td>&quot;DOMINICA&quot;</td><td>212</td></tr><tr><td>&quot;Angola&quot;</td><td>&quot;AGO&quot;</td><td>2017</td><td>884.0</td><td>null</td><td>&quot;wb&quot;</td><td>&quot;ANGOLA&quot;</td><td>24</td></tr><tr><td>&hellip;</td><td>&hellip;</td><td>&hellip;</td><td>&hellip;</td><td>&hellip;</td><td>&hellip;</td><td>&hellip;</td><td>&hellip;</td></tr><tr><td>&quot;Botswana&quot;</td><td>&quot;BWA&quot;</td><td>2008</td><td>510.700012</td><td>null</td><td>&quot;wb&quot;</td><td>&quot;BOTSWANA&quot;</td><td>72</td></tr><tr><td>&quot;Poland&quot;</td><td>&quot;POL&quot;</td><td>1974</td><td>null</td><td>null</td><td>&quot;wb&quot;</td><td>&quot;POLAND&quot;</td><td>616</td></tr><tr><td>&quot;Late-demographic dividend&quot;</td><td>&quot;LTE&quot;</td><td>1986</td><td>null</td><td>null</td><td>&quot;wb&quot;</td><td>null</td><td>null</td></tr><tr><td>&quot;Papua New Guinea&quot;</td><td>&quot;PNG&quot;</td><td>2008</td><td>3.7</td><td>null</td><td>&quot;wb&quot;</td><td>&quot;PAPUA NEW GUINEA&quot;</td><td>598</td></tr><tr><td>&quot;Samoa&quot;</td><td>&quot;WSM&quot;</td><td>1997</td><td>38.511845</td><td>null</td><td>&quot;wb&quot;</td><td>&quot;SAMOA&quot;</td><td>882</td></tr></tbody></table></div>"
      ],
      "text/plain": [
       "shape: (16_492, 8)\n",
       "┌─────────────┬────────────┬──────┬────────────┬────────────┬────────────┬────────────┬────────────┐\n",
       "│ country     ┆ countryCod ┆ year ┆ receipts   ┆ expenditur ┆ source_dat ┆ country_ri ┆ countryCod │\n",
       "│ ---         ┆ eAlpha     ┆ ---  ┆ ---        ┆ es         ┆ aset       ┆ ght        ┆ eNum       │\n",
       "│ str         ┆ ---        ┆ i64  ┆ f64        ┆ ---        ┆ ---        ┆ ---        ┆ ---        │\n",
       "│             ┆ str        ┆      ┆            ┆ f64        ┆ str        ┆ str        ┆ i64        │\n",
       "╞═════════════╪════════════╪══════╪════════════╪════════════╪════════════╪════════════╪════════════╡\n",
       "│ Sub-Saharan ┆ SSF        ┆ 1976 ┆ null       ┆ null       ┆ wb         ┆ null       ┆ null       │\n",
       "│ Africa      ┆            ┆      ┆            ┆            ┆            ┆            ┆            │\n",
       "│ Korea, Rep. ┆ KOR        ┆ 1999 ┆ 8337.0     ┆ null       ┆ wb         ┆ REPUBLIC   ┆ 410        │\n",
       "│             ┆            ┆      ┆            ┆            ┆            ┆ OF KOREA   ┆            │\n",
       "│ Russian     ┆ RUS        ┆ 2015 ┆ 13186.0    ┆ null       ┆ wb         ┆ RUSSIAN    ┆ 643        │\n",
       "│ Federation  ┆            ┆      ┆            ┆            ┆            ┆ FEDERATION ┆            │\n",
       "│ Dominica    ┆ DMA        ┆ 1979 ┆ null       ┆ null       ┆ wb         ┆ DOMINICA   ┆ 212        │\n",
       "│ Angola      ┆ AGO        ┆ 2017 ┆ 884.0      ┆ null       ┆ wb         ┆ ANGOLA     ┆ 24         │\n",
       "│ …           ┆ …          ┆ …    ┆ …          ┆ …          ┆ …          ┆ …          ┆ …          │\n",
       "│ Botswana    ┆ BWA        ┆ 2008 ┆ 510.700012 ┆ null       ┆ wb         ┆ BOTSWANA   ┆ 72         │\n",
       "│ Poland      ┆ POL        ┆ 1974 ┆ null       ┆ null       ┆ wb         ┆ POLAND     ┆ 616        │\n",
       "│ Late-demogr ┆ LTE        ┆ 1986 ┆ null       ┆ null       ┆ wb         ┆ null       ┆ null       │\n",
       "│ aphic       ┆            ┆      ┆            ┆            ┆            ┆            ┆            │\n",
       "│ dividend    ┆            ┆      ┆            ┆            ┆            ┆            ┆            │\n",
       "│ Papua New   ┆ PNG        ┆ 2008 ┆ 3.7        ┆ null       ┆ wb         ┆ PAPUA NEW  ┆ 598        │\n",
       "│ Guinea      ┆            ┆      ┆            ┆            ┆            ┆ GUINEA     ┆            │\n",
       "│ Samoa       ┆ WSM        ┆ 1997 ┆ 38.511845  ┆ null       ┆ wb         ┆ SAMOA      ┆ 882        │\n",
       "└─────────────┴────────────┴──────┴────────────┴────────────┴────────────┴────────────┴────────────┘"
      ]
     },
     "execution_count": 132,
     "metadata": {},
     "output_type": "execute_result"
    }
   ],
   "source": [
    "wb_resolved = wb_renamed.join(country_codes, on=\"countryCodeAlpha\", how=\"left\")"
   ]
  },
  {
   "cell_type": "markdown",
   "id": "9291382a",
   "metadata": {},
   "source": [
    "Now, even though the UNWTO and WB used different codes, our country code mapping allows us to align both datasets to use the same codes."
   ]
  },
  {
   "cell_type": "code",
   "execution_count": 133,
   "id": "eeb39b04",
   "metadata": {},
   "outputs": [
    {
     "data": {
      "text/html": [
       "<div><style>\n",
       ".dataframe > thead > tr,\n",
       ".dataframe > tbody > tr {\n",
       "  text-align: right;\n",
       "  white-space: pre-wrap;\n",
       "}\n",
       "</style>\n",
       "<small>shape: (5_562, 12)</small><table border=\"1\" class=\"dataframe\"><thead><tr><th>country</th><th>countryCodeNum</th><th>year</th><th>receipts</th><th>expenditures</th><th>source_dataset</th><th>countryCodeAlpha</th><th>country_right</th><th>countryCodeAlpha_right</th><th>receipts_right</th><th>expenditures_right</th><th>source_dataset_right</th></tr><tr><td>str</td><td>i64</td><td>i64</td><td>f64</td><td>f64</td><td>str</td><td>str</td><td>str</td><td>str</td><td>f64</td><td>f64</td><td>str</td></tr></thead><tbody><tr><td>&quot;KOREA, REPUBLIC OF&quot;</td><td>410</td><td>1999</td><td>8337.0</td><td>5555.0</td><td>&quot;unwto&quot;</td><td>&quot;KOR&quot;</td><td>&quot;Korea, Rep.&quot;</td><td>&quot;KOR&quot;</td><td>8337.0</td><td>null</td><td>&quot;wb&quot;</td></tr><tr><td>&quot;RUSSIAN FEDERATION&quot;</td><td>643</td><td>2015</td><td>13186.0</td><td>38432.0</td><td>&quot;unwto&quot;</td><td>&quot;RUS&quot;</td><td>&quot;Russian Federation&quot;</td><td>&quot;RUS&quot;</td><td>13186.0</td><td>null</td><td>&quot;wb&quot;</td></tr><tr><td>&quot;ANGOLA&quot;</td><td>24</td><td>2017</td><td>884.0</td><td>1216.0</td><td>&quot;unwto&quot;</td><td>&quot;AGO&quot;</td><td>&quot;Angola&quot;</td><td>&quot;AGO&quot;</td><td>884.0</td><td>null</td><td>&quot;wb&quot;</td></tr><tr><td>&quot;GABON&quot;</td><td>266</td><td>2004</td><td>74.0</td><td>275.0</td><td>&quot;unwto&quot;</td><td>&quot;GAB&quot;</td><td>&quot;Gabon&quot;</td><td>&quot;GAB&quot;</td><td>74.0</td><td>null</td><td>&quot;wb&quot;</td></tr><tr><td>&quot;AUSTRIA&quot;</td><td>40</td><td>2009</td><td>19168.0</td><td>10826.0</td><td>&quot;unwto&quot;</td><td>&quot;AUT&quot;</td><td>&quot;Austria&quot;</td><td>&quot;AUT&quot;</td><td>null</td><td>null</td><td>&quot;wb&quot;</td></tr><tr><td>&hellip;</td><td>&hellip;</td><td>&hellip;</td><td>&hellip;</td><td>&hellip;</td><td>&hellip;</td><td>&hellip;</td><td>&hellip;</td><td>&hellip;</td><td>&hellip;</td><td>&hellip;</td><td>&hellip;</td></tr><tr><td>&quot;URUGUAY&quot;</td><td>858</td><td>2012</td><td>2666.0</td><td>1043.0</td><td>&quot;unwto&quot;</td><td>&quot;URY&quot;</td><td>&quot;Uruguay&quot;</td><td>&quot;URY&quot;</td><td>2666.0</td><td>null</td><td>&quot;wb&quot;</td></tr><tr><td>&quot;BERMUDA&quot;</td><td>60</td><td>2013</td><td>447.0</td><td>322.0</td><td>&quot;unwto&quot;</td><td>&quot;BMU&quot;</td><td>&quot;Bermuda&quot;</td><td>&quot;BMU&quot;</td><td>447.0</td><td>null</td><td>&quot;wb&quot;</td></tr><tr><td>&quot;BOTSWANA&quot;</td><td>72</td><td>2008</td><td>510.7</td><td>229.7</td><td>&quot;unwto&quot;</td><td>&quot;BWA&quot;</td><td>&quot;Botswana&quot;</td><td>&quot;BWA&quot;</td><td>510.700012</td><td>null</td><td>&quot;wb&quot;</td></tr><tr><td>&quot;PAPUA NEW GUINEA&quot;</td><td>598</td><td>2008</td><td>3.7</td><td>75.0</td><td>&quot;unwto&quot;</td><td>&quot;PNG&quot;</td><td>&quot;Papua New Guinea&quot;</td><td>&quot;PNG&quot;</td><td>3.7</td><td>null</td><td>&quot;wb&quot;</td></tr><tr><td>&quot;SAMOA&quot;</td><td>882</td><td>1997</td><td>38.511844</td><td>11.7</td><td>&quot;unwto&quot;</td><td>&quot;WSM&quot;</td><td>&quot;Samoa&quot;</td><td>&quot;WSM&quot;</td><td>38.511845</td><td>null</td><td>&quot;wb&quot;</td></tr></tbody></table></div>"
      ],
      "text/plain": [
       "shape: (5_562, 12)\n",
       "┌────────────┬────────────┬──────┬───────────┬───┬────────────┬────────────┬───────────┬───────────┐\n",
       "│ country    ┆ countryCod ┆ year ┆ receipts  ┆ … ┆ countryCod ┆ receipts_r ┆ expenditu ┆ source_da │\n",
       "│ ---        ┆ eNum       ┆ ---  ┆ ---       ┆   ┆ eAlpha_rig ┆ ight       ┆ res_right ┆ taset_rig │\n",
       "│ str        ┆ ---        ┆ i64  ┆ f64       ┆   ┆ ht         ┆ ---        ┆ ---       ┆ ht        │\n",
       "│            ┆ i64        ┆      ┆           ┆   ┆ ---        ┆ f64        ┆ f64       ┆ ---       │\n",
       "│            ┆            ┆      ┆           ┆   ┆ str        ┆            ┆           ┆ str       │\n",
       "╞════════════╪════════════╪══════╪═══════════╪═══╪════════════╪════════════╪═══════════╪═══════════╡\n",
       "│ KOREA,     ┆ 410        ┆ 1999 ┆ 8337.0    ┆ … ┆ KOR        ┆ 8337.0     ┆ null      ┆ wb        │\n",
       "│ REPUBLIC   ┆            ┆      ┆           ┆   ┆            ┆            ┆           ┆           │\n",
       "│ OF         ┆            ┆      ┆           ┆   ┆            ┆            ┆           ┆           │\n",
       "│ RUSSIAN    ┆ 643        ┆ 2015 ┆ 13186.0   ┆ … ┆ RUS        ┆ 13186.0    ┆ null      ┆ wb        │\n",
       "│ FEDERATION ┆            ┆      ┆           ┆   ┆            ┆            ┆           ┆           │\n",
       "│ ANGOLA     ┆ 24         ┆ 2017 ┆ 884.0     ┆ … ┆ AGO        ┆ 884.0      ┆ null      ┆ wb        │\n",
       "│ GABON      ┆ 266        ┆ 2004 ┆ 74.0      ┆ … ┆ GAB        ┆ 74.0       ┆ null      ┆ wb        │\n",
       "│ AUSTRIA    ┆ 40         ┆ 2009 ┆ 19168.0   ┆ … ┆ AUT        ┆ null       ┆ null      ┆ wb        │\n",
       "│ …          ┆ …          ┆ …    ┆ …         ┆ … ┆ …          ┆ …          ┆ …         ┆ …         │\n",
       "│ URUGUAY    ┆ 858        ┆ 2012 ┆ 2666.0    ┆ … ┆ URY        ┆ 2666.0     ┆ null      ┆ wb        │\n",
       "│ BERMUDA    ┆ 60         ┆ 2013 ┆ 447.0     ┆ … ┆ BMU        ┆ 447.0      ┆ null      ┆ wb        │\n",
       "│ BOTSWANA   ┆ 72         ┆ 2008 ┆ 510.7     ┆ … ┆ BWA        ┆ 510.700012 ┆ null      ┆ wb        │\n",
       "│ PAPUA NEW  ┆ 598        ┆ 2008 ┆ 3.7       ┆ … ┆ PNG        ┆ 3.7        ┆ null      ┆ wb        │\n",
       "│ GUINEA     ┆            ┆      ┆           ┆   ┆            ┆            ┆           ┆           │\n",
       "│ SAMOA      ┆ 882        ┆ 1997 ┆ 38.511844 ┆ … ┆ WSM        ┆ 38.511845  ┆ null      ┆ wb        │\n",
       "└────────────┴────────────┴──────┴───────────┴───┴────────────┴────────────┴───────────┴───────────┘"
      ]
     },
     "execution_count": 133,
     "metadata": {},
     "output_type": "execute_result"
    }
   ],
   "source": [
    "unwto_resolved.drop(\"country_right\").join(\n",
    "    wb_resolved.drop(\"country_right\"), on=[\"countryCodeNum\", \"year\"]\n",
    ")"
   ]
  },
  {
   "cell_type": "markdown",
   "id": "d44fcfdb",
   "metadata": {},
   "source": [
    "While this works, there are a few countries that we were not able to match. Let's look at the OECD dataset now. Here, we have neither of the codes, only the country name."
   ]
  },
  {
   "cell_type": "code",
   "execution_count": 134,
   "id": "ad0c03f0",
   "metadata": {},
   "outputs": [
    {
     "data": {
      "text/html": [
       "<div><style>\n",
       ".dataframe > thead > tr,\n",
       ".dataframe > tbody > tr {\n",
       "  text-align: right;\n",
       "  white-space: pre-wrap;\n",
       "}\n",
       "</style>\n",
       "<small>shape: (784, 7)</small><table border=\"1\" class=\"dataframe\"><thead><tr><th>country</th><th>year</th><th>receipts</th><th>expenditures</th><th>source_dataset</th><th>countryCodeNum</th><th>countryCodeAlpha</th></tr><tr><td>str</td><td>i64</td><td>f64</td><td>f64</td><td>str</td><td>i64</td><td>str</td></tr></thead><tbody><tr><td>&quot;Australia&quot;</td><td>2008</td><td>31159.8</td><td>27620.0</td><td>&quot;oecd&quot;</td><td>null</td><td>null</td></tr><tr><td>&quot;Austria&quot;</td><td>2008</td><td>21499.2</td><td>11309.9</td><td>&quot;oecd&quot;</td><td>null</td><td>null</td></tr><tr><td>&quot;Belgium&quot;</td><td>2008</td><td>13117.515</td><td>21525.615</td><td>&quot;oecd&quot;</td><td>null</td><td>null</td></tr><tr><td>&quot;Canada&quot;</td><td>2008</td><td>19603.8</td><td>34820.1</td><td>&quot;oecd&quot;</td><td>null</td><td>null</td></tr><tr><td>&quot;Chile&quot;</td><td>2008</td><td>2481.0</td><td>1386.0</td><td>&quot;oecd&quot;</td><td>null</td><td>null</td></tr><tr><td>&hellip;</td><td>&hellip;</td><td>&hellip;</td><td>&hellip;</td><td>&hellip;</td><td>&hellip;</td><td>&hellip;</td></tr><tr><td>&quot;Philippines&quot;</td><td>2021</td><td>null</td><td>null</td><td>&quot;oecd&quot;</td><td>null</td><td>null</td></tr><tr><td>&quot;Romania&quot;</td><td>2021</td><td>null</td><td>null</td><td>&quot;oecd&quot;</td><td>null</td><td>null</td></tr><tr><td>&quot;Russia&quot;</td><td>2021</td><td>null</td><td>null</td><td>&quot;oecd&quot;</td><td>null</td><td>null</td></tr><tr><td>&quot;Serbia&quot;</td><td>2021</td><td>null</td><td>null</td><td>&quot;oecd&quot;</td><td>null</td><td>null</td></tr><tr><td>&quot;South Africa&quot;</td><td>2021</td><td>2113.0</td><td>1669.0</td><td>&quot;oecd&quot;</td><td>null</td><td>null</td></tr></tbody></table></div>"
      ],
      "text/plain": [
       "shape: (784, 7)\n",
       "┌──────────────┬──────┬───────────┬──────────────┬────────────────┬────────────────┬───────────────┐\n",
       "│ country      ┆ year ┆ receipts  ┆ expenditures ┆ source_dataset ┆ countryCodeNum ┆ countryCodeAl │\n",
       "│ ---          ┆ ---  ┆ ---       ┆ ---          ┆ ---            ┆ ---            ┆ pha           │\n",
       "│ str          ┆ i64  ┆ f64       ┆ f64          ┆ str            ┆ i64            ┆ ---           │\n",
       "│              ┆      ┆           ┆              ┆                ┆                ┆ str           │\n",
       "╞══════════════╪══════╪═══════════╪══════════════╪════════════════╪════════════════╪═══════════════╡\n",
       "│ Australia    ┆ 2008 ┆ 31159.8   ┆ 27620.0      ┆ oecd           ┆ null           ┆ null          │\n",
       "│ Austria      ┆ 2008 ┆ 21499.2   ┆ 11309.9      ┆ oecd           ┆ null           ┆ null          │\n",
       "│ Belgium      ┆ 2008 ┆ 13117.515 ┆ 21525.615    ┆ oecd           ┆ null           ┆ null          │\n",
       "│ Canada       ┆ 2008 ┆ 19603.8   ┆ 34820.1      ┆ oecd           ┆ null           ┆ null          │\n",
       "│ Chile        ┆ 2008 ┆ 2481.0    ┆ 1386.0       ┆ oecd           ┆ null           ┆ null          │\n",
       "│ …            ┆ …    ┆ …         ┆ …            ┆ …              ┆ …              ┆ …             │\n",
       "│ Philippines  ┆ 2021 ┆ null      ┆ null         ┆ oecd           ┆ null           ┆ null          │\n",
       "│ Romania      ┆ 2021 ┆ null      ┆ null         ┆ oecd           ┆ null           ┆ null          │\n",
       "│ Russia       ┆ 2021 ┆ null      ┆ null         ┆ oecd           ┆ null           ┆ null          │\n",
       "│ Serbia       ┆ 2021 ┆ null      ┆ null         ┆ oecd           ┆ null           ┆ null          │\n",
       "│ South Africa ┆ 2021 ┆ 2113.0    ┆ 1669.0       ┆ oecd           ┆ null           ┆ null          │\n",
       "└──────────────┴──────┴───────────┴──────────────┴────────────────┴────────────────┴───────────────┘"
      ]
     },
     "execution_count": 134,
     "metadata": {},
     "output_type": "execute_result"
    }
   ],
   "source": [
    "oecd_resolved = oecd_renamed.join(\n",
    "    country_codes,\n",
    "    on=\"country\",\n",
    "    how=\"left\",\n",
    ")"
   ]
  },
  {
   "cell_type": "markdown",
   "id": "0d92deea",
   "metadata": {},
   "source": [
    "That did not work out well. There were no matches! If we look back at the codes, we might notice that all of the country names in our country codes mapping are in uppercase while the OECD dataset has mixed case country names. Let's convert the country names to uppercase in both datasets and try again."
   ]
  },
  {
   "cell_type": "code",
   "execution_count": 135,
   "id": "0da87857",
   "metadata": {},
   "outputs": [
    {
     "data": {
      "text/html": [
       "<div><style>\n",
       ".dataframe > thead > tr,\n",
       ".dataframe > tbody > tr {\n",
       "  text-align: right;\n",
       "  white-space: pre-wrap;\n",
       "}\n",
       "</style>\n",
       "<small>shape: (784, 7)</small><table border=\"1\" class=\"dataframe\"><thead><tr><th>country</th><th>year</th><th>receipts</th><th>expenditures</th><th>source_dataset</th><th>countryCodeNum</th><th>countryCodeAlpha</th></tr><tr><td>str</td><td>i64</td><td>f64</td><td>f64</td><td>str</td><td>i64</td><td>str</td></tr></thead><tbody><tr><td>&quot;AUSTRALIA&quot;</td><td>2008</td><td>31159.8</td><td>27620.0</td><td>&quot;oecd&quot;</td><td>36</td><td>&quot;AUS&quot;</td></tr><tr><td>&quot;AUSTRIA&quot;</td><td>2008</td><td>21499.2</td><td>11309.9</td><td>&quot;oecd&quot;</td><td>40</td><td>&quot;AUT&quot;</td></tr><tr><td>&quot;BELGIUM&quot;</td><td>2008</td><td>13117.515</td><td>21525.615</td><td>&quot;oecd&quot;</td><td>56</td><td>&quot;BEL&quot;</td></tr><tr><td>&quot;CANADA&quot;</td><td>2008</td><td>19603.8</td><td>34820.1</td><td>&quot;oecd&quot;</td><td>124</td><td>&quot;CAN&quot;</td></tr><tr><td>&quot;CHILE&quot;</td><td>2008</td><td>2481.0</td><td>1386.0</td><td>&quot;oecd&quot;</td><td>152</td><td>&quot;CHL&quot;</td></tr><tr><td>&hellip;</td><td>&hellip;</td><td>&hellip;</td><td>&hellip;</td><td>&hellip;</td><td>&hellip;</td><td>&hellip;</td></tr><tr><td>&quot;PHILIPPINES&quot;</td><td>2021</td><td>null</td><td>null</td><td>&quot;oecd&quot;</td><td>608</td><td>&quot;PHL&quot;</td></tr><tr><td>&quot;ROMANIA&quot;</td><td>2021</td><td>null</td><td>null</td><td>&quot;oecd&quot;</td><td>642</td><td>&quot;ROU&quot;</td></tr><tr><td>&quot;RUSSIA&quot;</td><td>2021</td><td>null</td><td>null</td><td>&quot;oecd&quot;</td><td>null</td><td>null</td></tr><tr><td>&quot;SERBIA&quot;</td><td>2021</td><td>null</td><td>null</td><td>&quot;oecd&quot;</td><td>688</td><td>&quot;SRB&quot;</td></tr><tr><td>&quot;SOUTH AFRICA&quot;</td><td>2021</td><td>2113.0</td><td>1669.0</td><td>&quot;oecd&quot;</td><td>710</td><td>&quot;ZAF&quot;</td></tr></tbody></table></div>"
      ],
      "text/plain": [
       "shape: (784, 7)\n",
       "┌──────────────┬──────┬───────────┬──────────────┬────────────────┬────────────────┬───────────────┐\n",
       "│ country      ┆ year ┆ receipts  ┆ expenditures ┆ source_dataset ┆ countryCodeNum ┆ countryCodeAl │\n",
       "│ ---          ┆ ---  ┆ ---       ┆ ---          ┆ ---            ┆ ---            ┆ pha           │\n",
       "│ str          ┆ i64  ┆ f64       ┆ f64          ┆ str            ┆ i64            ┆ ---           │\n",
       "│              ┆      ┆           ┆              ┆                ┆                ┆ str           │\n",
       "╞══════════════╪══════╪═══════════╪══════════════╪════════════════╪════════════════╪═══════════════╡\n",
       "│ AUSTRALIA    ┆ 2008 ┆ 31159.8   ┆ 27620.0      ┆ oecd           ┆ 36             ┆ AUS           │\n",
       "│ AUSTRIA      ┆ 2008 ┆ 21499.2   ┆ 11309.9      ┆ oecd           ┆ 40             ┆ AUT           │\n",
       "│ BELGIUM      ┆ 2008 ┆ 13117.515 ┆ 21525.615    ┆ oecd           ┆ 56             ┆ BEL           │\n",
       "│ CANADA       ┆ 2008 ┆ 19603.8   ┆ 34820.1      ┆ oecd           ┆ 124            ┆ CAN           │\n",
       "│ CHILE        ┆ 2008 ┆ 2481.0    ┆ 1386.0       ┆ oecd           ┆ 152            ┆ CHL           │\n",
       "│ …            ┆ …    ┆ …         ┆ …            ┆ …              ┆ …              ┆ …             │\n",
       "│ PHILIPPINES  ┆ 2021 ┆ null      ┆ null         ┆ oecd           ┆ 608            ┆ PHL           │\n",
       "│ ROMANIA      ┆ 2021 ┆ null      ┆ null         ┆ oecd           ┆ 642            ┆ ROU           │\n",
       "│ RUSSIA       ┆ 2021 ┆ null      ┆ null         ┆ oecd           ┆ null           ┆ null          │\n",
       "│ SERBIA       ┆ 2021 ┆ null      ┆ null         ┆ oecd           ┆ 688            ┆ SRB           │\n",
       "│ SOUTH AFRICA ┆ 2021 ┆ 2113.0    ┆ 1669.0       ┆ oecd           ┆ 710            ┆ ZAF           │\n",
       "└──────────────┴──────┴───────────┴──────────────┴────────────────┴────────────────┴───────────────┘"
      ]
     },
     "execution_count": 135,
     "metadata": {},
     "output_type": "execute_result"
    }
   ],
   "source": [
    "oecd_resolved = oecd_renamed.with_columns(pl.col(\"country\").str.to_uppercase()).join(\n",
    "    country_codes,\n",
    "    on=\"country\",\n",
    "    how=\"left\",\n",
    ")"
   ]
  },
  {
   "cell_type": "markdown",
   "id": "61fb5246",
   "metadata": {},
   "source": [
    "We can look at the countries that did not match using the anti-join."
   ]
  },
  {
   "cell_type": "code",
   "execution_count": 136,
   "id": "0c070f40",
   "metadata": {},
   "outputs": [
    {
     "data": {
      "text/html": [
       "<div><style>\n",
       ".dataframe > thead > tr,\n",
       ".dataframe > tbody > tr {\n",
       "  text-align: right;\n",
       "  white-space: pre-wrap;\n",
       "}\n",
       "</style>\n",
       "<small>shape: (7,)</small><table border=\"1\" class=\"dataframe\"><thead><tr><th>country</th></tr><tr><td>str</td></tr></thead><tbody><tr><td>&quot;KOREA&quot;</td></tr><tr><td>&quot;NON-OECD ECONOMIES&quot;</td></tr><tr><td>&quot;CZECH REPUBLIC&quot;</td></tr><tr><td>&quot;CHINA (PEOPLE&#x27;S REPUBLIC OF)&quot;</td></tr><tr><td>&quot;RUSSIA&quot;</td></tr><tr><td>&quot;SLOVAK REPUBLIC&quot;</td></tr><tr><td>&quot;UNITED STATES&quot;</td></tr></tbody></table></div>"
      ],
      "text/plain": [
       "shape: (7,)\n",
       "Series: 'country' [str]\n",
       "[\n",
       "\t\"KOREA\"\n",
       "\t\"NON-OECD ECONOMIES\"\n",
       "\t\"CZECH REPUBLIC\"\n",
       "\t\"CHINA (PEOPLE'S REPUBLIC OF)\"\n",
       "\t\"RUSSIA\"\n",
       "\t\"SLOVAK REPUBLIC\"\n",
       "\t\"UNITED STATES\"\n",
       "]"
      ]
     },
     "execution_count": 136,
     "metadata": {},
     "output_type": "execute_result"
    }
   ],
   "source": [
    "(\n",
    "    oecd_renamed.with_columns(pl.col(\"country\").str.to_uppercase())\n",
    "    .join(\n",
    "        country_codes,\n",
    "        on=\"country\",\n",
    "        how=\"anti\",\n",
    "    )[\"country\"]\n",
    "    .unique()\n",
    ")"
   ]
  },
  {
   "cell_type": "markdown",
   "id": "1c4d75c9",
   "metadata": {},
   "source": [
    "We can see that most of the countries do appear in the country codes mapping, but there are some discrepancies in naming conventions. For example, \"CZECH REPUBLIC\" in OECD is \"CZECHIA\" in the country codes mapping. For this handful of countries, we could manually create a mapping to fix these discrepancies."
   ]
  },
  {
   "cell_type": "markdown",
   "id": "c1505761",
   "metadata": {},
   "source": [
    "##### Exercise\n",
    "\n",
    "Create a mapping for the unmatched countries from the names in the OECD dataset to the corresponding names in the country codes mapping. Create a dictionary called `oecd_mapping` with these mappings."
   ]
  },
  {
   "cell_type": "markdown",
   "id": "68aa3a9a",
   "metadata": {},
   "source": [
    "##### Solution"
   ]
  },
  {
   "cell_type": "code",
   "execution_count": 137,
   "id": "f7189867",
   "metadata": {},
   "outputs": [
    {
     "data": {
      "text/html": [
       "<div><style>\n",
       ".dataframe > thead > tr,\n",
       ".dataframe > tbody > tr {\n",
       "  text-align: right;\n",
       "  white-space: pre-wrap;\n",
       "}\n",
       "</style>\n",
       "<small>shape: (11, 3)</small><table border=\"1\" class=\"dataframe\"><thead><tr><th>country</th><th>countryCodeNum</th><th>countryCodeAlpha</th></tr><tr><td>str</td><td>i64</td><td>str</td></tr></thead><tbody><tr><td>&quot;CHINA, TAIWAN PROVINCE OF CHINA&quot;</td><td>158</td><td>&quot;TWN&quot;</td></tr><tr><td>&quot;DEM. PEOPLE&#x27;S REPUBLIC OF KOREA&quot;</td><td>408</td><td>&quot;PRK&quot;</td></tr><tr><td>&quot;UNITED STATES OF AMERICA&quot;</td><td>840</td><td>&quot;USA&quot;</td></tr><tr><td>&quot;SLOVAKIA&quot;</td><td>703</td><td>&quot;SVK&quot;</td></tr><tr><td>&quot;CHINA, HONG KONG SAR&quot;</td><td>344</td><td>&quot;HKG&quot;</td></tr><tr><td>&quot;RUSSIAN FEDERATION&quot;</td><td>643</td><td>&quot;RUS&quot;</td></tr><tr><td>&quot;CHINA&quot;</td><td>156</td><td>&quot;CHN&quot;</td></tr><tr><td>&quot;CHINA, MACAO SAR&quot;</td><td>446</td><td>&quot;MAC&quot;</td></tr><tr><td>&quot;CZECHIA&quot;</td><td>203</td><td>&quot;CZE&quot;</td></tr><tr><td>&quot;REPUBLIC OF KOREA&quot;</td><td>410</td><td>&quot;KOR&quot;</td></tr><tr><td>&quot;UNITED STATES VIRGIN ISLANDS&quot;</td><td>850</td><td>&quot;VIR&quot;</td></tr></tbody></table></div>"
      ],
      "text/plain": [
       "shape: (11, 3)\n",
       "┌─────────────────────────────────┬────────────────┬──────────────────┐\n",
       "│ country                         ┆ countryCodeNum ┆ countryCodeAlpha │\n",
       "│ ---                             ┆ ---            ┆ ---              │\n",
       "│ str                             ┆ i64            ┆ str              │\n",
       "╞═════════════════════════════════╪════════════════╪══════════════════╡\n",
       "│ CHINA, TAIWAN PROVINCE OF CHINA ┆ 158            ┆ TWN              │\n",
       "│ DEM. PEOPLE'S REPUBLIC OF KOREA ┆ 408            ┆ PRK              │\n",
       "│ UNITED STATES OF AMERICA        ┆ 840            ┆ USA              │\n",
       "│ SLOVAKIA                        ┆ 703            ┆ SVK              │\n",
       "│ CHINA, HONG KONG SAR            ┆ 344            ┆ HKG              │\n",
       "│ RUSSIAN FEDERATION              ┆ 643            ┆ RUS              │\n",
       "│ CHINA                           ┆ 156            ┆ CHN              │\n",
       "│ CHINA, MACAO SAR                ┆ 446            ┆ MAC              │\n",
       "│ CZECHIA                         ┆ 203            ┆ CZE              │\n",
       "│ REPUBLIC OF KOREA               ┆ 410            ┆ KOR              │\n",
       "│ UNITED STATES VIRGIN ISLANDS    ┆ 850            ┆ VIR              │\n",
       "└─────────────────────────────────┴────────────────┴──────────────────┘"
      ]
     },
     "metadata": {},
     "output_type": "display_data"
    }
   ],
   "source": [
    "to_find = [\"KOREA\", \"RUSSIA\", \"CZECH\", \"UNITED STATES\", \"CHINA\", \"SLOVAK\"]\n",
    "with pl.Config(tbl_rows=20, fmt_str_lengths=100):\n",
    "    display(country_codes.filter(pl.col(\"country\").str.contains(\"|\".join(to_find))))"
   ]
  },
  {
   "cell_type": "code",
   "execution_count": 138,
   "id": "fb911542",
   "metadata": {},
   "outputs": [
    {
     "data": {
      "text/plain": [
       "{'REPUBLIC OF KOREA': 'KOREA',\n",
       " 'RUSSIAN FEDERATION': 'RUSSIA',\n",
       " 'CZECHIA': 'CZECH REPUBLIC',\n",
       " 'UNITED STATES OF AMERICA': 'UNITED STATES',\n",
       " 'CHINA': \"CHINA (PEOPLE'S REPUBLIC OF)\",\n",
       " 'SLOVAKIA': 'SLOVAK REPUBLIC'}"
      ]
     },
     "execution_count": 138,
     "metadata": {},
     "output_type": "execute_result"
    }
   ],
   "source": [
    "oecd_mapping = {\n",
    "    \"REPUBLIC OF KOREA\": \"KOREA\",\n",
    "    \"RUSSIAN FEDERATION\": \"RUSSIA\",\n",
    "    \"CZECHIA\": \"CZECH REPUBLIC\",\n",
    "    \"UNITED STATES OF AMERICA\": \"UNITED STATES\",\n",
    "    \"CHINA\": \"CHINA (PEOPLE'S REPUBLIC OF)\",\n",
    "    \"SLOVAKIA\": \"SLOVAK REPUBLIC\",\n",
    "}"
   ]
  },
  {
   "cell_type": "markdown",
   "id": "5a9055e4",
   "metadata": {},
   "source": [
    "### Manual Entity Resolution\n",
    "\n",
    "Now, we can use this manual mapping to add country codes to the OECD dataset. We can match everything that matches exactly and then use the manual mappings for the rest. The coalesce operation will use the second mapping when original country code is null."
   ]
  },
  {
   "cell_type": "code",
   "execution_count": 139,
   "id": "b2d6797c",
   "metadata": {},
   "outputs": [
    {
     "data": {
      "text/html": [
       "<div><style>\n",
       ".dataframe > thead > tr,\n",
       ".dataframe > tbody > tr {\n",
       "  text-align: right;\n",
       "  white-space: pre-wrap;\n",
       "}\n",
       "</style>\n",
       "<small>shape: (784, 7)</small><table border=\"1\" class=\"dataframe\"><thead><tr><th>country</th><th>year</th><th>receipts</th><th>expenditures</th><th>source_dataset</th><th>countryCodeNum</th><th>countryCodeAlpha</th></tr><tr><td>str</td><td>i64</td><td>f64</td><td>f64</td><td>str</td><td>i64</td><td>str</td></tr></thead><tbody><tr><td>&quot;AUSTRALIA&quot;</td><td>2008</td><td>31159.8</td><td>27620.0</td><td>&quot;oecd&quot;</td><td>36</td><td>&quot;AUS&quot;</td></tr><tr><td>&quot;AUSTRIA&quot;</td><td>2008</td><td>21499.2</td><td>11309.9</td><td>&quot;oecd&quot;</td><td>40</td><td>&quot;AUT&quot;</td></tr><tr><td>&quot;BELGIUM&quot;</td><td>2008</td><td>13117.515</td><td>21525.615</td><td>&quot;oecd&quot;</td><td>56</td><td>&quot;BEL&quot;</td></tr><tr><td>&quot;CANADA&quot;</td><td>2008</td><td>19603.8</td><td>34820.1</td><td>&quot;oecd&quot;</td><td>124</td><td>&quot;CAN&quot;</td></tr><tr><td>&quot;CHILE&quot;</td><td>2008</td><td>2481.0</td><td>1386.0</td><td>&quot;oecd&quot;</td><td>152</td><td>&quot;CHL&quot;</td></tr><tr><td>&hellip;</td><td>&hellip;</td><td>&hellip;</td><td>&hellip;</td><td>&hellip;</td><td>&hellip;</td><td>&hellip;</td></tr><tr><td>&quot;PHILIPPINES&quot;</td><td>2021</td><td>null</td><td>null</td><td>&quot;oecd&quot;</td><td>608</td><td>&quot;PHL&quot;</td></tr><tr><td>&quot;ROMANIA&quot;</td><td>2021</td><td>null</td><td>null</td><td>&quot;oecd&quot;</td><td>642</td><td>&quot;ROU&quot;</td></tr><tr><td>&quot;RUSSIA&quot;</td><td>2021</td><td>null</td><td>null</td><td>&quot;oecd&quot;</td><td>643</td><td>&quot;RUS&quot;</td></tr><tr><td>&quot;SERBIA&quot;</td><td>2021</td><td>null</td><td>null</td><td>&quot;oecd&quot;</td><td>688</td><td>&quot;SRB&quot;</td></tr><tr><td>&quot;SOUTH AFRICA&quot;</td><td>2021</td><td>2113.0</td><td>1669.0</td><td>&quot;oecd&quot;</td><td>710</td><td>&quot;ZAF&quot;</td></tr></tbody></table></div>"
      ],
      "text/plain": [
       "shape: (784, 7)\n",
       "┌──────────────┬──────┬───────────┬──────────────┬────────────────┬────────────────┬───────────────┐\n",
       "│ country      ┆ year ┆ receipts  ┆ expenditures ┆ source_dataset ┆ countryCodeNum ┆ countryCodeAl │\n",
       "│ ---          ┆ ---  ┆ ---       ┆ ---          ┆ ---            ┆ ---            ┆ pha           │\n",
       "│ str          ┆ i64  ┆ f64       ┆ f64          ┆ str            ┆ i64            ┆ ---           │\n",
       "│              ┆      ┆           ┆              ┆                ┆                ┆ str           │\n",
       "╞══════════════╪══════╪═══════════╪══════════════╪════════════════╪════════════════╪═══════════════╡\n",
       "│ AUSTRALIA    ┆ 2008 ┆ 31159.8   ┆ 27620.0      ┆ oecd           ┆ 36             ┆ AUS           │\n",
       "│ AUSTRIA      ┆ 2008 ┆ 21499.2   ┆ 11309.9      ┆ oecd           ┆ 40             ┆ AUT           │\n",
       "│ BELGIUM      ┆ 2008 ┆ 13117.515 ┆ 21525.615    ┆ oecd           ┆ 56             ┆ BEL           │\n",
       "│ CANADA       ┆ 2008 ┆ 19603.8   ┆ 34820.1      ┆ oecd           ┆ 124            ┆ CAN           │\n",
       "│ CHILE        ┆ 2008 ┆ 2481.0    ┆ 1386.0       ┆ oecd           ┆ 152            ┆ CHL           │\n",
       "│ …            ┆ …    ┆ …         ┆ …            ┆ …              ┆ …              ┆ …             │\n",
       "│ PHILIPPINES  ┆ 2021 ┆ null      ┆ null         ┆ oecd           ┆ 608            ┆ PHL           │\n",
       "│ ROMANIA      ┆ 2021 ┆ null      ┆ null         ┆ oecd           ┆ 642            ┆ ROU           │\n",
       "│ RUSSIA       ┆ 2021 ┆ null      ┆ null         ┆ oecd           ┆ 643            ┆ RUS           │\n",
       "│ SERBIA       ┆ 2021 ┆ null      ┆ null         ┆ oecd           ┆ 688            ┆ SRB           │\n",
       "│ SOUTH AFRICA ┆ 2021 ┆ 2113.0    ┆ 1669.0       ┆ oecd           ┆ 710            ┆ ZAF           │\n",
       "└──────────────┴──────┴───────────┴──────────────┴────────────────┴────────────────┴───────────────┘"
      ]
     },
     "execution_count": 139,
     "metadata": {},
     "output_type": "execute_result"
    }
   ],
   "source": [
    "oecd_manual = (\n",
    "    oecd_resolved.join(\n",
    "        country_codes.with_columns(pl.col(\"country\").replace(oecd_mapping)),\n",
    "        on=\"country\",\n",
    "        how=\"left\",\n",
    "    )\n",
    "    .with_columns(\n",
    "        pl.coalesce(pl.col(\"countryCodeAlpha\"), pl.col(\"countryCodeAlpha_right\")),\n",
    "        pl.coalesce(pl.col(\"countryCodeNum\"), pl.col(\"countryCodeNum_right\")),\n",
    "    )\n",
    "    .drop(\"countryCodeNum_right\", \"countryCodeAlpha_right\")\n",
    ")"
   ]
  },
  {
   "cell_type": "markdown",
   "id": "b6db4b93",
   "metadata": {},
   "source": [
    "### Probablistic Entity Resolution\n",
    "\n",
    "Recall that we had some missing matches in both the UNWTO and WB datasets when we tried to add country codes. In addition, the manual entity resolution may also not scale well, especially when entity names are harder to match. In these cases, we can use probablistic entity resolution techniques to find likely matches based on similarity. Polars does not have built-in support for this, but we can use the `splink` library to compute similarity scores and find the best matches.\n",
    "\n",
    "[**Splink**](https://moj-analytical-services.github.io/splink/index.html) is a python package that does probabilistic entity resolution in python using DuckDB. It also supports Spark and other big data frameworks. While splink is very powerful, it is also quite complex. We will step through some of its features, but for more details, please refer to the [documentation](https://moj-analytical-services.github.io/splink/index.html).\n",
    "\n",
    "One tool that splink provides is the ability to analyze where data is missing using completeness charts. These charts show the percentage of non-missing values for each column in the dataset. In our case, this shows that our attempt to resolve the entities with only country codes worked well but not perfectly. "
   ]
  },
  {
   "cell_type": "code",
   "execution_count": 140,
   "id": "b5f367e4",
   "metadata": {},
   "outputs": [
    {
     "data": {
      "text/html": [
       "\n",
       "<style>\n",
       "  #altair-viz-d51798d79bfc4f03ab2a6558dfc04086.vega-embed {\n",
       "    width: 100%;\n",
       "    display: flex;\n",
       "  }\n",
       "\n",
       "  #altair-viz-d51798d79bfc4f03ab2a6558dfc04086.vega-embed details,\n",
       "  #altair-viz-d51798d79bfc4f03ab2a6558dfc04086.vega-embed details summary {\n",
       "    position: relative;\n",
       "  }\n",
       "</style>\n",
       "<div id=\"altair-viz-d51798d79bfc4f03ab2a6558dfc04086\"></div>\n",
       "<script type=\"text/javascript\">\n",
       "  var VEGA_DEBUG = (typeof VEGA_DEBUG == \"undefined\") ? {} : VEGA_DEBUG;\n",
       "  (function(spec, embedOpt){\n",
       "    let outputDiv = document.currentScript.previousElementSibling;\n",
       "    if (outputDiv.id !== \"altair-viz-d51798d79bfc4f03ab2a6558dfc04086\") {\n",
       "      outputDiv = document.getElementById(\"altair-viz-d51798d79bfc4f03ab2a6558dfc04086\");\n",
       "    }\n",
       "    const paths = {\n",
       "      \"vega\": \"https://cdn.jsdelivr.net/npm/vega@5?noext\",\n",
       "      \"vega-lib\": \"https://cdn.jsdelivr.net/npm/vega-lib?noext\",\n",
       "      \"vega-lite\": \"https://cdn.jsdelivr.net/npm/vega-lite@5.20.1?noext\",\n",
       "      \"vega-embed\": \"https://cdn.jsdelivr.net/npm/vega-embed@6?noext\",\n",
       "    };\n",
       "\n",
       "    function maybeLoadScript(lib, version) {\n",
       "      var key = `${lib.replace(\"-\", \"\")}_version`;\n",
       "      return (VEGA_DEBUG[key] == version) ?\n",
       "        Promise.resolve(paths[lib]) :\n",
       "        new Promise(function(resolve, reject) {\n",
       "          var s = document.createElement('script');\n",
       "          document.getElementsByTagName(\"head\")[0].appendChild(s);\n",
       "          s.async = true;\n",
       "          s.onload = () => {\n",
       "            VEGA_DEBUG[key] = version;\n",
       "            return resolve(paths[lib]);\n",
       "          };\n",
       "          s.onerror = () => reject(`Error loading script: ${paths[lib]}`);\n",
       "          s.src = paths[lib];\n",
       "        });\n",
       "    }\n",
       "\n",
       "    function showError(err) {\n",
       "      outputDiv.innerHTML = `<div class=\"error\" style=\"color:red;\">${err}</div>`;\n",
       "      throw err;\n",
       "    }\n",
       "\n",
       "    function displayChart(vegaEmbed) {\n",
       "      vegaEmbed(outputDiv, spec, embedOpt)\n",
       "        .catch(err => showError(`Javascript Error: ${err.message}<br>This usually means there's a typo in your chart specification. See the javascript console for the full traceback.`));\n",
       "    }\n",
       "\n",
       "    if(typeof define === \"function\" && define.amd) {\n",
       "      requirejs.config({paths});\n",
       "      require([\"vega-embed\"], displayChart, err => showError(`Error loading script: ${err.message}`));\n",
       "    } else {\n",
       "      maybeLoadScript(\"vega\", \"5\")\n",
       "        .then(() => maybeLoadScript(\"vega-lite\", \"5.20.1\"))\n",
       "        .then(() => maybeLoadScript(\"vega-embed\", \"6\"))\n",
       "        .catch(showError)\n",
       "        .then(() => displayChart(vegaEmbed));\n",
       "    }\n",
       "  })({\"config\": {\"view\": {\"continuousWidth\": 400, \"continuousHeight\": 300}}, \"layer\": [{\"mark\": \"rect\", \"encoding\": {\"color\": {\"field\": \"completeness\", \"legend\": null, \"scale\": {\"scheme\": \"darkred\", \"zero\": true}, \"type\": \"quantitative\"}, \"tooltip\": [{\"field\": \"source_dataset\", \"title\": \"Source dataset\", \"type\": \"nominal\"}, {\"field\": \"total_rows_inc_nulls\", \"format\": \",\", \"title\": \"# of records\", \"type\": \"quantitative\"}, {\"field\": \"column_name\", \"title\": \"Column name\", \"type\": \"nominal\"}, {\"field\": \"total_null_rows\", \"format\": \",\", \"title\": \"# of nulls\", \"type\": \"quantitative\"}, {\"field\": \"completeness\", \"format\": \".1%\", \"type\": \"quantitative\"}], \"x\": {\"axis\": {\"labelAngle\": 20}, \"field\": \"column_name\", \"sort\": {\"field\": \"mean_comp\", \"order\": \"descending\"}, \"title\": \"Column name\", \"type\": \"nominal\"}, \"y\": {\"field\": \"source_dataset\", \"title\": \"Source dataset\", \"type\": \"nominal\"}}, \"title\": \"Column completeness by source dataset\", \"transform\": [{\"joinaggregate\": [{\"op\": \"mean\", \"field\": \"completeness\", \"as\": \"mean_comp\"}], \"groupby\": [\"column_name\"]}]}, {\"mark\": {\"type\": \"text\"}, \"encoding\": {\"color\": {\"condition\": {\"test\": \"datum['completeness'] < 0.5\", \"value\": \"white\"}, \"value\": \"black\"}, \"text\": {\"field\": \"completeness\", \"format\": \".0%\", \"type\": \"quantitative\"}, \"x\": {\"axis\": {\"labelAngle\": 0}, \"field\": \"column_name\", \"sort\": {\"field\": \"mean_comp\", \"order\": \"descending\"}, \"type\": \"nominal\"}, \"y\": {\"field\": \"source_dataset\", \"type\": \"nominal\"}}, \"transform\": [{\"joinaggregate\": [{\"op\": \"mean\", \"field\": \"completeness\", \"as\": \"mean_comp\"}], \"groupby\": [\"column_name\"]}]}], \"data\": {\"name\": \"data-c62dbfd7e24b3be73cd2c483a8fc8583\"}, \"height\": {\"step\": 40}, \"width\": {\"step\": 40}, \"$schema\": \"https://vega.github.io/schema/vega-lite/v5.9.3.json\", \"datasets\": {\"data-c62dbfd7e24b3be73cd2c483a8fc8583\": [{\"source_dataset\": \"input_data_1\", \"column_name\": \"country\", \"total_null_rows\": 0, \"total_rows_inc_nulls\": 6021, \"completeness\": 1.0}, {\"source_dataset\": \"input_data_1\", \"column_name\": \"countryCodeNum\", \"total_null_rows\": 0, \"total_rows_inc_nulls\": 6021, \"completeness\": 1.0}, {\"source_dataset\": \"input_data_1\", \"column_name\": \"year\", \"total_null_rows\": 0, \"total_rows_inc_nulls\": 6021, \"completeness\": 1.0}, {\"source_dataset\": \"input_data_1\", \"column_name\": \"receipts\", \"total_null_rows\": 789, \"total_rows_inc_nulls\": 6021, \"completeness\": 0.8689586520195007}, {\"source_dataset\": \"input_data_1\", \"column_name\": \"expenditures\", \"total_null_rows\": 1112, \"total_rows_inc_nulls\": 6021, \"completeness\": 0.8153130412101746}, {\"source_dataset\": \"input_data_1\", \"column_name\": \"source_dataset\", \"total_null_rows\": 0, \"total_rows_inc_nulls\": 6021, \"completeness\": 1.0}, {\"source_dataset\": \"input_data_1\", \"column_name\": \"country_right\", \"total_null_rows\": 189, \"total_rows_inc_nulls\": 6021, \"completeness\": 0.9686098694801331}, {\"source_dataset\": \"input_data_1\", \"column_name\": \"countryCodeAlpha\", \"total_null_rows\": 189, \"total_rows_inc_nulls\": 6021, \"completeness\": 0.9686098694801331}]}}, {\"mode\": \"vega-lite\"});\n",
       "</script>"
      ],
      "text/plain": [
       "alt.LayerChart(...)"
      ]
     },
     "execution_count": 140,
     "metadata": {},
     "output_type": "execute_result"
    }
   ],
   "source": [
    "from splink import DuckDBAPI\n",
    "from splink.exploratory import completeness_chart\n",
    "\n",
    "completeness_chart(unwto_resolved, db_api=DuckDBAPI())"
   ]
  },
  {
   "cell_type": "code",
   "execution_count": 141,
   "id": "eb165a4c",
   "metadata": {},
   "outputs": [
    {
     "data": {
      "text/html": [
       "\n",
       "<style>\n",
       "  #altair-viz-0bf77ff2e0dd4012a13ff8627f960ad1.vega-embed {\n",
       "    width: 100%;\n",
       "    display: flex;\n",
       "  }\n",
       "\n",
       "  #altair-viz-0bf77ff2e0dd4012a13ff8627f960ad1.vega-embed details,\n",
       "  #altair-viz-0bf77ff2e0dd4012a13ff8627f960ad1.vega-embed details summary {\n",
       "    position: relative;\n",
       "  }\n",
       "</style>\n",
       "<div id=\"altair-viz-0bf77ff2e0dd4012a13ff8627f960ad1\"></div>\n",
       "<script type=\"text/javascript\">\n",
       "  var VEGA_DEBUG = (typeof VEGA_DEBUG == \"undefined\") ? {} : VEGA_DEBUG;\n",
       "  (function(spec, embedOpt){\n",
       "    let outputDiv = document.currentScript.previousElementSibling;\n",
       "    if (outputDiv.id !== \"altair-viz-0bf77ff2e0dd4012a13ff8627f960ad1\") {\n",
       "      outputDiv = document.getElementById(\"altair-viz-0bf77ff2e0dd4012a13ff8627f960ad1\");\n",
       "    }\n",
       "    const paths = {\n",
       "      \"vega\": \"https://cdn.jsdelivr.net/npm/vega@5?noext\",\n",
       "      \"vega-lib\": \"https://cdn.jsdelivr.net/npm/vega-lib?noext\",\n",
       "      \"vega-lite\": \"https://cdn.jsdelivr.net/npm/vega-lite@5.20.1?noext\",\n",
       "      \"vega-embed\": \"https://cdn.jsdelivr.net/npm/vega-embed@6?noext\",\n",
       "    };\n",
       "\n",
       "    function maybeLoadScript(lib, version) {\n",
       "      var key = `${lib.replace(\"-\", \"\")}_version`;\n",
       "      return (VEGA_DEBUG[key] == version) ?\n",
       "        Promise.resolve(paths[lib]) :\n",
       "        new Promise(function(resolve, reject) {\n",
       "          var s = document.createElement('script');\n",
       "          document.getElementsByTagName(\"head\")[0].appendChild(s);\n",
       "          s.async = true;\n",
       "          s.onload = () => {\n",
       "            VEGA_DEBUG[key] = version;\n",
       "            return resolve(paths[lib]);\n",
       "          };\n",
       "          s.onerror = () => reject(`Error loading script: ${paths[lib]}`);\n",
       "          s.src = paths[lib];\n",
       "        });\n",
       "    }\n",
       "\n",
       "    function showError(err) {\n",
       "      outputDiv.innerHTML = `<div class=\"error\" style=\"color:red;\">${err}</div>`;\n",
       "      throw err;\n",
       "    }\n",
       "\n",
       "    function displayChart(vegaEmbed) {\n",
       "      vegaEmbed(outputDiv, spec, embedOpt)\n",
       "        .catch(err => showError(`Javascript Error: ${err.message}<br>This usually means there's a typo in your chart specification. See the javascript console for the full traceback.`));\n",
       "    }\n",
       "\n",
       "    if(typeof define === \"function\" && define.amd) {\n",
       "      requirejs.config({paths});\n",
       "      require([\"vega-embed\"], displayChart, err => showError(`Error loading script: ${err.message}`));\n",
       "    } else {\n",
       "      maybeLoadScript(\"vega\", \"5\")\n",
       "        .then(() => maybeLoadScript(\"vega-lite\", \"5.20.1\"))\n",
       "        .then(() => maybeLoadScript(\"vega-embed\", \"6\"))\n",
       "        .catch(showError)\n",
       "        .then(() => displayChart(vegaEmbed));\n",
       "    }\n",
       "  })({\"config\": {\"view\": {\"continuousWidth\": 400, \"continuousHeight\": 300}}, \"layer\": [{\"mark\": \"rect\", \"encoding\": {\"color\": {\"field\": \"completeness\", \"legend\": null, \"scale\": {\"scheme\": \"darkred\", \"zero\": true}, \"type\": \"quantitative\"}, \"tooltip\": [{\"field\": \"source_dataset\", \"title\": \"Source dataset\", \"type\": \"nominal\"}, {\"field\": \"total_rows_inc_nulls\", \"format\": \",\", \"title\": \"# of records\", \"type\": \"quantitative\"}, {\"field\": \"column_name\", \"title\": \"Column name\", \"type\": \"nominal\"}, {\"field\": \"total_null_rows\", \"format\": \",\", \"title\": \"# of nulls\", \"type\": \"quantitative\"}, {\"field\": \"completeness\", \"format\": \".1%\", \"type\": \"quantitative\"}], \"x\": {\"axis\": {\"labelAngle\": 20}, \"field\": \"column_name\", \"sort\": {\"field\": \"mean_comp\", \"order\": \"descending\"}, \"title\": \"Column name\", \"type\": \"nominal\"}, \"y\": {\"field\": \"source_dataset\", \"title\": \"Source dataset\", \"type\": \"nominal\"}}, \"title\": \"Column completeness by source dataset\", \"transform\": [{\"joinaggregate\": [{\"op\": \"mean\", \"field\": \"completeness\", \"as\": \"mean_comp\"}], \"groupby\": [\"column_name\"]}]}, {\"mark\": {\"type\": \"text\"}, \"encoding\": {\"color\": {\"condition\": {\"test\": \"datum['completeness'] < 0.5\", \"value\": \"white\"}, \"value\": \"black\"}, \"text\": {\"field\": \"completeness\", \"format\": \".0%\", \"type\": \"quantitative\"}, \"x\": {\"axis\": {\"labelAngle\": 0}, \"field\": \"column_name\", \"sort\": {\"field\": \"mean_comp\", \"order\": \"descending\"}, \"type\": \"nominal\"}, \"y\": {\"field\": \"source_dataset\", \"type\": \"nominal\"}}, \"transform\": [{\"joinaggregate\": [{\"op\": \"mean\", \"field\": \"completeness\", \"as\": \"mean_comp\"}], \"groupby\": [\"column_name\"]}]}], \"data\": {\"name\": \"data-7ea4c21f23f030cf8e1d7c03bb5815e6\"}, \"height\": {\"step\": 40}, \"width\": {\"step\": 40}, \"$schema\": \"https://vega.github.io/schema/vega-lite/v5.9.3.json\", \"datasets\": {\"data-7ea4c21f23f030cf8e1d7c03bb5815e6\": [{\"source_dataset\": \"input_data_1\", \"column_name\": \"country\", \"total_null_rows\": 0, \"total_rows_inc_nulls\": 16492, \"completeness\": 1.0}, {\"source_dataset\": \"input_data_1\", \"column_name\": \"countryCodeAlpha\", \"total_null_rows\": 0, \"total_rows_inc_nulls\": 16492, \"completeness\": 1.0}, {\"source_dataset\": \"input_data_1\", \"column_name\": \"year\", \"total_null_rows\": 0, \"total_rows_inc_nulls\": 16492, \"completeness\": 1.0}, {\"source_dataset\": \"input_data_1\", \"column_name\": \"receipts\", \"total_null_rows\": 11527, \"total_rows_inc_nulls\": 16492, \"completeness\": 0.30105504393577576}, {\"source_dataset\": \"input_data_1\", \"column_name\": \"expenditures\", \"total_null_rows\": 16492, \"total_rows_inc_nulls\": 16492, \"completeness\": 0.0}, {\"source_dataset\": \"input_data_1\", \"column_name\": \"source_dataset\", \"total_null_rows\": 0, \"total_rows_inc_nulls\": 16492, \"completeness\": 1.0}, {\"source_dataset\": \"input_data_1\", \"column_name\": \"country_right\", \"total_null_rows\": 3100, \"total_rows_inc_nulls\": 16492, \"completeness\": 0.8120300769805908}, {\"source_dataset\": \"input_data_1\", \"column_name\": \"countryCodeNum\", \"total_null_rows\": 3100, \"total_rows_inc_nulls\": 16492, \"completeness\": 0.8120300769805908}]}}, {\"mode\": \"vega-lite\"});\n",
       "</script>"
      ],
      "text/plain": [
       "alt.LayerChart(...)"
      ]
     },
     "execution_count": 141,
     "metadata": {},
     "output_type": "execute_result"
    }
   ],
   "source": [
    "completeness_chart(wb_resolved, db_api=DuckDBAPI())"
   ]
  },
  {
   "cell_type": "code",
   "execution_count": 142,
   "id": "f7b00a7f",
   "metadata": {},
   "outputs": [
    {
     "data": {
      "text/html": [
       "\n",
       "<style>\n",
       "  #altair-viz-261d254b98cb48fe8089c7af7c1d9751.vega-embed {\n",
       "    width: 100%;\n",
       "    display: flex;\n",
       "  }\n",
       "\n",
       "  #altair-viz-261d254b98cb48fe8089c7af7c1d9751.vega-embed details,\n",
       "  #altair-viz-261d254b98cb48fe8089c7af7c1d9751.vega-embed details summary {\n",
       "    position: relative;\n",
       "  }\n",
       "</style>\n",
       "<div id=\"altair-viz-261d254b98cb48fe8089c7af7c1d9751\"></div>\n",
       "<script type=\"text/javascript\">\n",
       "  var VEGA_DEBUG = (typeof VEGA_DEBUG == \"undefined\") ? {} : VEGA_DEBUG;\n",
       "  (function(spec, embedOpt){\n",
       "    let outputDiv = document.currentScript.previousElementSibling;\n",
       "    if (outputDiv.id !== \"altair-viz-261d254b98cb48fe8089c7af7c1d9751\") {\n",
       "      outputDiv = document.getElementById(\"altair-viz-261d254b98cb48fe8089c7af7c1d9751\");\n",
       "    }\n",
       "    const paths = {\n",
       "      \"vega\": \"https://cdn.jsdelivr.net/npm/vega@5?noext\",\n",
       "      \"vega-lib\": \"https://cdn.jsdelivr.net/npm/vega-lib?noext\",\n",
       "      \"vega-lite\": \"https://cdn.jsdelivr.net/npm/vega-lite@5.20.1?noext\",\n",
       "      \"vega-embed\": \"https://cdn.jsdelivr.net/npm/vega-embed@6?noext\",\n",
       "    };\n",
       "\n",
       "    function maybeLoadScript(lib, version) {\n",
       "      var key = `${lib.replace(\"-\", \"\")}_version`;\n",
       "      return (VEGA_DEBUG[key] == version) ?\n",
       "        Promise.resolve(paths[lib]) :\n",
       "        new Promise(function(resolve, reject) {\n",
       "          var s = document.createElement('script');\n",
       "          document.getElementsByTagName(\"head\")[0].appendChild(s);\n",
       "          s.async = true;\n",
       "          s.onload = () => {\n",
       "            VEGA_DEBUG[key] = version;\n",
       "            return resolve(paths[lib]);\n",
       "          };\n",
       "          s.onerror = () => reject(`Error loading script: ${paths[lib]}`);\n",
       "          s.src = paths[lib];\n",
       "        });\n",
       "    }\n",
       "\n",
       "    function showError(err) {\n",
       "      outputDiv.innerHTML = `<div class=\"error\" style=\"color:red;\">${err}</div>`;\n",
       "      throw err;\n",
       "    }\n",
       "\n",
       "    function displayChart(vegaEmbed) {\n",
       "      vegaEmbed(outputDiv, spec, embedOpt)\n",
       "        .catch(err => showError(`Javascript Error: ${err.message}<br>This usually means there's a typo in your chart specification. See the javascript console for the full traceback.`));\n",
       "    }\n",
       "\n",
       "    if(typeof define === \"function\" && define.amd) {\n",
       "      requirejs.config({paths});\n",
       "      require([\"vega-embed\"], displayChart, err => showError(`Error loading script: ${err.message}`));\n",
       "    } else {\n",
       "      maybeLoadScript(\"vega\", \"5\")\n",
       "        .then(() => maybeLoadScript(\"vega-lite\", \"5.20.1\"))\n",
       "        .then(() => maybeLoadScript(\"vega-embed\", \"6\"))\n",
       "        .catch(showError)\n",
       "        .then(() => displayChart(vegaEmbed));\n",
       "    }\n",
       "  })({\"config\": {\"view\": {\"continuousWidth\": 400, \"continuousHeight\": 300}}, \"layer\": [{\"mark\": \"rect\", \"encoding\": {\"color\": {\"field\": \"completeness\", \"legend\": null, \"scale\": {\"scheme\": \"darkred\", \"zero\": true}, \"type\": \"quantitative\"}, \"tooltip\": [{\"field\": \"source_dataset\", \"title\": \"Source dataset\", \"type\": \"nominal\"}, {\"field\": \"total_rows_inc_nulls\", \"format\": \",\", \"title\": \"# of records\", \"type\": \"quantitative\"}, {\"field\": \"column_name\", \"title\": \"Column name\", \"type\": \"nominal\"}, {\"field\": \"total_null_rows\", \"format\": \",\", \"title\": \"# of nulls\", \"type\": \"quantitative\"}, {\"field\": \"completeness\", \"format\": \".1%\", \"type\": \"quantitative\"}], \"x\": {\"axis\": {\"labelAngle\": 20}, \"field\": \"column_name\", \"sort\": {\"field\": \"mean_comp\", \"order\": \"descending\"}, \"title\": \"Column name\", \"type\": \"nominal\"}, \"y\": {\"field\": \"source_dataset\", \"title\": \"Source dataset\", \"type\": \"nominal\"}}, \"title\": \"Column completeness by source dataset\", \"transform\": [{\"joinaggregate\": [{\"op\": \"mean\", \"field\": \"completeness\", \"as\": \"mean_comp\"}], \"groupby\": [\"column_name\"]}]}, {\"mark\": {\"type\": \"text\"}, \"encoding\": {\"color\": {\"condition\": {\"test\": \"datum['completeness'] < 0.5\", \"value\": \"white\"}, \"value\": \"black\"}, \"text\": {\"field\": \"completeness\", \"format\": \".0%\", \"type\": \"quantitative\"}, \"x\": {\"axis\": {\"labelAngle\": 0}, \"field\": \"column_name\", \"sort\": {\"field\": \"mean_comp\", \"order\": \"descending\"}, \"type\": \"nominal\"}, \"y\": {\"field\": \"source_dataset\", \"type\": \"nominal\"}}, \"transform\": [{\"joinaggregate\": [{\"op\": \"mean\", \"field\": \"completeness\", \"as\": \"mean_comp\"}], \"groupby\": [\"column_name\"]}]}], \"data\": {\"name\": \"data-1a60ae58aad37e693273b1f48bbfac77\"}, \"height\": {\"step\": 40}, \"width\": {\"step\": 40}, \"$schema\": \"https://vega.github.io/schema/vega-lite/v5.9.3.json\", \"datasets\": {\"data-1a60ae58aad37e693273b1f48bbfac77\": [{\"source_dataset\": \"input_data_1\", \"column_name\": \"country\", \"total_null_rows\": 0, \"total_rows_inc_nulls\": 784, \"completeness\": 1.0}, {\"source_dataset\": \"input_data_1\", \"column_name\": \"year\", \"total_null_rows\": 0, \"total_rows_inc_nulls\": 784, \"completeness\": 1.0}, {\"source_dataset\": \"input_data_1\", \"column_name\": \"receipts\", \"total_null_rows\": 73, \"total_rows_inc_nulls\": 784, \"completeness\": 0.9068877696990967}, {\"source_dataset\": \"input_data_1\", \"column_name\": \"expenditures\", \"total_null_rows\": 76, \"total_rows_inc_nulls\": 784, \"completeness\": 0.9030612111091614}, {\"source_dataset\": \"input_data_1\", \"column_name\": \"source_dataset\", \"total_null_rows\": 0, \"total_rows_inc_nulls\": 784, \"completeness\": 1.0}, {\"source_dataset\": \"input_data_1\", \"column_name\": \"countryCodeNum\", \"total_null_rows\": 98, \"total_rows_inc_nulls\": 784, \"completeness\": 0.875}, {\"source_dataset\": \"input_data_1\", \"column_name\": \"countryCodeAlpha\", \"total_null_rows\": 98, \"total_rows_inc_nulls\": 784, \"completeness\": 0.875}]}}, {\"mode\": \"vega-lite\"});\n",
       "</script>"
      ],
      "text/plain": [
       "alt.LayerChart(...)"
      ]
     },
     "execution_count": 142,
     "metadata": {},
     "output_type": "execute_result"
    }
   ],
   "source": [
    "completeness_chart(oecd_resolved, db_api=DuckDBAPI())"
   ]
  },
  {
   "cell_type": "markdown",
   "id": "2a83ce0e",
   "metadata": {},
   "source": [
    "TWe can see that all three datasets country codes or names that do not link to the population data. (We returned to the OECD dataset before manual resoltuion.) Spink offers two modes of operation: **linking** and **deduplication**. The main difference is that linking will only link **between** two dataframes while deduplication will link **within** a single dataframe. Let's look at linking first. Splink will track rows by a unique index so we will add this to each dataframe using the `with_row_count` method. We will also convert the WB country names to uppercase."
   ]
  },
  {
   "cell_type": "code",
   "execution_count": 143,
   "id": "9eb988d2",
   "metadata": {},
   "outputs": [
    {
     "data": {
      "text/html": [
       "<div><style>\n",
       ".dataframe > thead > tr,\n",
       ".dataframe > tbody > tr {\n",
       "  text-align: right;\n",
       "  white-space: pre-wrap;\n",
       "}\n",
       "</style>\n",
       "<small>shape: (16_492, 8)</small><table border=\"1\" class=\"dataframe\"><thead><tr><th>unique_id</th><th>country</th><th>countryCodeAlpha</th><th>year</th><th>receipts</th><th>expenditures</th><th>source_dataset</th><th>countryCodeNum</th></tr><tr><td>u32</td><td>str</td><td>str</td><td>i64</td><td>f64</td><td>f64</td><td>str</td><td>i64</td></tr></thead><tbody><tr><td>0</td><td>&quot;SUB-SAHARAN AFRICA&quot;</td><td>&quot;SSF&quot;</td><td>1976</td><td>null</td><td>null</td><td>&quot;wb&quot;</td><td>null</td></tr><tr><td>1</td><td>&quot;KOREA, REP.&quot;</td><td>&quot;KOR&quot;</td><td>1999</td><td>8337.0</td><td>null</td><td>&quot;wb&quot;</td><td>410</td></tr><tr><td>2</td><td>&quot;RUSSIAN FEDERATION&quot;</td><td>&quot;RUS&quot;</td><td>2015</td><td>13186.0</td><td>null</td><td>&quot;wb&quot;</td><td>643</td></tr><tr><td>3</td><td>&quot;DOMINICA&quot;</td><td>&quot;DMA&quot;</td><td>1979</td><td>null</td><td>null</td><td>&quot;wb&quot;</td><td>212</td></tr><tr><td>4</td><td>&quot;ANGOLA&quot;</td><td>&quot;AGO&quot;</td><td>2017</td><td>884.0</td><td>null</td><td>&quot;wb&quot;</td><td>24</td></tr><tr><td>&hellip;</td><td>&hellip;</td><td>&hellip;</td><td>&hellip;</td><td>&hellip;</td><td>&hellip;</td><td>&hellip;</td><td>&hellip;</td></tr><tr><td>16487</td><td>&quot;BOTSWANA&quot;</td><td>&quot;BWA&quot;</td><td>2008</td><td>510.700012</td><td>null</td><td>&quot;wb&quot;</td><td>72</td></tr><tr><td>16488</td><td>&quot;POLAND&quot;</td><td>&quot;POL&quot;</td><td>1974</td><td>null</td><td>null</td><td>&quot;wb&quot;</td><td>616</td></tr><tr><td>16489</td><td>&quot;LATE-DEMOGRAPHIC DIVIDEND&quot;</td><td>&quot;LTE&quot;</td><td>1986</td><td>null</td><td>null</td><td>&quot;wb&quot;</td><td>null</td></tr><tr><td>16490</td><td>&quot;PAPUA NEW GUINEA&quot;</td><td>&quot;PNG&quot;</td><td>2008</td><td>3.7</td><td>null</td><td>&quot;wb&quot;</td><td>598</td></tr><tr><td>16491</td><td>&quot;SAMOA&quot;</td><td>&quot;WSM&quot;</td><td>1997</td><td>38.511845</td><td>null</td><td>&quot;wb&quot;</td><td>882</td></tr></tbody></table></div>"
      ],
      "text/plain": [
       "shape: (16_492, 8)\n",
       "┌───────────┬─────────────┬─────────────┬──────┬────────────┬────────────┬────────────┬────────────┐\n",
       "│ unique_id ┆ country     ┆ countryCode ┆ year ┆ receipts   ┆ expenditur ┆ source_dat ┆ countryCod │\n",
       "│ ---       ┆ ---         ┆ Alpha       ┆ ---  ┆ ---        ┆ es         ┆ aset       ┆ eNum       │\n",
       "│ u32       ┆ str         ┆ ---         ┆ i64  ┆ f64        ┆ ---        ┆ ---        ┆ ---        │\n",
       "│           ┆             ┆ str         ┆      ┆            ┆ f64        ┆ str        ┆ i64        │\n",
       "╞═══════════╪═════════════╪═════════════╪══════╪════════════╪════════════╪════════════╪════════════╡\n",
       "│ 0         ┆ SUB-SAHARAN ┆ SSF         ┆ 1976 ┆ null       ┆ null       ┆ wb         ┆ null       │\n",
       "│           ┆ AFRICA      ┆             ┆      ┆            ┆            ┆            ┆            │\n",
       "│ 1         ┆ KOREA, REP. ┆ KOR         ┆ 1999 ┆ 8337.0     ┆ null       ┆ wb         ┆ 410        │\n",
       "│ 2         ┆ RUSSIAN     ┆ RUS         ┆ 2015 ┆ 13186.0    ┆ null       ┆ wb         ┆ 643        │\n",
       "│           ┆ FEDERATION  ┆             ┆      ┆            ┆            ┆            ┆            │\n",
       "│ 3         ┆ DOMINICA    ┆ DMA         ┆ 1979 ┆ null       ┆ null       ┆ wb         ┆ 212        │\n",
       "│ 4         ┆ ANGOLA      ┆ AGO         ┆ 2017 ┆ 884.0      ┆ null       ┆ wb         ┆ 24         │\n",
       "│ …         ┆ …           ┆ …           ┆ …    ┆ …          ┆ …          ┆ …          ┆ …          │\n",
       "│ 16487     ┆ BOTSWANA    ┆ BWA         ┆ 2008 ┆ 510.700012 ┆ null       ┆ wb         ┆ 72         │\n",
       "│ 16488     ┆ POLAND      ┆ POL         ┆ 1974 ┆ null       ┆ null       ┆ wb         ┆ 616        │\n",
       "│ 16489     ┆ LATE-DEMOGR ┆ LTE         ┆ 1986 ┆ null       ┆ null       ┆ wb         ┆ null       │\n",
       "│           ┆ APHIC       ┆             ┆      ┆            ┆            ┆            ┆            │\n",
       "│           ┆ DIVIDEND    ┆             ┆      ┆            ┆            ┆            ┆            │\n",
       "│ 16490     ┆ PAPUA NEW   ┆ PNG         ┆ 2008 ┆ 3.7        ┆ null       ┆ wb         ┆ 598        │\n",
       "│           ┆ GUINEA      ┆             ┆      ┆            ┆            ┆            ┆            │\n",
       "│ 16491     ┆ SAMOA       ┆ WSM         ┆ 1997 ┆ 38.511845  ┆ null       ┆ wb         ┆ 882        │\n",
       "└───────────┴─────────────┴─────────────┴──────┴────────────┴────────────┴────────────┴────────────┘"
      ]
     },
     "execution_count": 143,
     "metadata": {},
     "output_type": "execute_result"
    }
   ],
   "source": [
    "wb_w_ind = (\n",
    "    wb_resolved.with_row_index(\"unique_id\")\n",
    "    .with_columns(pl.col(\"country\").str.to_uppercase())\n",
    "    .drop([\"country_right\"])\n",
    ")"
   ]
  },
  {
   "cell_type": "code",
   "execution_count": 144,
   "id": "becb12b5",
   "metadata": {},
   "outputs": [
    {
     "data": {
      "text/html": [
       "<div><style>\n",
       ".dataframe > thead > tr,\n",
       ".dataframe > tbody > tr {\n",
       "  text-align: right;\n",
       "  white-space: pre-wrap;\n",
       "}\n",
       "</style>\n",
       "<small>shape: (6_021, 8)</small><table border=\"1\" class=\"dataframe\"><thead><tr><th>unique_id</th><th>country</th><th>countryCodeNum</th><th>year</th><th>receipts</th><th>expenditures</th><th>source_dataset</th><th>countryCodeAlpha</th></tr><tr><td>u32</td><td>str</td><td>i64</td><td>i64</td><td>f64</td><td>f64</td><td>str</td><td>str</td></tr></thead><tbody><tr><td>0</td><td>&quot;AFGHANISTAN&quot;</td><td>4</td><td>1995</td><td>null</td><td>null</td><td>&quot;unwto&quot;</td><td>&quot;AFG&quot;</td></tr><tr><td>1</td><td>&quot;ALBANIA&quot;</td><td>8</td><td>1995</td><td>70.0</td><td>19.0</td><td>&quot;unwto&quot;</td><td>&quot;ALB&quot;</td></tr><tr><td>2</td><td>&quot;ALGERIA&quot;</td><td>12</td><td>1995</td><td>32.0</td><td>186.0</td><td>&quot;unwto&quot;</td><td>&quot;DZA&quot;</td></tr><tr><td>3</td><td>&quot;AMERICAN SAMOA&quot;</td><td>16</td><td>1995</td><td>null</td><td>null</td><td>&quot;unwto&quot;</td><td>&quot;ASM&quot;</td></tr><tr><td>4</td><td>&quot;ANDORRA&quot;</td><td>20</td><td>1995</td><td>null</td><td>null</td><td>&quot;unwto&quot;</td><td>&quot;AND&quot;</td></tr><tr><td>&hellip;</td><td>&hellip;</td><td>&hellip;</td><td>&hellip;</td><td>&hellip;</td><td>&hellip;</td><td>&hellip;</td><td>&hellip;</td></tr><tr><td>6016</td><td>&quot;VENEZUELA, BOLIVARIAN REPUBLIC…</td><td>862</td><td>2021</td><td>null</td><td>null</td><td>&quot;unwto&quot;</td><td>&quot;VEN&quot;</td></tr><tr><td>6017</td><td>&quot;VIET NAM&quot;</td><td>704</td><td>2021</td><td>149.0</td><td>3830.0</td><td>&quot;unwto&quot;</td><td>&quot;VNM&quot;</td></tr><tr><td>6018</td><td>&quot;YEMEN&quot;</td><td>886</td><td>2021</td><td>null</td><td>null</td><td>&quot;unwto&quot;</td><td>null</td></tr><tr><td>6019</td><td>&quot;ZAMBIA&quot;</td><td>894</td><td>2021</td><td>393.0</td><td>430.0</td><td>&quot;unwto&quot;</td><td>&quot;ZMB&quot;</td></tr><tr><td>6020</td><td>&quot;ZIMBABWE&quot;</td><td>716</td><td>2021</td><td>null</td><td>null</td><td>&quot;unwto&quot;</td><td>&quot;ZWE&quot;</td></tr></tbody></table></div>"
      ],
      "text/plain": [
       "shape: (6_021, 8)\n",
       "┌───────────┬─────────────┬─────────────┬──────┬──────────┬─────────────┬─────────────┬────────────┐\n",
       "│ unique_id ┆ country     ┆ countryCode ┆ year ┆ receipts ┆ expenditure ┆ source_data ┆ countryCod │\n",
       "│ ---       ┆ ---         ┆ Num         ┆ ---  ┆ ---      ┆ s           ┆ set         ┆ eAlpha     │\n",
       "│ u32       ┆ str         ┆ ---         ┆ i64  ┆ f64      ┆ ---         ┆ ---         ┆ ---        │\n",
       "│           ┆             ┆ i64         ┆      ┆          ┆ f64         ┆ str         ┆ str        │\n",
       "╞═══════════╪═════════════╪═════════════╪══════╪══════════╪═════════════╪═════════════╪════════════╡\n",
       "│ 0         ┆ AFGHANISTAN ┆ 4           ┆ 1995 ┆ null     ┆ null        ┆ unwto       ┆ AFG        │\n",
       "│ 1         ┆ ALBANIA     ┆ 8           ┆ 1995 ┆ 70.0     ┆ 19.0        ┆ unwto       ┆ ALB        │\n",
       "│ 2         ┆ ALGERIA     ┆ 12          ┆ 1995 ┆ 32.0     ┆ 186.0       ┆ unwto       ┆ DZA        │\n",
       "│ 3         ┆ AMERICAN    ┆ 16          ┆ 1995 ┆ null     ┆ null        ┆ unwto       ┆ ASM        │\n",
       "│           ┆ SAMOA       ┆             ┆      ┆          ┆             ┆             ┆            │\n",
       "│ 4         ┆ ANDORRA     ┆ 20          ┆ 1995 ┆ null     ┆ null        ┆ unwto       ┆ AND        │\n",
       "│ …         ┆ …           ┆ …           ┆ …    ┆ …        ┆ …           ┆ …           ┆ …          │\n",
       "│ 6016      ┆ VENEZUELA,  ┆ 862         ┆ 2021 ┆ null     ┆ null        ┆ unwto       ┆ VEN        │\n",
       "│           ┆ BOLIVARIAN  ┆             ┆      ┆          ┆             ┆             ┆            │\n",
       "│           ┆ REPUBLIC…   ┆             ┆      ┆          ┆             ┆             ┆            │\n",
       "│ 6017      ┆ VIET NAM    ┆ 704         ┆ 2021 ┆ 149.0    ┆ 3830.0      ┆ unwto       ┆ VNM        │\n",
       "│ 6018      ┆ YEMEN       ┆ 886         ┆ 2021 ┆ null     ┆ null        ┆ unwto       ┆ null       │\n",
       "│ 6019      ┆ ZAMBIA      ┆ 894         ┆ 2021 ┆ 393.0    ┆ 430.0       ┆ unwto       ┆ ZMB        │\n",
       "│ 6020      ┆ ZIMBABWE    ┆ 716         ┆ 2021 ┆ null     ┆ null        ┆ unwto       ┆ ZWE        │\n",
       "└───────────┴─────────────┴─────────────┴──────┴──────────┴─────────────┴─────────────┴────────────┘"
      ]
     },
     "execution_count": 144,
     "metadata": {},
     "output_type": "execute_result"
    }
   ],
   "source": [
    "unwto_w_ind = unwto_resolved.with_row_index(\"unique_id\").drop([\"country_right\"])"
   ]
  },
  {
   "cell_type": "code",
   "execution_count": 145,
   "id": "c67eeb54",
   "metadata": {},
   "outputs": [
    {
     "data": {
      "text/html": [
       "<div><style>\n",
       ".dataframe > thead > tr,\n",
       ".dataframe > tbody > tr {\n",
       "  text-align: right;\n",
       "  white-space: pre-wrap;\n",
       "}\n",
       "</style>\n",
       "<small>shape: (784, 8)</small><table border=\"1\" class=\"dataframe\"><thead><tr><th>unique_id</th><th>country</th><th>year</th><th>receipts</th><th>expenditures</th><th>source_dataset</th><th>countryCodeNum</th><th>countryCodeAlpha</th></tr><tr><td>u32</td><td>str</td><td>i64</td><td>f64</td><td>f64</td><td>str</td><td>i64</td><td>str</td></tr></thead><tbody><tr><td>0</td><td>&quot;AUSTRALIA&quot;</td><td>2008</td><td>31159.8</td><td>27620.0</td><td>&quot;oecd&quot;</td><td>36</td><td>&quot;AUS&quot;</td></tr><tr><td>1</td><td>&quot;AUSTRIA&quot;</td><td>2008</td><td>21499.2</td><td>11309.9</td><td>&quot;oecd&quot;</td><td>40</td><td>&quot;AUT&quot;</td></tr><tr><td>2</td><td>&quot;BELGIUM&quot;</td><td>2008</td><td>13117.515</td><td>21525.615</td><td>&quot;oecd&quot;</td><td>56</td><td>&quot;BEL&quot;</td></tr><tr><td>3</td><td>&quot;CANADA&quot;</td><td>2008</td><td>19603.8</td><td>34820.1</td><td>&quot;oecd&quot;</td><td>124</td><td>&quot;CAN&quot;</td></tr><tr><td>4</td><td>&quot;CHILE&quot;</td><td>2008</td><td>2481.0</td><td>1386.0</td><td>&quot;oecd&quot;</td><td>152</td><td>&quot;CHL&quot;</td></tr><tr><td>&hellip;</td><td>&hellip;</td><td>&hellip;</td><td>&hellip;</td><td>&hellip;</td><td>&hellip;</td><td>&hellip;</td><td>&hellip;</td></tr><tr><td>779</td><td>&quot;PHILIPPINES&quot;</td><td>2021</td><td>null</td><td>null</td><td>&quot;oecd&quot;</td><td>608</td><td>&quot;PHL&quot;</td></tr><tr><td>780</td><td>&quot;ROMANIA&quot;</td><td>2021</td><td>null</td><td>null</td><td>&quot;oecd&quot;</td><td>642</td><td>&quot;ROU&quot;</td></tr><tr><td>781</td><td>&quot;RUSSIA&quot;</td><td>2021</td><td>null</td><td>null</td><td>&quot;oecd&quot;</td><td>null</td><td>null</td></tr><tr><td>782</td><td>&quot;SERBIA&quot;</td><td>2021</td><td>null</td><td>null</td><td>&quot;oecd&quot;</td><td>688</td><td>&quot;SRB&quot;</td></tr><tr><td>783</td><td>&quot;SOUTH AFRICA&quot;</td><td>2021</td><td>2113.0</td><td>1669.0</td><td>&quot;oecd&quot;</td><td>710</td><td>&quot;ZAF&quot;</td></tr></tbody></table></div>"
      ],
      "text/plain": [
       "shape: (784, 8)\n",
       "┌───────────┬─────────────┬──────┬───────────┬─────────────┬─────────────┬────────────┬────────────┐\n",
       "│ unique_id ┆ country     ┆ year ┆ receipts  ┆ expenditure ┆ source_data ┆ countryCod ┆ countryCod │\n",
       "│ ---       ┆ ---         ┆ ---  ┆ ---       ┆ s           ┆ set         ┆ eNum       ┆ eAlpha     │\n",
       "│ u32       ┆ str         ┆ i64  ┆ f64       ┆ ---         ┆ ---         ┆ ---        ┆ ---        │\n",
       "│           ┆             ┆      ┆           ┆ f64         ┆ str         ┆ i64        ┆ str        │\n",
       "╞═══════════╪═════════════╪══════╪═══════════╪═════════════╪═════════════╪════════════╪════════════╡\n",
       "│ 0         ┆ AUSTRALIA   ┆ 2008 ┆ 31159.8   ┆ 27620.0     ┆ oecd        ┆ 36         ┆ AUS        │\n",
       "│ 1         ┆ AUSTRIA     ┆ 2008 ┆ 21499.2   ┆ 11309.9     ┆ oecd        ┆ 40         ┆ AUT        │\n",
       "│ 2         ┆ BELGIUM     ┆ 2008 ┆ 13117.515 ┆ 21525.615   ┆ oecd        ┆ 56         ┆ BEL        │\n",
       "│ 3         ┆ CANADA      ┆ 2008 ┆ 19603.8   ┆ 34820.1     ┆ oecd        ┆ 124        ┆ CAN        │\n",
       "│ 4         ┆ CHILE       ┆ 2008 ┆ 2481.0    ┆ 1386.0      ┆ oecd        ┆ 152        ┆ CHL        │\n",
       "│ …         ┆ …           ┆ …    ┆ …         ┆ …           ┆ …           ┆ …          ┆ …          │\n",
       "│ 779       ┆ PHILIPPINES ┆ 2021 ┆ null      ┆ null        ┆ oecd        ┆ 608        ┆ PHL        │\n",
       "│ 780       ┆ ROMANIA     ┆ 2021 ┆ null      ┆ null        ┆ oecd        ┆ 642        ┆ ROU        │\n",
       "│ 781       ┆ RUSSIA      ┆ 2021 ┆ null      ┆ null        ┆ oecd        ┆ null       ┆ null       │\n",
       "│ 782       ┆ SERBIA      ┆ 2021 ┆ null      ┆ null        ┆ oecd        ┆ 688        ┆ SRB        │\n",
       "│ 783       ┆ SOUTH       ┆ 2021 ┆ 2113.0    ┆ 1669.0      ┆ oecd        ┆ 710        ┆ ZAF        │\n",
       "│           ┆ AFRICA      ┆      ┆           ┆             ┆             ┆            ┆            │\n",
       "└───────────┴─────────────┴──────┴───────────┴─────────────┴─────────────┴────────────┴────────────┘"
      ]
     },
     "execution_count": 145,
     "metadata": {},
     "output_type": "execute_result"
    }
   ],
   "source": [
    "oecd_w_ind = oecd_resolved.with_row_index(\"unique_id\")"
   ]
  },
  {
   "cell_type": "markdown",
   "id": "85311f88",
   "metadata": {},
   "source": [
    "Now, we need to set up the splink settings for linking. Without this configuration, Splink will not know which fields to compare, how to compare them, and what should count as a potential match. Specifically, we need the following settings:\n",
    "\n",
    "* **Link Type** (`link_type`): Whether to compare records across datasets (`link_only`), within a dataset (`dedupe_only`), or both (`link_and_dedupe`).\n",
    "* **Blocking Rules** (`blocking_rules_to_generate_predictions`): Criteria to limit comparisons to likely matches, improving efficiency. These rules define which pairs of records should be compared so that we do not have to compare every record in one dataset to every record in the other dataset.\n",
    "* **Comparisons** (`comparisons`): How to compare specific fields. This includes the functions to use as well as how to define different levels of agreement (e.g. exact match, partial match, null level).\n",
    "\n",
    "There are a number of other settings that we can also specify, but we will start with these. Second, we need to create a linker object that identifies the datasets to link and the settings to use. You can also specify which database API to use; we will use DuckDB."
   ]
  },
  {
   "cell_type": "code",
   "execution_count": 146,
   "id": "ce8fe2ca",
   "metadata": {},
   "outputs": [
    {
     "data": {
      "text/plain": [
       "<splink.internals.linker.Linker at 0x31f4ca210>"
      ]
     },
     "execution_count": 146,
     "metadata": {},
     "output_type": "execute_result"
    }
   ],
   "source": [
    "import splink.comparison_library as cl\n",
    "from splink import DuckDBAPI, Linker, SettingsCreator, block_on\n",
    "\n",
    "settings = SettingsCreator(\n",
    "    link_type=\"link_only\",\n",
    "    comparisons=[\n",
    "        cl.JaroWinklerAtThresholds(\n",
    "            \"country\",\n",
    "            [0.9, 0.8, 0.7],\n",
    "        ),\n",
    "        cl.ExactMatch(\"year\"),\n",
    "        # cl.ExactMatch(\"countryCodeAlpha\"),\n",
    "        # cl.ExactMatch(\"countryCodeNum\"),\n",
    "    ],\n",
    "    blocking_rules_to_generate_predictions=[block_on(\"year\")],\n",
    "    # blocking_rules_to_generate_predictions=[\n",
    "    #     \"substr(l.Country,1,3) = substr(r.Country,1,3) AND l.Year = r.Year\",\n",
    "    # ],\n",
    ")\n",
    "\n",
    "db_api = DuckDBAPI()\n",
    "linker = Linker(\n",
    "    [wb_w_ind, oecd_w_ind, unwto_w_ind],\n",
    "    settings,\n",
    "    db_api=db_api,\n",
    "    input_table_aliases=[\"wb\", \"oecd\", \"unwto\"],\n",
    ")"
   ]
  },
  {
   "cell_type": "markdown",
   "id": "f9d4f247",
   "metadata": {},
   "source": [
    "Now, we need to estimate the parameters that the linker will use to predict which rows match. The estimate of u measures how likely we are to match by coincidence even though the entities should not be matched. The estimate of m tells us how likely we are to match when the entities should be matched. We can estimate u using random sampling, and then use the expectation maximization (EM) algorithm to estimate m. Note that we will use the codes to help the model learn the types of country name matches we might expect.\n",
    "\n",
    "The conceptual process involves a sequential Expectation-Maximization (EM) approach for learning matching parameters. The year EM step, with a blocking scope of \"year\" (block_on(\"year\")), estimates initial parameters using only pairs that share the same Year. The Second EM step then refines these parameters, using a data defined by matching codes, to further optimize $m$, $u$, and $lambda$ within that specific same-country context. Think of it like fine-tuning a model\n",
    "\n",
    "* You train on one subset (year blocks) to get good general structure.\n",
    "* Then you fine-tune on another subset (country code blocks) to adapt parameters."
   ]
  },
  {
   "cell_type": "code",
   "execution_count": 147,
   "id": "fe2d3edf",
   "metadata": {},
   "outputs": [
    {
     "name": "stderr",
     "output_type": "stream",
     "text": [
      "----- Estimating u probabilities using random sampling -----\n",
      "\n",
      "Estimated u probabilities using random sampling\n",
      "\n",
      "Your model is not yet fully trained. Missing estimates for:\n",
      "    - country (no m values are trained).\n",
      "    - year (no m values are trained).\n",
      "\n",
      "----- Starting EM training session -----\n",
      "\n",
      "Estimating the m probabilities of the model by blocking on:\n",
      "l.\"year\" = r.\"year\"\n",
      "\n",
      "Parameter estimates will be made for the following comparison(s):\n",
      "    - country\n",
      "\n",
      "Parameter estimates cannot be made for the following comparison(s) since they are used in the blocking rules: \n",
      "    - year\n",
      "\n",
      "Iteration 1: Largest change in params was -0.0679 in the m_probability of country, level `Exact match on country`\n",
      "Iteration 2: Largest change in params was -0.0535 in the m_probability of country, level `Exact match on country`\n",
      "Iteration 3: Largest change in params was -0.0442 in the m_probability of country, level `Exact match on country`\n",
      "Iteration 4: Largest change in params was -0.0376 in the m_probability of country, level `Exact match on country`\n",
      "Iteration 5: Largest change in params was -0.0327 in the m_probability of country, level `Exact match on country`\n",
      "Iteration 6: Largest change in params was -0.0289 in the m_probability of country, level `Exact match on country`\n",
      "Iteration 7: Largest change in params was -0.0259 in the m_probability of country, level `Exact match on country`\n",
      "Iteration 8: Largest change in params was -0.0235 in the m_probability of country, level `Exact match on country`\n",
      "Iteration 9: Largest change in params was -0.0214 in the m_probability of country, level `Exact match on country`\n",
      "Iteration 10: Largest change in params was -0.0197 in the m_probability of country, level `Exact match on country`\n",
      "Iteration 11: Largest change in params was -0.0182 in the m_probability of country, level `Exact match on country`\n",
      "Iteration 12: Largest change in params was -0.0169 in the m_probability of country, level `Exact match on country`\n",
      "Iteration 13: Largest change in params was -0.0158 in the m_probability of country, level `Exact match on country`\n",
      "Iteration 14: Largest change in params was -0.0149 in the m_probability of country, level `Exact match on country`\n",
      "Iteration 15: Largest change in params was -0.014 in the m_probability of country, level `Exact match on country`\n",
      "Iteration 16: Largest change in params was -0.0132 in the m_probability of country, level `Exact match on country`\n",
      "Iteration 17: Largest change in params was -0.0125 in the m_probability of country, level `Exact match on country`\n",
      "Iteration 18: Largest change in params was -0.0119 in the m_probability of country, level `Exact match on country`\n",
      "Iteration 19: Largest change in params was -0.0113 in the m_probability of country, level `Exact match on country`\n",
      "Iteration 20: Largest change in params was -0.0108 in the m_probability of country, level `Exact match on country`\n",
      "Iteration 21: Largest change in params was 0.0104 in the m_probability of country, level `Jaro-Winkler distance of country >= 0.7`\n",
      "Iteration 22: Largest change in params was 0.0102 in the m_probability of country, level `Jaro-Winkler distance of country >= 0.7`\n",
      "Iteration 23: Largest change in params was 0.0101 in the m_probability of country, level `Jaro-Winkler distance of country >= 0.7`\n",
      "Iteration 24: Largest change in params was 0.00989 in the m_probability of country, level `Jaro-Winkler distance of country >= 0.7`\n",
      "Iteration 25: Largest change in params was 0.00971 in the m_probability of country, level `Jaro-Winkler distance of country >= 0.7`\n",
      "\n",
      "EM converged after 25 iterations\n",
      "\n",
      "Your model is not yet fully trained. Missing estimates for:\n",
      "    - year (no m values are trained).\n",
      "\n",
      "----- Starting EM training session -----\n",
      "\n",
      "Estimating the m probabilities of the model by blocking on:\n",
      "l.\"countryCodeAlpha\" = r.\"countryCodeAlpha\"\n",
      "\n",
      "Parameter estimates will be made for the following comparison(s):\n",
      "    - country\n",
      "    - year\n",
      "\n",
      "Parameter estimates cannot be made for the following comparison(s) since they are used in the blocking rules: \n",
      "\n",
      "WARNING:\n",
      "Level Jaro-Winkler distance of country >= 0.7 on comparison country not observed in dataset, unable to train m value\n",
      "\n",
      "Iteration 1: Largest change in params was 0.557 in the m_probability of country, level `Exact match on country`\n",
      "Iteration 2: Largest change in params was -0.813 in the m_probability of year, level `Exact match on year`\n",
      "Iteration 3: Largest change in params was 0.754 in probability_two_random_records_match\n",
      "Iteration 4: Largest change in params was 0.0736 in probability_two_random_records_match\n",
      "Iteration 5: Largest change in params was 0.000991 in probability_two_random_records_match\n",
      "Iteration 6: Largest change in params was 6.71e-06 in probability_two_random_records_match\n",
      "\n",
      "EM converged after 6 iterations\n",
      "m probability not trained for country - Jaro-Winkler distance of country >= 0.7 (comparison vector value: 1). This usually means the comparison level was never observed in the training data.\n",
      "\n",
      "Your model is fully trained. All comparisons have at least one estimate for their m and u values\n"
     ]
    },
    {
     "data": {
      "text/plain": [
       "<EMTrainingSession, blocking on l.\"countryCodeAlpha\" = r.\"countryCodeAlpha\", deactivating comparisons >"
      ]
     },
     "execution_count": 147,
     "metadata": {},
     "output_type": "execute_result"
    }
   ],
   "source": [
    "linker.training.estimate_u_using_random_sampling(max_pairs=1e7)\n",
    "linker.training.estimate_parameters_using_expectation_maximisation(block_on(\"year\"))\n",
    "linker.training.estimate_parameters_using_expectation_maximisation(\n",
    "    block_on(\"countryCodeAlpha\"), block_on(\"countryCodeNum\")\n",
    ")"
   ]
  },
  {
   "cell_type": "markdown",
   "id": "d0901d6e",
   "metadata": {},
   "source": [
    "Now, we use the predict method to calculate the predicted matches."
   ]
  },
  {
   "cell_type": "code",
   "execution_count": 148,
   "id": "67410e61",
   "metadata": {},
   "outputs": [
    {
     "name": "stderr",
     "output_type": "stream",
     "text": [
      "Blocking time: 0.00 seconds\n",
      "Predict time: 0.19 seconds\n"
     ]
    },
    {
     "data": {
      "text/plain": [
       "Splink DataFrame representing table: `__splink__df_predict_912706881`\n",
       "\n",
       "To retrieve records, call one of the `as_x()` methods e.g.`.as_pandas_dataframe(limit=5)`\n",
       "or query the table using SQL with `linker.misc.query_sql(sql)`\n",
       "referring to the table with {this_df.physical_name}.\n"
      ]
     },
     "execution_count": 148,
     "metadata": {},
     "output_type": "execute_result"
    }
   ],
   "source": [
    "output = linker.inference.predict()"
   ]
  },
  {
   "cell_type": "markdown",
   "id": "74005d98",
   "metadata": {},
   "source": [
    "This generates the information in a DuckDB database. To look at these records, we can convert the output to a polars dataframe and sort by match probablity. You should note that the highest match_probability is quite low here."
   ]
  },
  {
   "cell_type": "code",
   "execution_count": 149,
   "id": "9da5be53",
   "metadata": {},
   "outputs": [
    {
     "data": {
      "text/html": [
       "<div><style>\n",
       ".dataframe > thead > tr,\n",
       ".dataframe > tbody > tr {\n",
       "  text-align: right;\n",
       "  white-space: pre-wrap;\n",
       "}\n",
       "</style>\n",
       "<small>shape: (1_984_962, 12)</small><table border=\"1\" class=\"dataframe\"><thead><tr><th>match_weight</th><th>match_probability</th><th>source_dataset_l</th><th>source_dataset_r</th><th>unique_id_l</th><th>unique_id_r</th><th>country_l</th><th>country_r</th><th>gamma_country</th><th>year_l</th><th>year_r</th><th>gamma_year</th></tr><tr><td>f64</td><td>f64</td><td>str</td><td>str</td><td>u32</td><td>u32</td><td>str</td><td>str</td><td>i32</td><td>i64</td><td>i64</td><td>i32</td></tr></thead><tbody><tr><td>-5.542726</td><td>0.021002</td><td>&quot;unwto&quot;</td><td>&quot;wb&quot;</td><td>921</td><td>4687</td><td>&quot;BRITISH VIRGIN ISLANDS&quot;</td><td>&quot;BRITISH VIRGIN ISLANDS&quot;</td><td>4</td><td>1999</td><td>1999</td><td>1</td></tr><tr><td>-5.542726</td><td>0.021002</td><td>&quot;unwto&quot;</td><td>&quot;wb&quot;</td><td>1155</td><td>5068</td><td>&quot;CHAD&quot;</td><td>&quot;CHAD&quot;</td><td>4</td><td>2000</td><td>2000</td><td>1</td></tr><tr><td>-5.542726</td><td>0.021002</td><td>&quot;oecd&quot;</td><td>&quot;wb&quot;</td><td>107</td><td>9178</td><td>&quot;PHILIPPINES&quot;</td><td>&quot;PHILIPPINES&quot;</td><td>4</td><td>2009</td><td>2009</td><td>1</td></tr><tr><td>-5.542726</td><td>0.021002</td><td>&quot;oecd&quot;</td><td>&quot;wb&quot;</td><td>663</td><td>8480</td><td>&quot;KAZAKHSTAN&quot;</td><td>&quot;KAZAKHSTAN&quot;</td><td>4</td><td>2019</td><td>2019</td><td>1</td></tr><tr><td>-5.542726</td><td>0.021002</td><td>&quot;unwto&quot;</td><td>&quot;wb&quot;</td><td>72</td><td>4392</td><td>&quot;GABON&quot;</td><td>&quot;GABON&quot;</td><td>4</td><td>1995</td><td>1995</td><td>1</td></tr><tr><td>&hellip;</td><td>&hellip;</td><td>&hellip;</td><td>&hellip;</td><td>&hellip;</td><td>&hellip;</td><td>&hellip;</td><td>&hellip;</td><td>&hellip;</td><td>&hellip;</td><td>&hellip;</td><td>&hellip;</td></tr><tr><td>-16.680659</td><td>0.00001</td><td>&quot;unwto&quot;</td><td>&quot;wb&quot;</td><td>5750</td><td>12037</td><td>&quot;SERBIA&quot;</td><td>&quot;ZAMBIA&quot;</td><td>0</td><td>2020</td><td>2020</td><td>1</td></tr><tr><td>-16.680659</td><td>0.00001</td><td>&quot;unwto&quot;</td><td>&quot;wb&quot;</td><td>5751</td><td>12037</td><td>&quot;SERBIA AND MONTENEGRO&quot;</td><td>&quot;ZAMBIA&quot;</td><td>0</td><td>2020</td><td>2020</td><td>1</td></tr><tr><td>-16.680659</td><td>0.00001</td><td>&quot;unwto&quot;</td><td>&quot;wb&quot;</td><td>5752</td><td>12037</td><td>&quot;SEYCHELLES&quot;</td><td>&quot;ZAMBIA&quot;</td><td>0</td><td>2020</td><td>2020</td><td>1</td></tr><tr><td>-16.680659</td><td>0.00001</td><td>&quot;unwto&quot;</td><td>&quot;wb&quot;</td><td>5753</td><td>12037</td><td>&quot;SIERRA LEONE&quot;</td><td>&quot;ZAMBIA&quot;</td><td>0</td><td>2020</td><td>2020</td><td>1</td></tr><tr><td>-16.680659</td><td>0.00001</td><td>&quot;unwto&quot;</td><td>&quot;wb&quot;</td><td>5754</td><td>12037</td><td>&quot;SINGAPORE&quot;</td><td>&quot;ZAMBIA&quot;</td><td>0</td><td>2020</td><td>2020</td><td>1</td></tr></tbody></table></div>"
      ],
      "text/plain": [
       "shape: (1_984_962, 12)\n",
       "┌────────────┬────────────┬────────────┬────────────┬───┬────────────┬────────┬────────┬───────────┐\n",
       "│ match_weig ┆ match_prob ┆ source_dat ┆ source_dat ┆ … ┆ gamma_coun ┆ year_l ┆ year_r ┆ gamma_yea │\n",
       "│ ht         ┆ ability    ┆ aset_l     ┆ aset_r     ┆   ┆ try        ┆ ---    ┆ ---    ┆ r         │\n",
       "│ ---        ┆ ---        ┆ ---        ┆ ---        ┆   ┆ ---        ┆ i64    ┆ i64    ┆ ---       │\n",
       "│ f64        ┆ f64        ┆ str        ┆ str        ┆   ┆ i32        ┆        ┆        ┆ i32       │\n",
       "╞════════════╪════════════╪════════════╪════════════╪═══╪════════════╪════════╪════════╪═══════════╡\n",
       "│ -5.542726  ┆ 0.021002   ┆ unwto      ┆ wb         ┆ … ┆ 4          ┆ 1999   ┆ 1999   ┆ 1         │\n",
       "│ -5.542726  ┆ 0.021002   ┆ unwto      ┆ wb         ┆ … ┆ 4          ┆ 2000   ┆ 2000   ┆ 1         │\n",
       "│ -5.542726  ┆ 0.021002   ┆ oecd       ┆ wb         ┆ … ┆ 4          ┆ 2009   ┆ 2009   ┆ 1         │\n",
       "│ -5.542726  ┆ 0.021002   ┆ oecd       ┆ wb         ┆ … ┆ 4          ┆ 2019   ┆ 2019   ┆ 1         │\n",
       "│ -5.542726  ┆ 0.021002   ┆ unwto      ┆ wb         ┆ … ┆ 4          ┆ 1995   ┆ 1995   ┆ 1         │\n",
       "│ …          ┆ …          ┆ …          ┆ …          ┆ … ┆ …          ┆ …      ┆ …      ┆ …         │\n",
       "│ -16.680659 ┆ 0.00001    ┆ unwto      ┆ wb         ┆ … ┆ 0          ┆ 2020   ┆ 2020   ┆ 1         │\n",
       "│ -16.680659 ┆ 0.00001    ┆ unwto      ┆ wb         ┆ … ┆ 0          ┆ 2020   ┆ 2020   ┆ 1         │\n",
       "│ -16.680659 ┆ 0.00001    ┆ unwto      ┆ wb         ┆ … ┆ 0          ┆ 2020   ┆ 2020   ┆ 1         │\n",
       "│ -16.680659 ┆ 0.00001    ┆ unwto      ┆ wb         ┆ … ┆ 0          ┆ 2020   ┆ 2020   ┆ 1         │\n",
       "│ -16.680659 ┆ 0.00001    ┆ unwto      ┆ wb         ┆ … ┆ 0          ┆ 2020   ┆ 2020   ┆ 1         │\n",
       "└────────────┴────────────┴────────────┴────────────┴───┴────────────┴────────┴────────┴───────────┘"
      ]
     },
     "execution_count": 149,
     "metadata": {},
     "output_type": "execute_result"
    }
   ],
   "source": [
    "output_df = pl.DataFrame(output.as_pandas_dataframe()).sort(\n",
    "    \"match_probability\", descending=True\n",
    ")"
   ]
  },
  {
   "cell_type": "markdown",
   "id": "b479ce25",
   "metadata": {},
   "source": [
    "When we look at the top matches where country names do not match exactly, we can see that the Jaro-Winkler similarity works for some of the cases we might hope it does."
   ]
  },
  {
   "cell_type": "code",
   "execution_count": 150,
   "id": "315c28f2",
   "metadata": {},
   "outputs": [
    {
     "data": {
      "text/html": [
       "<div><style>\n",
       ".dataframe > thead > tr,\n",
       ".dataframe > tbody > tr {\n",
       "  text-align: right;\n",
       "  white-space: pre-wrap;\n",
       "}\n",
       "</style>\n",
       "<small>shape: (1_978_730, 12)</small><table border=\"1\" class=\"dataframe\"><thead><tr><th>match_weight</th><th>match_probability</th><th>source_dataset_l</th><th>source_dataset_r</th><th>unique_id_l</th><th>unique_id_r</th><th>country_l</th><th>country_r</th><th>gamma_country</th><th>year_l</th><th>year_r</th><th>gamma_year</th></tr><tr><td>f64</td><td>f64</td><td>str</td><td>str</td><td>u32</td><td>u32</td><td>str</td><td>str</td><td>i32</td><td>i64</td><td>i64</td><td>i32</td></tr></thead><tbody><tr><td>-7.146352</td><td>0.007009</td><td>&quot;unwto&quot;</td><td>&quot;wb&quot;</td><td>763</td><td>5184</td><td>&quot;IRELAND&quot;</td><td>&quot;ICELAND&quot;</td><td>3</td><td>1998</td><td>1998</td><td>1</td></tr><tr><td>-7.146352</td><td>0.007009</td><td>&quot;unwto&quot;</td><td>&quot;wb&quot;</td><td>562</td><td>5306</td><td>&quot;MACAO, CHINA&quot;</td><td>&quot;MACAO SAR, CHINA&quot;</td><td>3</td><td>1997</td><td>1997</td><td>1</td></tr><tr><td>-7.146352</td><td>0.007009</td><td>&quot;unwto&quot;</td><td>&quot;wb&quot;</td><td>1036</td><td>4604</td><td>&quot;NIGER&quot;</td><td>&quot;NIGERIA&quot;</td><td>3</td><td>1999</td><td>1999</td><td>1</td></tr><tr><td>-7.146352</td><td>0.007009</td><td>&quot;oecd&quot;</td><td>&quot;wb&quot;</td><td>728</td><td>8282</td><td>&quot;AUSTRALIA&quot;</td><td>&quot;AUSTRIA&quot;</td><td>3</td><td>2021</td><td>2021</td><td>1</td></tr><tr><td>-7.146352</td><td>0.007009</td><td>&quot;oecd&quot;</td><td>&quot;wb&quot;</td><td>447</td><td>7256</td><td>&quot;SOUTH AFRICA&quot;</td><td>&quot;SOUTH ASIA&quot;</td><td>3</td><td>2015</td><td>2015</td><td>1</td></tr><tr><td>&hellip;</td><td>&hellip;</td><td>&hellip;</td><td>&hellip;</td><td>&hellip;</td><td>&hellip;</td><td>&hellip;</td><td>&hellip;</td><td>&hellip;</td><td>&hellip;</td><td>&hellip;</td><td>&hellip;</td></tr><tr><td>-16.680659</td><td>0.00001</td><td>&quot;unwto&quot;</td><td>&quot;wb&quot;</td><td>5750</td><td>12037</td><td>&quot;SERBIA&quot;</td><td>&quot;ZAMBIA&quot;</td><td>0</td><td>2020</td><td>2020</td><td>1</td></tr><tr><td>-16.680659</td><td>0.00001</td><td>&quot;unwto&quot;</td><td>&quot;wb&quot;</td><td>5751</td><td>12037</td><td>&quot;SERBIA AND MONTENEGRO&quot;</td><td>&quot;ZAMBIA&quot;</td><td>0</td><td>2020</td><td>2020</td><td>1</td></tr><tr><td>-16.680659</td><td>0.00001</td><td>&quot;unwto&quot;</td><td>&quot;wb&quot;</td><td>5752</td><td>12037</td><td>&quot;SEYCHELLES&quot;</td><td>&quot;ZAMBIA&quot;</td><td>0</td><td>2020</td><td>2020</td><td>1</td></tr><tr><td>-16.680659</td><td>0.00001</td><td>&quot;unwto&quot;</td><td>&quot;wb&quot;</td><td>5753</td><td>12037</td><td>&quot;SIERRA LEONE&quot;</td><td>&quot;ZAMBIA&quot;</td><td>0</td><td>2020</td><td>2020</td><td>1</td></tr><tr><td>-16.680659</td><td>0.00001</td><td>&quot;unwto&quot;</td><td>&quot;wb&quot;</td><td>5754</td><td>12037</td><td>&quot;SINGAPORE&quot;</td><td>&quot;ZAMBIA&quot;</td><td>0</td><td>2020</td><td>2020</td><td>1</td></tr></tbody></table></div>"
      ],
      "text/plain": [
       "shape: (1_978_730, 12)\n",
       "┌────────────┬────────────┬────────────┬────────────┬───┬────────────┬────────┬────────┬───────────┐\n",
       "│ match_weig ┆ match_prob ┆ source_dat ┆ source_dat ┆ … ┆ gamma_coun ┆ year_l ┆ year_r ┆ gamma_yea │\n",
       "│ ht         ┆ ability    ┆ aset_l     ┆ aset_r     ┆   ┆ try        ┆ ---    ┆ ---    ┆ r         │\n",
       "│ ---        ┆ ---        ┆ ---        ┆ ---        ┆   ┆ ---        ┆ i64    ┆ i64    ┆ ---       │\n",
       "│ f64        ┆ f64        ┆ str        ┆ str        ┆   ┆ i32        ┆        ┆        ┆ i32       │\n",
       "╞════════════╪════════════╪════════════╪════════════╪═══╪════════════╪════════╪════════╪═══════════╡\n",
       "│ -7.146352  ┆ 0.007009   ┆ unwto      ┆ wb         ┆ … ┆ 3          ┆ 1998   ┆ 1998   ┆ 1         │\n",
       "│ -7.146352  ┆ 0.007009   ┆ unwto      ┆ wb         ┆ … ┆ 3          ┆ 1997   ┆ 1997   ┆ 1         │\n",
       "│ -7.146352  ┆ 0.007009   ┆ unwto      ┆ wb         ┆ … ┆ 3          ┆ 1999   ┆ 1999   ┆ 1         │\n",
       "│ -7.146352  ┆ 0.007009   ┆ oecd       ┆ wb         ┆ … ┆ 3          ┆ 2021   ┆ 2021   ┆ 1         │\n",
       "│ -7.146352  ┆ 0.007009   ┆ oecd       ┆ wb         ┆ … ┆ 3          ┆ 2015   ┆ 2015   ┆ 1         │\n",
       "│ …          ┆ …          ┆ …          ┆ …          ┆ … ┆ …          ┆ …      ┆ …      ┆ …         │\n",
       "│ -16.680659 ┆ 0.00001    ┆ unwto      ┆ wb         ┆ … ┆ 0          ┆ 2020   ┆ 2020   ┆ 1         │\n",
       "│ -16.680659 ┆ 0.00001    ┆ unwto      ┆ wb         ┆ … ┆ 0          ┆ 2020   ┆ 2020   ┆ 1         │\n",
       "│ -16.680659 ┆ 0.00001    ┆ unwto      ┆ wb         ┆ … ┆ 0          ┆ 2020   ┆ 2020   ┆ 1         │\n",
       "│ -16.680659 ┆ 0.00001    ┆ unwto      ┆ wb         ┆ … ┆ 0          ┆ 2020   ┆ 2020   ┆ 1         │\n",
       "│ -16.680659 ┆ 0.00001    ┆ unwto      ┆ wb         ┆ … ┆ 0          ┆ 2020   ┆ 2020   ┆ 1         │\n",
       "└────────────┴────────────┴────────────┴────────────┴───┴────────────┴────────┴────────┴───────────┘"
      ]
     },
     "execution_count": 150,
     "metadata": {},
     "output_type": "execute_result"
    }
   ],
   "source": [
    "output_df.filter((pl.col(\"country_l\") != pl.col(\"country_r\")))"
   ]
  },
  {
   "cell_type": "markdown",
   "id": "1f0212ef",
   "metadata": {},
   "source": [
    "You results may be slightly different, but you should see some good results like \"UNITED STATES\" matching with \"UNITED STATES OF AMERICA\" and \"BAHAMAS\" matching with \"BAHAMAS, THE\". However, other results are not good like \"IRELAND\" matching with \"ICELAND\" and \"NORTH MACEDONIA\" matching with \"NORTH AMERICA\". We can improve our matches by adding more comparison fields. Specifically, we can add comparisons based on the receipts and expenditures numbers. We should expect the datasets to have similar numbers for these fields for the same countries and years. Here, we can build our own comparisons using predefined levels from splink. Each comparison is built as a set of levels where each level has a comparison function and a threshold."
   ]
  },
  {
   "cell_type": "code",
   "execution_count": 151,
   "id": "33bbed88",
   "metadata": {},
   "outputs": [
    {
     "data": {
      "text/plain": [
       "<splink.internals.linker.Linker at 0x48d4f59d0>"
      ]
     },
     "execution_count": 151,
     "metadata": {},
     "output_type": "execute_result"
    }
   ],
   "source": [
    "import splink.comparison_library as cl\n",
    "import splink.comparison_level_library as cll\n",
    "from splink import DuckDBAPI, Linker, SettingsCreator, block_on\n",
    "\n",
    "settings = SettingsCreator(\n",
    "    link_type=\"link_only\",\n",
    "    comparisons=[\n",
    "        cl.JaroWinklerAtThresholds(\n",
    "            \"country\",\n",
    "            [0.9, 0.8, 0.7],\n",
    "        ),\n",
    "        cl.ExactMatch(\"year\"),\n",
    "        {\n",
    "            \"comparison_levels\": [\n",
    "                cll.NullLevel(\"receipts\"),\n",
    "                cll.PercentageDifferenceLevel(\"receipts\", 0.05),\n",
    "                cll.PercentageDifferenceLevel(\"receipts\", 0.1),\n",
    "                cll.PercentageDifferenceLevel(\"receipts\", 0.2),\n",
    "                cll.PercentageDifferenceLevel(\"receipts\", 1.0),\n",
    "            ],\n",
    "        },\n",
    "        {\n",
    "            \"comparison_levels\": [\n",
    "                cll.NullLevel(\"expenditures\"),\n",
    "                cll.PercentageDifferenceLevel(\"expenditures\", 0.05),\n",
    "                cll.PercentageDifferenceLevel(\"expenditures\", 0.1),\n",
    "                cll.PercentageDifferenceLevel(\"expenditures\", 0.2),\n",
    "                cll.PercentageDifferenceLevel(\"expenditures\", 1.0),\n",
    "            ],\n",
    "        },\n",
    "    ],\n",
    "    blocking_rules_to_generate_predictions=[block_on(\"year\")],\n",
    ")\n",
    "\n",
    "db_api = DuckDBAPI()\n",
    "linker = Linker(\n",
    "    [wb_w_ind, oecd_w_ind, unwto_w_ind],\n",
    "    settings,\n",
    "    db_api=db_api,\n",
    "    input_table_aliases=[\"wb\", \"oecd\", \"unwto\"],\n",
    ")"
   ]
  },
  {
   "cell_type": "code",
   "execution_count": 152,
   "id": "6f8243c7",
   "metadata": {},
   "outputs": [
    {
     "name": "stderr",
     "output_type": "stream",
     "text": [
      "----- Estimating u probabilities using random sampling -----\n",
      "\n",
      "Estimated u probabilities using random sampling\n",
      "\n",
      "Your model is not yet fully trained. Missing estimates for:\n",
      "    - country (no m values are trained).\n",
      "    - year (no m values are trained).\n",
      "    - receipts (no m values are trained).\n",
      "    - expenditures (no m values are trained).\n",
      "\n",
      "----- Starting EM training session -----\n",
      "\n",
      "Estimating the m probabilities of the model by blocking on:\n",
      "l.\"year\" = r.\"year\"\n",
      "\n",
      "Parameter estimates will be made for the following comparison(s):\n",
      "    - country\n",
      "    - receipts\n",
      "    - expenditures\n",
      "\n",
      "Parameter estimates cannot be made for the following comparison(s) since they are used in the blocking rules: \n",
      "    - year\n",
      "\n",
      "Iteration 1: Largest change in params was -0.0975 in the m_probability of country, level `Exact match on country`\n",
      "Iteration 2: Largest change in params was -0.0346 in the m_probability of country, level `Exact match on country`\n",
      "Iteration 3: Largest change in params was 0.0126 in the m_probability of country, level `Jaro-Winkler distance of country >= 0.8`\n",
      "Iteration 4: Largest change in params was 0.00485 in the m_probability of country, level `Jaro-Winkler distance of country >= 0.8`\n",
      "Iteration 5: Largest change in params was -0.00187 in the m_probability of country, level `Exact match on country`\n",
      "Iteration 6: Largest change in params was 0.00101 in the m_probability of country, level `All other comparisons`\n",
      "Iteration 7: Largest change in params was 0.001 in the m_probability of country, level `All other comparisons`\n",
      "Iteration 8: Largest change in params was 0.000989 in the m_probability of country, level `All other comparisons`\n",
      "Iteration 9: Largest change in params was 0.000974 in the m_probability of country, level `All other comparisons`\n",
      "Iteration 10: Largest change in params was 0.000956 in the m_probability of country, level `All other comparisons`\n",
      "Iteration 11: Largest change in params was 0.000938 in the m_probability of country, level `All other comparisons`\n",
      "Iteration 12: Largest change in params was 0.000918 in the m_probability of country, level `All other comparisons`\n",
      "Iteration 13: Largest change in params was 0.000898 in the m_probability of country, level `All other comparisons`\n",
      "Iteration 14: Largest change in params was 0.000877 in the m_probability of country, level `All other comparisons`\n",
      "Iteration 15: Largest change in params was 0.000856 in the m_probability of country, level `All other comparisons`\n",
      "Iteration 16: Largest change in params was 0.000834 in the m_probability of country, level `All other comparisons`\n",
      "Iteration 17: Largest change in params was 0.000812 in the m_probability of country, level `All other comparisons`\n",
      "Iteration 18: Largest change in params was 0.000789 in the m_probability of country, level `All other comparisons`\n",
      "Iteration 19: Largest change in params was 0.000767 in the m_probability of country, level `All other comparisons`\n",
      "Iteration 20: Largest change in params was 0.000745 in the m_probability of country, level `All other comparisons`\n",
      "Iteration 21: Largest change in params was 0.000722 in the m_probability of country, level `All other comparisons`\n",
      "Iteration 22: Largest change in params was 0.0007 in the m_probability of country, level `All other comparisons`\n",
      "Iteration 23: Largest change in params was 0.000677 in the m_probability of country, level `All other comparisons`\n",
      "Iteration 24: Largest change in params was 0.000655 in the m_probability of country, level `All other comparisons`\n",
      "Iteration 25: Largest change in params was 0.000634 in the m_probability of country, level `All other comparisons`\n",
      "\n",
      "EM converged after 25 iterations\n",
      "\n",
      "Your model is not yet fully trained. Missing estimates for:\n",
      "    - year (no m values are trained).\n",
      "\n",
      "----- Starting EM training session -----\n",
      "\n",
      "Estimating the m probabilities of the model by blocking on:\n",
      "l.\"countryCodeAlpha\" = r.\"countryCodeAlpha\"\n",
      "\n",
      "Parameter estimates will be made for the following comparison(s):\n",
      "    - country\n",
      "    - year\n",
      "    - receipts\n",
      "    - expenditures\n",
      "\n",
      "Parameter estimates cannot be made for the following comparison(s) since they are used in the blocking rules: \n",
      "\n",
      "WARNING:\n",
      "Level Jaro-Winkler distance of country >= 0.7 on comparison country not observed in dataset, unable to train m value\n",
      "\n",
      "Iteration 1: Largest change in params was 0.148 in the m_probability of year, level `All other comparisons`\n",
      "Iteration 2: Largest change in params was -0.757 in the m_probability of year, level `Exact match on year`\n",
      "Iteration 3: Largest change in params was 0.367 in probability_two_random_records_match\n",
      "Iteration 4: Largest change in params was 0.283 in the m_probability of expenditures, level `Percentage difference of 'expenditures' within 100.00%`\n",
      "Iteration 5: Largest change in params was 0.0101 in the m_probability of expenditures, level `Percentage difference of 'expenditures' within 100.00%`\n",
      "Iteration 6: Largest change in params was 0.012 in the m_probability of receipts, level `Percentage difference of 'receipts' within 100.00%`\n",
      "Iteration 7: Largest change in params was 0.667 in the m_probability of receipts, level `Percentage difference of 'receipts' within 100.00%`\n",
      "Iteration 8: Largest change in params was 0.0516 in the m_probability of expenditures, level `Percentage difference of 'expenditures' within 100.00%`\n",
      "Iteration 9: Largest change in params was 0.000211 in probability_two_random_records_match\n",
      "Iteration 10: Largest change in params was 1.36e-06 in probability_two_random_records_match\n",
      "\n",
      "EM converged after 10 iterations\n",
      "m probability not trained for country - Jaro-Winkler distance of country >= 0.7 (comparison vector value: 1). This usually means the comparison level was never observed in the training data.\n",
      "\n",
      "Your model is fully trained. All comparisons have at least one estimate for their m and u values\n",
      "Blocking time: 0.00 seconds\n",
      "Predict time: 0.26 seconds\n"
     ]
    },
    {
     "data": {
      "text/plain": [
       "Splink DataFrame representing table: `__splink__df_predict_7893bc08a`\n",
       "\n",
       "To retrieve records, call one of the `as_x()` methods e.g.`.as_pandas_dataframe(limit=5)`\n",
       "or query the table using SQL with `linker.misc.query_sql(sql)`\n",
       "referring to the table with {this_df.physical_name}.\n"
      ]
     },
     "execution_count": 152,
     "metadata": {},
     "output_type": "execute_result"
    }
   ],
   "source": [
    "linker.training.estimate_u_using_random_sampling(max_pairs=1e7)\n",
    "linker.training.estimate_parameters_using_expectation_maximisation(block_on(\"year\"))\n",
    "linker.training.estimate_parameters_using_expectation_maximisation(\n",
    "    block_on(\"countryCodeAlpha\"), block_on(\"countryCodeNum\")\n",
    ")\n",
    "output = linker.inference.predict()"
   ]
  },
  {
   "cell_type": "markdown",
   "id": "8a05f189",
   "metadata": {},
   "source": [
    "Here, we can see a visualization of the effect of the differnt parameter estimates."
   ]
  },
  {
   "cell_type": "code",
   "execution_count": 153,
   "id": "6d39d3bb",
   "metadata": {},
   "outputs": [
    {
     "data": {
      "text/html": [
       "\n",
       "<style>\n",
       "  #altair-viz-b5067d9eab3845b3b46264ebc8dde451.vega-embed {\n",
       "    width: 100%;\n",
       "    display: flex;\n",
       "  }\n",
       "\n",
       "  #altair-viz-b5067d9eab3845b3b46264ebc8dde451.vega-embed details,\n",
       "  #altair-viz-b5067d9eab3845b3b46264ebc8dde451.vega-embed details summary {\n",
       "    position: relative;\n",
       "  }\n",
       "</style>\n",
       "<div id=\"altair-viz-b5067d9eab3845b3b46264ebc8dde451\"></div>\n",
       "<script type=\"text/javascript\">\n",
       "  var VEGA_DEBUG = (typeof VEGA_DEBUG == \"undefined\") ? {} : VEGA_DEBUG;\n",
       "  (function(spec, embedOpt){\n",
       "    let outputDiv = document.currentScript.previousElementSibling;\n",
       "    if (outputDiv.id !== \"altair-viz-b5067d9eab3845b3b46264ebc8dde451\") {\n",
       "      outputDiv = document.getElementById(\"altair-viz-b5067d9eab3845b3b46264ebc8dde451\");\n",
       "    }\n",
       "    const paths = {\n",
       "      \"vega\": \"https://cdn.jsdelivr.net/npm/vega@5?noext\",\n",
       "      \"vega-lib\": \"https://cdn.jsdelivr.net/npm/vega-lib?noext\",\n",
       "      \"vega-lite\": \"https://cdn.jsdelivr.net/npm/vega-lite@5.20.1?noext\",\n",
       "      \"vega-embed\": \"https://cdn.jsdelivr.net/npm/vega-embed@6?noext\",\n",
       "    };\n",
       "\n",
       "    function maybeLoadScript(lib, version) {\n",
       "      var key = `${lib.replace(\"-\", \"\")}_version`;\n",
       "      return (VEGA_DEBUG[key] == version) ?\n",
       "        Promise.resolve(paths[lib]) :\n",
       "        new Promise(function(resolve, reject) {\n",
       "          var s = document.createElement('script');\n",
       "          document.getElementsByTagName(\"head\")[0].appendChild(s);\n",
       "          s.async = true;\n",
       "          s.onload = () => {\n",
       "            VEGA_DEBUG[key] = version;\n",
       "            return resolve(paths[lib]);\n",
       "          };\n",
       "          s.onerror = () => reject(`Error loading script: ${paths[lib]}`);\n",
       "          s.src = paths[lib];\n",
       "        });\n",
       "    }\n",
       "\n",
       "    function showError(err) {\n",
       "      outputDiv.innerHTML = `<div class=\"error\" style=\"color:red;\">${err}</div>`;\n",
       "      throw err;\n",
       "    }\n",
       "\n",
       "    function displayChart(vegaEmbed) {\n",
       "      vegaEmbed(outputDiv, spec, embedOpt)\n",
       "        .catch(err => showError(`Javascript Error: ${err.message}<br>This usually means there's a typo in your chart specification. See the javascript console for the full traceback.`));\n",
       "    }\n",
       "\n",
       "    if(typeof define === \"function\" && define.amd) {\n",
       "      requirejs.config({paths});\n",
       "      require([\"vega-embed\"], displayChart, err => showError(`Error loading script: ${err.message}`));\n",
       "    } else {\n",
       "      maybeLoadScript(\"vega\", \"5\")\n",
       "        .then(() => maybeLoadScript(\"vega-lite\", \"5.20.1\"))\n",
       "        .then(() => maybeLoadScript(\"vega-embed\", \"6\"))\n",
       "        .catch(showError)\n",
       "        .then(() => displayChart(vegaEmbed));\n",
       "    }\n",
       "  })({\"config\": {\"view\": {\"continuousWidth\": 400, \"continuousHeight\": 300}, \"title\": {\"anchor\": \"middle\", \"fontSize\": 18, \"subtitleFontSize\": 14}}, \"data\": {\"name\": \"data-8e2c756026783ddf9ccaccbe698fbfb0\"}, \"mark\": {\"type\": \"point\", \"filled\": false, \"opacity\": 0.7, \"size\": 100}, \"encoding\": {\"color\": {\"field\": \"estimate_description\", \"type\": \"nominal\"}, \"column\": {\"align\": \"each\", \"field\": \"col_header\", \"header\": {\"labelFontSize\": 14, \"labelFontWeight\": \"bold\"}, \"title\": null, \"type\": \"nominal\"}, \"row\": {\"align\": \"each\", \"field\": \"comparison_name\", \"header\": {\"labelAlign\": \"left\", \"labelAnchor\": \"middle\", \"labelAngle\": 0, \"labelFontSize\": 12, \"labelFontWeight\": \"bold\"}, \"sort\": {\"field\": \"comparison_sort_order\"}, \"title\": null, \"type\": \"nominal\"}, \"shape\": {\"field\": \"estimate_description\", \"scale\": {\"range\": [\"circle\", \"square\", \"triangle\", \"diamond\"]}, \"type\": \"nominal\"}, \"tooltip\": [{\"field\": \"comparison_name\", \"type\": \"nominal\"}, {\"field\": \"estimate_description\", \"type\": \"nominal\"}, {\"field\": \"estimated_probability\", \"type\": \"quantitative\"}], \"x\": {\"axis\": {\"gridColor\": {\"condition\": {\"test\": \"abs(datum.value / 10)  <= 1 & datum.value % 10 === 0\", \"value\": \"#aaa\"}, \"value\": \"#ddd\"}, \"gridDash\": {\"condition\": {\"test\": \"abs(datum.value / 10) == 1\", \"value\": [3]}, \"value\": null}, \"gridWidth\": {\"condition\": {\"test\": \"abs(datum.value / 10)  <= 1 & datum.value % 10 === 0\", \"value\": 2}, \"value\": 1}}, \"field\": \"estimated_probability_as_log_odds\", \"title\": \"Estimated probability as log odds\", \"type\": \"quantitative\"}, \"y\": {\"axis\": {\"grid\": true, \"title\": null}, \"field\": \"comparison_level_label\", \"sort\": {\"field\": \"comparison_vector_value\", \"order\": \"descending\"}, \"type\": \"nominal\"}}, \"params\": [{\"name\": \"mouse_zoom\", \"select\": {\"type\": \"interval\", \"encodings\": [\"x\"]}, \"bind\": \"scales\"}], \"resolve\": {\"scale\": {\"y\": \"independent\"}}, \"title\": {\"text\": \"Comparison of parameter estimates across training sessions\", \"subtitle\": \"Use mousewheel to zoom\"}, \"transform\": [{\"calculate\": \"datum.m_or_u + '-probability (as log odds)'\", \"as\": \"col_header\"}], \"$schema\": \"https://vega.github.io/schema/vega-lite/v5.9.3.json\", \"datasets\": {\"data-8e2c756026783ddf9ccaccbe698fbfb0\": [{\"m_or_u\": \"m\", \"estimated_probability\": 0.7876316889426435, \"estimate_description\": \"EM, blocked on: l.\\\"year\\\" = r.\\\"year\\\"\", \"estimated_probability_as_log_odds\": 1.8909526489349395, \"sql_condition\": \"\\\"country_l\\\" = \\\"country_r\\\"\", \"comparison_level_label\": \"Exact match on country\", \"comparison_vector_value\": 4, \"comparison_name\": \"country\", \"comparison_sort_order\": 0}, {\"m_or_u\": \"m\", \"estimated_probability\": 0.8865547496792454, \"estimate_description\": \"EM, blocked on: l.\\\"countryCodeAlpha\\\" = r.\\\"countryCodeAlpha\\\"\", \"estimated_probability_as_log_odds\": 2.966213520195878, \"sql_condition\": \"\\\"country_l\\\" = \\\"country_r\\\"\", \"comparison_level_label\": \"Exact match on country\", \"comparison_vector_value\": 4, \"comparison_name\": \"country\", \"comparison_sort_order\": 0}, {\"m_or_u\": \"m\", \"estimated_probability\": 0.044436221988846836, \"estimate_description\": \"EM, blocked on: l.\\\"year\\\" = r.\\\"year\\\"\", \"estimated_probability_as_log_odds\": -4.426544099739242, \"sql_condition\": \"jaro_winkler_similarity(\\\"country_l\\\", \\\"country_r\\\") >= 0.9\", \"comparison_level_label\": \"Jaro-Winkler distance of country >= 0.9\", \"comparison_vector_value\": 3, \"comparison_name\": \"country\", \"comparison_sort_order\": 0}, {\"m_or_u\": \"m\", \"estimated_probability\": 0.03357658096549892, \"estimate_description\": \"EM, blocked on: l.\\\"countryCodeAlpha\\\" = r.\\\"countryCodeAlpha\\\"\", \"estimated_probability_as_log_odds\": -4.847128179277206, \"sql_condition\": \"jaro_winkler_similarity(\\\"country_l\\\", \\\"country_r\\\") >= 0.9\", \"comparison_level_label\": \"Jaro-Winkler distance of country >= 0.9\", \"comparison_vector_value\": 3, \"comparison_name\": \"country\", \"comparison_sort_order\": 0}, {\"m_or_u\": \"m\", \"estimated_probability\": 0.11382499628120392, \"estimate_description\": \"EM, blocked on: l.\\\"year\\\" = r.\\\"year\\\"\", \"estimated_probability_as_log_odds\": -2.9607742211691828, \"sql_condition\": \"jaro_winkler_similarity(\\\"country_l\\\", \\\"country_r\\\") >= 0.8\", \"comparison_level_label\": \"Jaro-Winkler distance of country >= 0.8\", \"comparison_vector_value\": 2, \"comparison_name\": \"country\", \"comparison_sort_order\": 0}, {\"m_or_u\": \"m\", \"estimated_probability\": 0.0798686690510865, \"estimate_description\": \"EM, blocked on: l.\\\"countryCodeAlpha\\\" = r.\\\"countryCodeAlpha\\\"\", \"estimated_probability_as_log_odds\": -3.5261382150641936, \"sql_condition\": \"jaro_winkler_similarity(\\\"country_l\\\", \\\"country_r\\\") >= 0.8\", \"comparison_level_label\": \"Jaro-Winkler distance of country >= 0.8\", \"comparison_vector_value\": 2, \"comparison_name\": \"country\", \"comparison_sort_order\": 0}, {\"m_or_u\": \"m\", \"estimated_probability\": 0.010457226289190992, \"estimate_description\": \"EM, blocked on: l.\\\"year\\\" = r.\\\"year\\\"\", \"estimated_probability_as_log_odds\": -6.564189928145837, \"sql_condition\": \"jaro_winkler_similarity(\\\"country_l\\\", \\\"country_r\\\") >= 0.7\", \"comparison_level_label\": \"Jaro-Winkler distance of country >= 0.7\", \"comparison_vector_value\": 1, \"comparison_name\": \"country\", \"comparison_sort_order\": 0}, {\"m_or_u\": \"m\", \"estimated_probability\": \"level not observed in training dataset\", \"estimate_description\": \"EM, blocked on: l.\\\"countryCodeAlpha\\\" = r.\\\"countryCodeAlpha\\\"\", \"estimated_probability_as_log_odds\": null, \"sql_condition\": \"jaro_winkler_similarity(\\\"country_l\\\", \\\"country_r\\\") >= 0.7\", \"comparison_level_label\": \"Jaro-Winkler distance of country >= 0.7\", \"comparison_vector_value\": 1, \"comparison_name\": \"country\", \"comparison_sort_order\": 0}, {\"m_or_u\": \"m\", \"estimated_probability\": 0.04364986649811486, \"estimate_description\": \"EM, blocked on: l.\\\"year\\\" = r.\\\"year\\\"\", \"estimated_probability_as_log_odds\": -4.453489759735496, \"sql_condition\": \"ELSE\", \"comparison_level_label\": \"All other comparisons\", \"comparison_vector_value\": 0, \"comparison_name\": \"country\", \"comparison_sort_order\": 0}, {\"m_or_u\": \"m\", \"estimated_probability\": 3.0416920980048103e-10, \"estimate_description\": \"EM, blocked on: l.\\\"countryCodeAlpha\\\" = r.\\\"countryCodeAlpha\\\"\", \"estimated_probability_as_log_odds\": -31.61440682797061, \"sql_condition\": \"ELSE\", \"comparison_level_label\": \"All other comparisons\", \"comparison_vector_value\": 0, \"comparison_name\": \"country\", \"comparison_sort_order\": 0}, {\"m_or_u\": \"m\", \"estimated_probability\": 0.017081370559349787, \"estimate_description\": \"EM, blocked on: l.\\\"countryCodeAlpha\\\" = r.\\\"countryCodeAlpha\\\"\", \"estimated_probability_as_log_odds\": -5.8465763461704645, \"sql_condition\": \"\\\"year_l\\\" = \\\"year_r\\\"\", \"comparison_level_label\": \"Exact match on year\", \"comparison_vector_value\": 1, \"comparison_name\": \"year\", \"comparison_sort_order\": 1}, {\"m_or_u\": \"m\", \"estimated_probability\": 0.9829186294406502, \"estimate_description\": \"EM, blocked on: l.\\\"countryCodeAlpha\\\" = r.\\\"countryCodeAlpha\\\"\", \"estimated_probability_as_log_odds\": 5.846576346170465, \"sql_condition\": \"ELSE\", \"comparison_level_label\": \"All other comparisons\", \"comparison_vector_value\": 0, \"comparison_name\": \"year\", \"comparison_sort_order\": 1}, {\"m_or_u\": \"m\", \"estimated_probability\": 0.9817875906990242, \"estimate_description\": \"EM, blocked on: l.\\\"year\\\" = r.\\\"year\\\"\", \"estimated_probability_as_log_odds\": 5.752417239178143, \"sql_condition\": \"(ABS(\\\"receipts_l\\\" - \\\"receipts_r\\\") / (CASE WHEN \\\"receipts_r\\\" > \\\"receipts_l\\\" THEN \\\"receipts_r\\\" ELSE \\\"receipts_l\\\" END)) < 0.05\", \"comparison_level_label\": \"Percentage difference of 'receipts' within 5.00%\", \"comparison_vector_value\": 3, \"comparison_name\": \"receipts\", \"comparison_sort_order\": 2}, {\"m_or_u\": \"m\", \"estimated_probability\": 0.09952422120901001, \"estimate_description\": \"EM, blocked on: l.\\\"countryCodeAlpha\\\" = r.\\\"countryCodeAlpha\\\"\", \"estimated_probability_as_log_odds\": -3.1775678885209757, \"sql_condition\": \"(ABS(\\\"receipts_l\\\" - \\\"receipts_r\\\") / (CASE WHEN \\\"receipts_r\\\" > \\\"receipts_l\\\" THEN \\\"receipts_r\\\" ELSE \\\"receipts_l\\\" END)) < 0.05\", \"comparison_level_label\": \"Percentage difference of 'receipts' within 5.00%\", \"comparison_vector_value\": 3, \"comparison_name\": \"receipts\", \"comparison_sort_order\": 2}, {\"m_or_u\": \"m\", \"estimated_probability\": 0.0052217780735191325, \"estimate_description\": \"EM, blocked on: l.\\\"year\\\" = r.\\\"year\\\"\", \"estimated_probability_as_log_odds\": -7.573689969469484, \"sql_condition\": \"(ABS(\\\"receipts_l\\\" - \\\"receipts_r\\\") / (CASE WHEN \\\"receipts_r\\\" > \\\"receipts_l\\\" THEN \\\"receipts_r\\\" ELSE \\\"receipts_l\\\" END)) < 0.1\", \"comparison_level_label\": \"Percentage difference of 'receipts' within 10.00%\", \"comparison_vector_value\": 2, \"comparison_name\": \"receipts\", \"comparison_sort_order\": 2}, {\"m_or_u\": \"m\", \"estimated_probability\": 0.06682366125329336, \"estimate_description\": \"EM, blocked on: l.\\\"countryCodeAlpha\\\" = r.\\\"countryCodeAlpha\\\"\", \"estimated_probability_as_log_odds\": -3.8037187924900007, \"sql_condition\": \"(ABS(\\\"receipts_l\\\" - \\\"receipts_r\\\") / (CASE WHEN \\\"receipts_r\\\" > \\\"receipts_l\\\" THEN \\\"receipts_r\\\" ELSE \\\"receipts_l\\\" END)) < 0.1\", \"comparison_level_label\": \"Percentage difference of 'receipts' within 10.00%\", \"comparison_vector_value\": 2, \"comparison_name\": \"receipts\", \"comparison_sort_order\": 2}, {\"m_or_u\": \"m\", \"estimated_probability\": 0.012990631227456213, \"estimate_description\": \"EM, blocked on: l.\\\"year\\\" = r.\\\"year\\\"\", \"estimated_probability_as_log_odds\": -6.247520339361944, \"sql_condition\": \"(ABS(\\\"receipts_l\\\" - \\\"receipts_r\\\") / (CASE WHEN \\\"receipts_r\\\" > \\\"receipts_l\\\" THEN \\\"receipts_r\\\" ELSE \\\"receipts_l\\\" END)) < 0.2\", \"comparison_level_label\": \"Percentage difference of 'receipts' within 20.00%\", \"comparison_vector_value\": 1, \"comparison_name\": \"receipts\", \"comparison_sort_order\": 2}, {\"m_or_u\": \"m\", \"estimated_probability\": 0.12575594039953122, \"estimate_description\": \"EM, blocked on: l.\\\"countryCodeAlpha\\\" = r.\\\"countryCodeAlpha\\\"\", \"estimated_probability_as_log_odds\": -2.7974095370048526, \"sql_condition\": \"(ABS(\\\"receipts_l\\\" - \\\"receipts_r\\\") / (CASE WHEN \\\"receipts_r\\\" > \\\"receipts_l\\\" THEN \\\"receipts_r\\\" ELSE \\\"receipts_l\\\" END)) < 0.2\", \"comparison_level_label\": \"Percentage difference of 'receipts' within 20.00%\", \"comparison_vector_value\": 1, \"comparison_name\": \"receipts\", \"comparison_sort_order\": 2}, {\"m_or_u\": \"m\", \"estimated_probability\": 3.8179531357975525e-16, \"estimate_description\": \"EM, blocked on: l.\\\"year\\\" = r.\\\"year\\\"\", \"estimated_probability_as_log_odds\": -51.21805012398591, \"sql_condition\": \"(ABS(\\\"receipts_l\\\" - \\\"receipts_r\\\") / (CASE WHEN \\\"receipts_r\\\" > \\\"receipts_l\\\" THEN \\\"receipts_r\\\" ELSE \\\"receipts_l\\\" END)) < 1.0\", \"comparison_level_label\": \"Percentage difference of 'receipts' within 100.00%\", \"comparison_vector_value\": 0, \"comparison_name\": \"receipts\", \"comparison_sort_order\": 2}, {\"m_or_u\": \"m\", \"estimated_probability\": 0.7078961771381652, \"estimate_description\": \"EM, blocked on: l.\\\"countryCodeAlpha\\\" = r.\\\"countryCodeAlpha\\\"\", \"estimated_probability_as_log_odds\": 1.277056545114628, \"sql_condition\": \"(ABS(\\\"receipts_l\\\" - \\\"receipts_r\\\") / (CASE WHEN \\\"receipts_r\\\" > \\\"receipts_l\\\" THEN \\\"receipts_r\\\" ELSE \\\"receipts_l\\\" END)) < 1.0\", \"comparison_level_label\": \"Percentage difference of 'receipts' within 100.00%\", \"comparison_vector_value\": 0, \"comparison_name\": \"receipts\", \"comparison_sort_order\": 2}, {\"m_or_u\": \"m\", \"estimated_probability\": 0.8955268595770711, \"estimate_description\": \"EM, blocked on: l.\\\"year\\\" = r.\\\"year\\\"\", \"estimated_probability_as_log_odds\": 3.0996046241407385, \"sql_condition\": \"(ABS(\\\"expenditures_l\\\" - \\\"expenditures_r\\\") / (CASE WHEN \\\"expenditures_r\\\" > \\\"expenditures_l\\\" THEN \\\"expenditures_r\\\" ELSE \\\"expenditures_l\\\" END)) < 0.05\", \"comparison_level_label\": \"Percentage difference of 'expenditures' within 5.00%\", \"comparison_vector_value\": 3, \"comparison_name\": \"expenditures\", \"comparison_sort_order\": 3}, {\"m_or_u\": \"m\", \"estimated_probability\": 0.09915626405795276, \"estimate_description\": \"EM, blocked on: l.\\\"countryCodeAlpha\\\" = r.\\\"countryCodeAlpha\\\"\", \"estimated_probability_as_log_odds\": -3.1835010512464716, \"sql_condition\": \"(ABS(\\\"expenditures_l\\\" - \\\"expenditures_r\\\") / (CASE WHEN \\\"expenditures_r\\\" > \\\"expenditures_l\\\" THEN \\\"expenditures_r\\\" ELSE \\\"expenditures_l\\\" END)) < 0.05\", \"comparison_level_label\": \"Percentage difference of 'expenditures' within 5.00%\", \"comparison_vector_value\": 3, \"comparison_name\": \"expenditures\", \"comparison_sort_order\": 3}, {\"m_or_u\": \"m\", \"estimated_probability\": 0.030603255041240805, \"estimate_description\": \"EM, blocked on: l.\\\"year\\\" = r.\\\"year\\\"\", \"estimated_probability_as_log_odds\": -4.985330223267635, \"sql_condition\": \"(ABS(\\\"expenditures_l\\\" - \\\"expenditures_r\\\") / (CASE WHEN \\\"expenditures_r\\\" > \\\"expenditures_l\\\" THEN \\\"expenditures_r\\\" ELSE \\\"expenditures_l\\\" END)) < 0.1\", \"comparison_level_label\": \"Percentage difference of 'expenditures' within 10.00%\", \"comparison_vector_value\": 2, \"comparison_name\": \"expenditures\", \"comparison_sort_order\": 3}, {\"m_or_u\": \"m\", \"estimated_probability\": 0.08202693891914449, \"estimate_description\": \"EM, blocked on: l.\\\"countryCodeAlpha\\\" = r.\\\"countryCodeAlpha\\\"\", \"estimated_probability_as_log_odds\": -3.484282120710093, \"sql_condition\": \"(ABS(\\\"expenditures_l\\\" - \\\"expenditures_r\\\") / (CASE WHEN \\\"expenditures_r\\\" > \\\"expenditures_l\\\" THEN \\\"expenditures_r\\\" ELSE \\\"expenditures_l\\\" END)) < 0.1\", \"comparison_level_label\": \"Percentage difference of 'expenditures' within 10.00%\", \"comparison_vector_value\": 2, \"comparison_name\": \"expenditures\", \"comparison_sort_order\": 3}, {\"m_or_u\": \"m\", \"estimated_probability\": 0.07386983210129758, \"estimate_description\": \"EM, blocked on: l.\\\"year\\\" = r.\\\"year\\\"\", \"estimated_probability_as_log_odds\": -3.64815777533077, \"sql_condition\": \"(ABS(\\\"expenditures_l\\\" - \\\"expenditures_r\\\") / (CASE WHEN \\\"expenditures_r\\\" > \\\"expenditures_l\\\" THEN \\\"expenditures_r\\\" ELSE \\\"expenditures_l\\\" END)) < 0.2\", \"comparison_level_label\": \"Percentage difference of 'expenditures' within 20.00%\", \"comparison_vector_value\": 1, \"comparison_name\": \"expenditures\", \"comparison_sort_order\": 3}, {\"m_or_u\": \"m\", \"estimated_probability\": 0.15440338015438942, \"estimate_description\": \"EM, blocked on: l.\\\"countryCodeAlpha\\\" = r.\\\"countryCodeAlpha\\\"\", \"estimated_probability_as_log_odds\": -2.4532652737435923, \"sql_condition\": \"(ABS(\\\"expenditures_l\\\" - \\\"expenditures_r\\\") / (CASE WHEN \\\"expenditures_r\\\" > \\\"expenditures_l\\\" THEN \\\"expenditures_r\\\" ELSE \\\"expenditures_l\\\" END)) < 0.2\", \"comparison_level_label\": \"Percentage difference of 'expenditures' within 20.00%\", \"comparison_vector_value\": 1, \"comparison_name\": \"expenditures\", \"comparison_sort_order\": 3}, {\"m_or_u\": \"m\", \"estimated_probability\": 5.328039041964002e-08, \"estimate_description\": \"EM, blocked on: l.\\\"year\\\" = r.\\\"year\\\"\", \"estimated_probability_as_log_odds\": -24.161820028230498, \"sql_condition\": \"(ABS(\\\"expenditures_l\\\" - \\\"expenditures_r\\\") / (CASE WHEN \\\"expenditures_r\\\" > \\\"expenditures_l\\\" THEN \\\"expenditures_r\\\" ELSE \\\"expenditures_l\\\" END)) < 1.0\", \"comparison_level_label\": \"Percentage difference of 'expenditures' within 100.00%\", \"comparison_vector_value\": 0, \"comparison_name\": \"expenditures\", \"comparison_sort_order\": 3}, {\"m_or_u\": \"m\", \"estimated_probability\": 0.6644134168685134, \"estimate_description\": \"EM, blocked on: l.\\\"countryCodeAlpha\\\" = r.\\\"countryCodeAlpha\\\"\", \"estimated_probability_as_log_odds\": 0.9853961692549605, \"sql_condition\": \"(ABS(\\\"expenditures_l\\\" - \\\"expenditures_r\\\") / (CASE WHEN \\\"expenditures_r\\\" > \\\"expenditures_l\\\" THEN \\\"expenditures_r\\\" ELSE \\\"expenditures_l\\\" END)) < 1.0\", \"comparison_level_label\": \"Percentage difference of 'expenditures' within 100.00%\", \"comparison_vector_value\": 0, \"comparison_name\": \"expenditures\", \"comparison_sort_order\": 3}]}}, {\"mode\": \"vega-lite\"});\n",
       "</script>"
      ],
      "text/plain": [
       "alt.Chart(...)"
      ]
     },
     "execution_count": 153,
     "metadata": {},
     "output_type": "execute_result"
    }
   ],
   "source": [
    "linker.visualisations.parameter_estimate_comparisons_chart()"
   ]
  },
  {
   "cell_type": "code",
   "execution_count": 154,
   "id": "8cdeb923",
   "metadata": {},
   "outputs": [
    {
     "data": {
      "text/html": [
       "<div><style>\n",
       ".dataframe > thead > tr,\n",
       ".dataframe > tbody > tr {\n",
       "  text-align: right;\n",
       "  white-space: pre-wrap;\n",
       "}\n",
       "</style>\n",
       "<small>shape: (1_984_962, 18)</small><table border=\"1\" class=\"dataframe\"><thead><tr><th>match_weight</th><th>match_probability</th><th>source_dataset_l</th><th>source_dataset_r</th><th>unique_id_l</th><th>unique_id_r</th><th>country_l</th><th>country_r</th><th>gamma_country</th><th>year_l</th><th>year_r</th><th>gamma_year</th><th>receipts_l</th><th>receipts_r</th><th>gamma_receipts</th><th>expenditures_l</th><th>expenditures_r</th><th>gamma_expenditures</th></tr><tr><td>f64</td><td>f64</td><td>str</td><td>str</td><td>u32</td><td>u32</td><td>str</td><td>str</td><td>i32</td><td>i64</td><td>i64</td><td>i32</td><td>f64</td><td>f64</td><td>i32</td><td>f64</td><td>f64</td><td>i32</td></tr></thead><tbody><tr><td>6.02168</td><td>0.984841</td><td>&quot;oecd&quot;</td><td>&quot;unwto&quot;</td><td>540</td><td>5118</td><td>&quot;UNITED KINGDOM&quot;</td><td>&quot;UNITED KINGDOM&quot;</td><td>4</td><td>2017</td><td>2017</td><td>1</td><td>48018.1</td><td>49541.0</td><td>3</td><td>66446.0</td><td>66255.0</td><td>3</td></tr><tr><td>6.02168</td><td>0.984841</td><td>&quot;oecd&quot;</td><td>&quot;unwto&quot;</td><td>596</td><td>5341</td><td>&quot;UNITED KINGDOM&quot;</td><td>&quot;UNITED KINGDOM&quot;</td><td>4</td><td>2018</td><td>2018</td><td>1</td><td>50049.9</td><td>48904.0</td><td>3</td><td>70878.9</td><td>70642.0</td><td>3</td></tr><tr><td>6.02168</td><td>0.984841</td><td>&quot;oecd&quot;</td><td>&quot;unwto&quot;</td><td>652</td><td>5564</td><td>&quot;UNITED KINGDOM&quot;</td><td>&quot;UNITED KINGDOM&quot;</td><td>4</td><td>2019</td><td>2019</td><td>1</td><td>52721.0</td><td>52546.0</td><td>3</td><td>71880.0</td><td>70257.0</td><td>3</td></tr><tr><td>6.02168</td><td>0.984841</td><td>&quot;oecd&quot;</td><td>&quot;unwto&quot;</td><td>35</td><td>3104</td><td>&quot;TÜRKIYE&quot;</td><td>&quot;TÜRKIYE&quot;</td><td>4</td><td>2008</td><td>2008</td><td>1</td><td>26446.0</td><td>26446.0</td><td>3</td><td>4509.0</td><td>4509.0</td><td>3</td></tr><tr><td>6.02168</td><td>0.984841</td><td>&quot;oecd&quot;</td><td>&quot;unwto&quot;</td><td>91</td><td>3327</td><td>&quot;TÜRKIYE&quot;</td><td>&quot;TÜRKIYE&quot;</td><td>4</td><td>2009</td><td>2009</td><td>1</td><td>26331.0</td><td>26331.0</td><td>3</td><td>5061.0</td><td>5061.0</td><td>3</td></tr><tr><td>&hellip;</td><td>&hellip;</td><td>&hellip;</td><td>&hellip;</td><td>&hellip;</td><td>&hellip;</td><td>&hellip;</td><td>&hellip;</td><td>&hellip;</td><td>&hellip;</td><td>&hellip;</td><td>&hellip;</td><td>&hellip;</td><td>&hellip;</td><td>&hellip;</td><td>&hellip;</td><td>&hellip;</td><td>&hellip;</td></tr><tr><td>-21.729394</td><td>2.8761e-7</td><td>&quot;oecd&quot;</td><td>&quot;unwto&quot;</td><td>721</td><td>5575</td><td>&quot;MOROCCO&quot;</td><td>&quot;AFGHANISTAN&quot;</td><td>0</td><td>2020</td><td>2020</td><td>1</td><td>4513.64</td><td>75.0</td><td>0</td><td>1508.648</td><td>49.0</td><td>0</td></tr><tr><td>-21.729394</td><td>2.8761e-7</td><td>&quot;oecd&quot;</td><td>&quot;unwto&quot;</td><td>722</td><td>5575</td><td>&quot;PERU&quot;</td><td>&quot;AFGHANISTAN&quot;</td><td>0</td><td>2020</td><td>2020</td><td>1</td><td>794.382</td><td>75.0</td><td>0</td><td>744.385</td><td>49.0</td><td>0</td></tr><tr><td>-21.729394</td><td>2.8761e-7</td><td>&quot;oecd&quot;</td><td>&quot;unwto&quot;</td><td>724</td><td>5575</td><td>&quot;ROMANIA&quot;</td><td>&quot;AFGHANISTAN&quot;</td><td>0</td><td>2020</td><td>2020</td><td>1</td><td>1608.462</td><td>75.0</td><td>0</td><td>3474.523</td><td>49.0</td><td>0</td></tr><tr><td>-21.729394</td><td>2.8761e-7</td><td>&quot;oecd&quot;</td><td>&quot;unwto&quot;</td><td>726</td><td>5575</td><td>&quot;SERBIA&quot;</td><td>&quot;AFGHANISTAN&quot;</td><td>0</td><td>2020</td><td>2020</td><td>1</td><td>1421.369</td><td>75.0</td><td>0</td><td>1178.363</td><td>49.0</td><td>0</td></tr><tr><td>-21.729394</td><td>2.8761e-7</td><td>&quot;oecd&quot;</td><td>&quot;unwto&quot;</td><td>727</td><td>5575</td><td>&quot;SOUTH AFRICA&quot;</td><td>&quot;AFGHANISTAN&quot;</td><td>0</td><td>2020</td><td>2020</td><td>1</td><td>2716.592</td><td>75.0</td><td>0</td><td>1594.026</td><td>49.0</td><td>0</td></tr></tbody></table></div>"
      ],
      "text/plain": [
       "shape: (1_984_962, 18)\n",
       "┌───────────┬───────────┬───────────┬───────────┬───┬───────────┬───────────┬───────────┬──────────┐\n",
       "│ match_wei ┆ match_pro ┆ source_da ┆ source_da ┆ … ┆ gamma_rec ┆ expenditu ┆ expenditu ┆ gamma_ex │\n",
       "│ ght       ┆ bability  ┆ taset_l   ┆ taset_r   ┆   ┆ eipts     ┆ res_l     ┆ res_r     ┆ penditur │\n",
       "│ ---       ┆ ---       ┆ ---       ┆ ---       ┆   ┆ ---       ┆ ---       ┆ ---       ┆ es       │\n",
       "│ f64       ┆ f64       ┆ str       ┆ str       ┆   ┆ i32       ┆ f64       ┆ f64       ┆ ---      │\n",
       "│           ┆           ┆           ┆           ┆   ┆           ┆           ┆           ┆ i32      │\n",
       "╞═══════════╪═══════════╪═══════════╪═══════════╪═══╪═══════════╪═══════════╪═══════════╪══════════╡\n",
       "│ 6.02168   ┆ 0.984841  ┆ oecd      ┆ unwto     ┆ … ┆ 3         ┆ 66446.0   ┆ 66255.0   ┆ 3        │\n",
       "│ 6.02168   ┆ 0.984841  ┆ oecd      ┆ unwto     ┆ … ┆ 3         ┆ 70878.9   ┆ 70642.0   ┆ 3        │\n",
       "│ 6.02168   ┆ 0.984841  ┆ oecd      ┆ unwto     ┆ … ┆ 3         ┆ 71880.0   ┆ 70257.0   ┆ 3        │\n",
       "│ 6.02168   ┆ 0.984841  ┆ oecd      ┆ unwto     ┆ … ┆ 3         ┆ 4509.0    ┆ 4509.0    ┆ 3        │\n",
       "│ 6.02168   ┆ 0.984841  ┆ oecd      ┆ unwto     ┆ … ┆ 3         ┆ 5061.0    ┆ 5061.0    ┆ 3        │\n",
       "│ …         ┆ …         ┆ …         ┆ …         ┆ … ┆ …         ┆ …         ┆ …         ┆ …        │\n",
       "│ -21.72939 ┆ 2.8761e-7 ┆ oecd      ┆ unwto     ┆ … ┆ 0         ┆ 1508.648  ┆ 49.0      ┆ 0        │\n",
       "│ 4         ┆           ┆           ┆           ┆   ┆           ┆           ┆           ┆          │\n",
       "│ -21.72939 ┆ 2.8761e-7 ┆ oecd      ┆ unwto     ┆ … ┆ 0         ┆ 744.385   ┆ 49.0      ┆ 0        │\n",
       "│ 4         ┆           ┆           ┆           ┆   ┆           ┆           ┆           ┆          │\n",
       "│ -21.72939 ┆ 2.8761e-7 ┆ oecd      ┆ unwto     ┆ … ┆ 0         ┆ 3474.523  ┆ 49.0      ┆ 0        │\n",
       "│ 4         ┆           ┆           ┆           ┆   ┆           ┆           ┆           ┆          │\n",
       "│ -21.72939 ┆ 2.8761e-7 ┆ oecd      ┆ unwto     ┆ … ┆ 0         ┆ 1178.363  ┆ 49.0      ┆ 0        │\n",
       "│ 4         ┆           ┆           ┆           ┆   ┆           ┆           ┆           ┆          │\n",
       "│ -21.72939 ┆ 2.8761e-7 ┆ oecd      ┆ unwto     ┆ … ┆ 0         ┆ 1594.026  ┆ 49.0      ┆ 0        │\n",
       "│ 4         ┆           ┆           ┆           ┆   ┆           ┆           ┆           ┆          │\n",
       "└───────────┴───────────┴───────────┴───────────┴───┴───────────┴───────────┴───────────┴──────────┘"
      ]
     },
     "execution_count": 154,
     "metadata": {},
     "output_type": "execute_result"
    }
   ],
   "source": [
    "output_df = pl.DataFrame(output.as_pandas_dataframe()).sort(\n",
    "    \"match_probability\", descending=True\n",
    ")"
   ]
  },
  {
   "cell_type": "code",
   "execution_count": 155,
   "id": "c3adffb9",
   "metadata": {},
   "outputs": [
    {
     "data": {
      "text/html": [
       "<div><style>\n",
       ".dataframe > thead > tr,\n",
       ".dataframe > tbody > tr {\n",
       "  text-align: right;\n",
       "  white-space: pre-wrap;\n",
       "}\n",
       "</style>\n",
       "<small>shape: (63_404, 18)</small><table border=\"1\" class=\"dataframe\"><thead><tr><th>match_weight</th><th>match_probability</th><th>source_dataset_l</th><th>source_dataset_r</th><th>unique_id_l</th><th>unique_id_r</th><th>country_l</th><th>country_r</th><th>gamma_country</th><th>year_l</th><th>year_r</th><th>gamma_year</th><th>receipts_l</th><th>receipts_r</th><th>gamma_receipts</th><th>expenditures_l</th><th>expenditures_r</th><th>gamma_expenditures</th></tr><tr><td>f64</td><td>f64</td><td>str</td><td>str</td><td>u32</td><td>u32</td><td>str</td><td>str</td><td>i32</td><td>i64</td><td>i64</td><td>i32</td><td>f64</td><td>f64</td><td>i32</td><td>f64</td><td>f64</td><td>i32</td></tr></thead><tbody><tr><td>4.843349</td><td>0.966338</td><td>&quot;oecd&quot;</td><td>&quot;unwto&quot;</td><td>37</td><td>3112</td><td>&quot;UNITED STATES&quot;</td><td>&quot;UNITED STATES OF AMERICA&quot;</td><td>3</td><td>2008</td><td>2008</td><td>1</td><td>149095.0</td><td>149094.0</td><td>3</td><td>119133.0</td><td>119135.0</td><td>3</td></tr><tr><td>4.843349</td><td>0.966338</td><td>&quot;oecd&quot;</td><td>&quot;unwto&quot;</td><td>63</td><td>3176</td><td>&quot;CZECH REPUBLIC&quot;</td><td>&quot;CZECH REPUBLIC (CZECHIA)&quot;</td><td>3</td><td>2009</td><td>2009</td><td>1</td><td>7874.834</td><td>8164.0</td><td>3</td><td>4128.136</td><td>4336.0</td><td>3</td></tr><tr><td>3.166552</td><td>0.899789</td><td>&quot;oecd&quot;</td><td>&quot;unwto&quot;</td><td>30</td><td>3081</td><td>&quot;SLOVAK REPUBLIC&quot;</td><td>&quot;SLOVAKIA&quot;</td><td>2</td><td>2008</td><td>2008</td><td>1</td><td>2989.323</td><td>3096.0</td><td>3</td><td>2570.046</td><td>2671.0</td><td>3</td></tr><tr><td>3.166552</td><td>0.899789</td><td>&quot;oecd&quot;</td><td>&quot;unwto&quot;</td><td>109</td><td>3286</td><td>&quot;RUSSIA&quot;</td><td>&quot;RUSSIAN FEDERATION&quot;</td><td>2</td><td>2009</td><td>2009</td><td>1</td><td>12369.8</td><td>12369.0</td><td>3</td><td>23785.2</td><td>23785.0</td><td>3</td></tr><tr><td>3.166552</td><td>0.899789</td><td>&quot;oecd&quot;</td><td>&quot;unwto&quot;</td><td>20</td><td>3003</td><td>&quot;KOREA&quot;</td><td>&quot;KOREA, REPUBLIC OF&quot;</td><td>2</td><td>2008</td><td>2008</td><td>1</td><td>13439.8</td><td>13440.0</td><td>3</td><td>21447.0</td><td>21447.0</td><td>3</td></tr><tr><td>&hellip;</td><td>&hellip;</td><td>&hellip;</td><td>&hellip;</td><td>&hellip;</td><td>&hellip;</td><td>&hellip;</td><td>&hellip;</td><td>&hellip;</td><td>&hellip;</td><td>&hellip;</td><td>&hellip;</td><td>&hellip;</td><td>&hellip;</td><td>&hellip;</td><td>&hellip;</td><td>&hellip;</td><td>&hellip;</td></tr><tr><td>-21.729394</td><td>2.8761e-7</td><td>&quot;oecd&quot;</td><td>&quot;unwto&quot;</td><td>35</td><td>2905</td><td>&quot;TÜRKIYE&quot;</td><td>&quot;ANGUILLA&quot;</td><td>0</td><td>2008</td><td>2008</td><td>1</td><td>26446.0</td><td>109.0</td><td>0</td><td>4509.0</td><td>17.0</td><td>0</td></tr><tr><td>-21.729394</td><td>2.8761e-7</td><td>&quot;oecd&quot;</td><td>&quot;unwto&quot;</td><td>37</td><td>2905</td><td>&quot;UNITED STATES&quot;</td><td>&quot;ANGUILLA&quot;</td><td>0</td><td>2008</td><td>2008</td><td>1</td><td>149095.0</td><td>109.0</td><td>0</td><td>119133.0</td><td>17.0</td><td>0</td></tr><tr><td>-21.729394</td><td>2.8761e-7</td><td>&quot;oecd&quot;</td><td>&quot;unwto&quot;</td><td>43</td><td>2905</td><td>&quot;CROATIA&quot;</td><td>&quot;ANGUILLA&quot;</td><td>0</td><td>2008</td><td>2008</td><td>1</td><td>10031.71</td><td>109.0</td><td>0</td><td>1166.708</td><td>17.0</td><td>0</td></tr><tr><td>-21.729394</td><td>2.8761e-7</td><td>&quot;oecd&quot;</td><td>&quot;unwto&quot;</td><td>50</td><td>2905</td><td>&quot;PERU&quot;</td><td>&quot;ANGUILLA&quot;</td><td>0</td><td>2008</td><td>2008</td><td>1</td><td>2395.848</td><td>109.0</td><td>0</td><td>1431.833</td><td>17.0</td><td>0</td></tr><tr><td>-21.729394</td><td>2.8761e-7</td><td>&quot;oecd&quot;</td><td>&quot;unwto&quot;</td><td>55</td><td>2905</td><td>&quot;SOUTH AFRICA&quot;</td><td>&quot;ANGUILLA&quot;</td><td>0</td><td>2008</td><td>2008</td><td>1</td><td>9178.89</td><td>109.0</td><td>0</td><td>6905.38</td><td>17.0</td><td>0</td></tr></tbody></table></div>"
      ],
      "text/plain": [
       "shape: (63_404, 18)\n",
       "┌───────────┬───────────┬───────────┬───────────┬───┬───────────┬───────────┬───────────┬──────────┐\n",
       "│ match_wei ┆ match_pro ┆ source_da ┆ source_da ┆ … ┆ gamma_rec ┆ expenditu ┆ expenditu ┆ gamma_ex │\n",
       "│ ght       ┆ bability  ┆ taset_l   ┆ taset_r   ┆   ┆ eipts     ┆ res_l     ┆ res_r     ┆ penditur │\n",
       "│ ---       ┆ ---       ┆ ---       ┆ ---       ┆   ┆ ---       ┆ ---       ┆ ---       ┆ es       │\n",
       "│ f64       ┆ f64       ┆ str       ┆ str       ┆   ┆ i32       ┆ f64       ┆ f64       ┆ ---      │\n",
       "│           ┆           ┆           ┆           ┆   ┆           ┆           ┆           ┆ i32      │\n",
       "╞═══════════╪═══════════╪═══════════╪═══════════╪═══╪═══════════╪═══════════╪═══════════╪══════════╡\n",
       "│ 4.843349  ┆ 0.966338  ┆ oecd      ┆ unwto     ┆ … ┆ 3         ┆ 119133.0  ┆ 119135.0  ┆ 3        │\n",
       "│ 4.843349  ┆ 0.966338  ┆ oecd      ┆ unwto     ┆ … ┆ 3         ┆ 4128.136  ┆ 4336.0    ┆ 3        │\n",
       "│ 3.166552  ┆ 0.899789  ┆ oecd      ┆ unwto     ┆ … ┆ 3         ┆ 2570.046  ┆ 2671.0    ┆ 3        │\n",
       "│ 3.166552  ┆ 0.899789  ┆ oecd      ┆ unwto     ┆ … ┆ 3         ┆ 23785.2   ┆ 23785.0   ┆ 3        │\n",
       "│ 3.166552  ┆ 0.899789  ┆ oecd      ┆ unwto     ┆ … ┆ 3         ┆ 21447.0   ┆ 21447.0   ┆ 3        │\n",
       "│ …         ┆ …         ┆ …         ┆ …         ┆ … ┆ …         ┆ …         ┆ …         ┆ …        │\n",
       "│ -21.72939 ┆ 2.8761e-7 ┆ oecd      ┆ unwto     ┆ … ┆ 0         ┆ 4509.0    ┆ 17.0      ┆ 0        │\n",
       "│ 4         ┆           ┆           ┆           ┆   ┆           ┆           ┆           ┆          │\n",
       "│ -21.72939 ┆ 2.8761e-7 ┆ oecd      ┆ unwto     ┆ … ┆ 0         ┆ 119133.0  ┆ 17.0      ┆ 0        │\n",
       "│ 4         ┆           ┆           ┆           ┆   ┆           ┆           ┆           ┆          │\n",
       "│ -21.72939 ┆ 2.8761e-7 ┆ oecd      ┆ unwto     ┆ … ┆ 0         ┆ 1166.708  ┆ 17.0      ┆ 0        │\n",
       "│ 4         ┆           ┆           ┆           ┆   ┆           ┆           ┆           ┆          │\n",
       "│ -21.72939 ┆ 2.8761e-7 ┆ oecd      ┆ unwto     ┆ … ┆ 0         ┆ 1431.833  ┆ 17.0      ┆ 0        │\n",
       "│ 4         ┆           ┆           ┆           ┆   ┆           ┆           ┆           ┆          │\n",
       "│ -21.72939 ┆ 2.8761e-7 ┆ oecd      ┆ unwto     ┆ … ┆ 0         ┆ 6905.38   ┆ 17.0      ┆ 0        │\n",
       "│ 4         ┆           ┆           ┆           ┆   ┆           ┆           ┆           ┆          │\n",
       "└───────────┴───────────┴───────────┴───────────┴───┴───────────┴───────────┴───────────┴──────────┘"
      ]
     },
     "execution_count": 155,
     "metadata": {},
     "output_type": "execute_result"
    }
   ],
   "source": [
    "output_df.filter((pl.col(\"country_l\") != pl.col(\"country_r\"))).unique(\n",
    "    subset=[\"country_l\", \"country_r\"], keep=\"first\", maintain_order=True\n",
    ")"
   ]
  },
  {
   "cell_type": "markdown",
   "id": "def0f422",
   "metadata": {},
   "source": [
    "From the outputs, we can see that we are getting better matches by using the numeric values. For this dataset with a recent laptop, we can run this prediction quickly and transfer all of the results back, but many of the results are not very good, and we can use a thresold to filter them out before transferring them from the database. We can access the DuckDB database directly from polars using the `read_duckdb` method. Here, we will only select matches with a match probability greater than 0.5."
   ]
  },
  {
   "cell_type": "code",
   "execution_count": 156,
   "id": "c26b521d",
   "metadata": {},
   "outputs": [
    {
     "data": {
      "text/html": [
       "<div><style>\n",
       ".dataframe > thead > tr,\n",
       ".dataframe > tbody > tr {\n",
       "  text-align: right;\n",
       "  white-space: pre-wrap;\n",
       "}\n",
       "</style>\n",
       "<small>shape: (4_421, 18)</small><table border=\"1\" class=\"dataframe\"><thead><tr><th>match_weight</th><th>match_probability</th><th>source_dataset_l</th><th>source_dataset_r</th><th>unique_id_l</th><th>unique_id_r</th><th>country_l</th><th>country_r</th><th>gamma_country</th><th>year_l</th><th>year_r</th><th>gamma_year</th><th>receipts_l</th><th>receipts_r</th><th>gamma_receipts</th><th>expenditures_l</th><th>expenditures_r</th><th>gamma_expenditures</th></tr><tr><td>f64</td><td>f64</td><td>str</td><td>str</td><td>u32</td><td>u32</td><td>str</td><td>str</td><td>i32</td><td>i64</td><td>i64</td><td>i32</td><td>f64</td><td>f64</td><td>i32</td><td>f64</td><td>f64</td><td>i32</td></tr></thead><tbody><tr><td>6.02168</td><td>0.984841</td><td>&quot;oecd&quot;</td><td>&quot;unwto&quot;</td><td>9</td><td>2963</td><td>&quot;ESTONIA&quot;</td><td>&quot;ESTONIA&quot;</td><td>4</td><td>2008</td><td>2008</td><td>1</td><td>1626.533</td><td>1643.0</td><td>3</td><td>933.456</td><td>939.0</td><td>3</td></tr><tr><td>6.02168</td><td>0.984841</td><td>&quot;oecd&quot;</td><td>&quot;unwto&quot;</td><td>289</td><td>4078</td><td>&quot;ESTONIA&quot;</td><td>&quot;ESTONIA&quot;</td><td>4</td><td>2013</td><td>2013</td><td>1</td><td>2063.2</td><td>2022.0</td><td>3</td><td>1243.3</td><td>1236.0</td><td>3</td></tr><tr><td>6.02168</td><td>0.984841</td><td>&quot;oecd&quot;</td><td>&quot;unwto&quot;</td><td>345</td><td>4301</td><td>&quot;ESTONIA&quot;</td><td>&quot;ESTONIA&quot;</td><td>4</td><td>2014</td><td>2014</td><td>1</td><td>2276.4</td><td>2278.0</td><td>3</td><td>1346.9</td><td>1346.0</td><td>3</td></tr><tr><td>6.02168</td><td>0.984841</td><td>&quot;oecd&quot;</td><td>&quot;unwto&quot;</td><td>401</td><td>4524</td><td>&quot;ESTONIA&quot;</td><td>&quot;ESTONIA&quot;</td><td>4</td><td>2015</td><td>2015</td><td>1</td><td>1882.6</td><td>1893.0</td><td>3</td><td>1169.6</td><td>1169.0</td><td>3</td></tr><tr><td>6.02168</td><td>0.984841</td><td>&quot;oecd&quot;</td><td>&quot;unwto&quot;</td><td>457</td><td>4747</td><td>&quot;ESTONIA&quot;</td><td>&quot;ESTONIA&quot;</td><td>4</td><td>2016</td><td>2016</td><td>1</td><td>1906.4</td><td>1911.0</td><td>3</td><td>1297.5</td><td>1299.0</td><td>3</td></tr><tr><td>&hellip;</td><td>&hellip;</td><td>&hellip;</td><td>&hellip;</td><td>&hellip;</td><td>&hellip;</td><td>&hellip;</td><td>&hellip;</td><td>&hellip;</td><td>&hellip;</td><td>&hellip;</td><td>&hellip;</td><td>&hellip;</td><td>&hellip;</td><td>&hellip;</td><td>&hellip;</td><td>&hellip;</td><td>&hellip;</td></tr><tr><td>0.305015</td><td>0.552659</td><td>&quot;unwto&quot;</td><td>&quot;wb&quot;</td><td>3990</td><td>13579</td><td>&quot;THAILAND&quot;</td><td>&quot;THAILAND&quot;</td><td>4</td><td>2012</td><td>2012</td><td>1</td><td>34565.0</td><td>34565.0</td><td>3</td><td>8095.0</td><td>null</td><td>-1</td></tr><tr><td>0.305015</td><td>0.552659</td><td>&quot;unwto&quot;</td><td>&quot;wb&quot;</td><td>4355</td><td>13153</td><td>&quot;MALAWI&quot;</td><td>&quot;MALAWI&quot;</td><td>4</td><td>2014</td><td>2014</td><td>1</td><td>36.0</td><td>36.0</td><td>3</td><td>106.0</td><td>null</td><td>-1</td></tr><tr><td>0.305015</td><td>0.552659</td><td>&quot;unwto&quot;</td><td>&quot;wb&quot;</td><td>4586</td><td>12301</td><td>&quot;MAURITIUS&quot;</td><td>&quot;MAURITIUS&quot;</td><td>4</td><td>2015</td><td>2015</td><td>1</td><td>1680.0</td><td>1680.0</td><td>3</td><td>616.0</td><td>null</td><td>-1</td></tr><tr><td>0.305015</td><td>0.552659</td><td>&quot;unwto&quot;</td><td>&quot;wb&quot;</td><td>3520</td><td>13323</td><td>&quot;SERBIA&quot;</td><td>&quot;SERBIA&quot;</td><td>4</td><td>2010</td><td>2010</td><td>1</td><td>950.0</td><td>950.0</td><td>3</td><td>1103.0</td><td>null</td><td>-1</td></tr><tr><td>0.305015</td><td>0.552659</td><td>&quot;unwto&quot;</td><td>&quot;wb&quot;</td><td>3963</td><td>13562</td><td>&quot;SAO TOME AND PRINCIPE&quot;</td><td>&quot;SAO TOME AND PRINCIPE&quot;</td><td>4</td><td>2012</td><td>2012</td><td>1</td><td>15.0</td><td>15.0</td><td>3</td><td>3.2</td><td>null</td><td>-1</td></tr></tbody></table></div>"
      ],
      "text/plain": [
       "shape: (4_421, 18)\n",
       "┌───────────┬───────────┬───────────┬───────────┬───┬───────────┬───────────┬───────────┬──────────┐\n",
       "│ match_wei ┆ match_pro ┆ source_da ┆ source_da ┆ … ┆ gamma_rec ┆ expenditu ┆ expenditu ┆ gamma_ex │\n",
       "│ ght       ┆ bability  ┆ taset_l   ┆ taset_r   ┆   ┆ eipts     ┆ res_l     ┆ res_r     ┆ penditur │\n",
       "│ ---       ┆ ---       ┆ ---       ┆ ---       ┆   ┆ ---       ┆ ---       ┆ ---       ┆ es       │\n",
       "│ f64       ┆ f64       ┆ str       ┆ str       ┆   ┆ i32       ┆ f64       ┆ f64       ┆ ---      │\n",
       "│           ┆           ┆           ┆           ┆   ┆           ┆           ┆           ┆ i32      │\n",
       "╞═══════════╪═══════════╪═══════════╪═══════════╪═══╪═══════════╪═══════════╪═══════════╪══════════╡\n",
       "│ 6.02168   ┆ 0.984841  ┆ oecd      ┆ unwto     ┆ … ┆ 3         ┆ 933.456   ┆ 939.0     ┆ 3        │\n",
       "│ 6.02168   ┆ 0.984841  ┆ oecd      ┆ unwto     ┆ … ┆ 3         ┆ 1243.3    ┆ 1236.0    ┆ 3        │\n",
       "│ 6.02168   ┆ 0.984841  ┆ oecd      ┆ unwto     ┆ … ┆ 3         ┆ 1346.9    ┆ 1346.0    ┆ 3        │\n",
       "│ 6.02168   ┆ 0.984841  ┆ oecd      ┆ unwto     ┆ … ┆ 3         ┆ 1169.6    ┆ 1169.0    ┆ 3        │\n",
       "│ 6.02168   ┆ 0.984841  ┆ oecd      ┆ unwto     ┆ … ┆ 3         ┆ 1297.5    ┆ 1299.0    ┆ 3        │\n",
       "│ …         ┆ …         ┆ …         ┆ …         ┆ … ┆ …         ┆ …         ┆ …         ┆ …        │\n",
       "│ 0.305015  ┆ 0.552659  ┆ unwto     ┆ wb        ┆ … ┆ 3         ┆ 8095.0    ┆ null      ┆ -1       │\n",
       "│ 0.305015  ┆ 0.552659  ┆ unwto     ┆ wb        ┆ … ┆ 3         ┆ 106.0     ┆ null      ┆ -1       │\n",
       "│ 0.305015  ┆ 0.552659  ┆ unwto     ┆ wb        ┆ … ┆ 3         ┆ 616.0     ┆ null      ┆ -1       │\n",
       "│ 0.305015  ┆ 0.552659  ┆ unwto     ┆ wb        ┆ … ┆ 3         ┆ 1103.0    ┆ null      ┆ -1       │\n",
       "│ 0.305015  ┆ 0.552659  ┆ unwto     ┆ wb        ┆ … ┆ 3         ┆ 3.2       ┆ null      ┆ -1       │\n",
       "└───────────┴───────────┴───────────┴───────────┴───┴───────────┴───────────┴───────────┴──────────┘"
      ]
     },
     "execution_count": 156,
     "metadata": {},
     "output_type": "execute_result"
    }
   ],
   "source": [
    "query = f\"SELECT * FROM {output.physical_name} WHERE match_probability > 0.5 ORDER BY match_probability DESC\"\n",
    "output_filtered = pl.read_database(\n",
    "    query=query,\n",
    "    connection=db_api._con,\n",
    ")"
   ]
  },
  {
   "cell_type": "markdown",
   "id": "bd51b136",
   "metadata": {},
   "source": [
    "We might be interested in those matches involving OECD countries since we manually matched them earlier."
   ]
  },
  {
   "cell_type": "code",
   "execution_count": 159,
   "id": "0f748bad",
   "metadata": {},
   "outputs": [
    {
     "data": {
      "text/html": [
       "<div><style>\n",
       ".dataframe > thead > tr,\n",
       ".dataframe > tbody > tr {\n",
       "  text-align: right;\n",
       "  white-space: pre-wrap;\n",
       "}\n",
       "</style>\n",
       "<small>shape: (6, 18)</small><table border=\"1\" class=\"dataframe\"><thead><tr><th>match_weight</th><th>match_probability</th><th>source_dataset_l</th><th>source_dataset_r</th><th>unique_id_l</th><th>unique_id_r</th><th>country_l</th><th>country_r</th><th>gamma_country</th><th>year_l</th><th>year_r</th><th>gamma_year</th><th>receipts_l</th><th>receipts_r</th><th>gamma_receipts</th><th>expenditures_l</th><th>expenditures_r</th><th>gamma_expenditures</th></tr><tr><td>f64</td><td>f64</td><td>str</td><td>str</td><td>u32</td><td>u32</td><td>str</td><td>str</td><td>i32</td><td>i64</td><td>i64</td><td>i32</td><td>f64</td><td>f64</td><td>i32</td><td>f64</td><td>f64</td><td>i32</td></tr></thead><tbody><tr><td>4.843349</td><td>0.966338</td><td>&quot;oecd&quot;</td><td>&quot;unwto&quot;</td><td>63</td><td>3176</td><td>&quot;CZECH REPUBLIC&quot;</td><td>&quot;CZECH REPUBLIC (CZECHIA)&quot;</td><td>3</td><td>2009</td><td>2009</td><td>1</td><td>7874.834</td><td>8164.0</td><td>3</td><td>4128.136</td><td>4336.0</td><td>3</td></tr><tr><td>4.843349</td><td>0.966338</td><td>&quot;oecd&quot;</td><td>&quot;unwto&quot;</td><td>37</td><td>3112</td><td>&quot;UNITED STATES&quot;</td><td>&quot;UNITED STATES OF AMERICA&quot;</td><td>3</td><td>2008</td><td>2008</td><td>1</td><td>149095.0</td><td>149094.0</td><td>3</td><td>119133.0</td><td>119135.0</td><td>3</td></tr><tr><td>3.166552</td><td>0.899789</td><td>&quot;oecd&quot;</td><td>&quot;unwto&quot;</td><td>42</td><td>2941</td><td>&quot;CHINA (PEOPLE&#x27;S REPUBLIC OF)&quot;</td><td>&quot;CHINA&quot;</td><td>2</td><td>2008</td><td>2008</td><td>1</td><td>40843.0</td><td>40843.0</td><td>3</td><td>36157.0</td><td>36157.0</td><td>3</td></tr><tr><td>3.166552</td><td>0.899789</td><td>&quot;oecd&quot;</td><td>&quot;unwto&quot;</td><td>30</td><td>3081</td><td>&quot;SLOVAK REPUBLIC&quot;</td><td>&quot;SLOVAKIA&quot;</td><td>2</td><td>2008</td><td>2008</td><td>1</td><td>2989.323</td><td>3096.0</td><td>3</td><td>2570.046</td><td>2671.0</td><td>3</td></tr><tr><td>3.166552</td><td>0.899789</td><td>&quot;oecd&quot;</td><td>&quot;unwto&quot;</td><td>109</td><td>3286</td><td>&quot;RUSSIA&quot;</td><td>&quot;RUSSIAN FEDERATION&quot;</td><td>2</td><td>2009</td><td>2009</td><td>1</td><td>12369.8</td><td>12369.0</td><td>3</td><td>23785.2</td><td>23785.0</td><td>3</td></tr><tr><td>3.166552</td><td>0.899789</td><td>&quot;oecd&quot;</td><td>&quot;unwto&quot;</td><td>20</td><td>3003</td><td>&quot;KOREA&quot;</td><td>&quot;KOREA, REPUBLIC OF&quot;</td><td>2</td><td>2008</td><td>2008</td><td>1</td><td>13439.8</td><td>13440.0</td><td>3</td><td>21447.0</td><td>21447.0</td><td>3</td></tr></tbody></table></div>"
      ],
      "text/plain": [
       "shape: (6, 18)\n",
       "┌───────────┬───────────┬───────────┬───────────┬───┬───────────┬───────────┬───────────┬──────────┐\n",
       "│ match_wei ┆ match_pro ┆ source_da ┆ source_da ┆ … ┆ gamma_rec ┆ expenditu ┆ expenditu ┆ gamma_ex │\n",
       "│ ght       ┆ bability  ┆ taset_l   ┆ taset_r   ┆   ┆ eipts     ┆ res_l     ┆ res_r     ┆ penditur │\n",
       "│ ---       ┆ ---       ┆ ---       ┆ ---       ┆   ┆ ---       ┆ ---       ┆ ---       ┆ es       │\n",
       "│ f64       ┆ f64       ┆ str       ┆ str       ┆   ┆ i32       ┆ f64       ┆ f64       ┆ ---      │\n",
       "│           ┆           ┆           ┆           ┆   ┆           ┆           ┆           ┆ i32      │\n",
       "╞═══════════╪═══════════╪═══════════╪═══════════╪═══╪═══════════╪═══════════╪═══════════╪══════════╡\n",
       "│ 4.843349  ┆ 0.966338  ┆ oecd      ┆ unwto     ┆ … ┆ 3         ┆ 4128.136  ┆ 4336.0    ┆ 3        │\n",
       "│ 4.843349  ┆ 0.966338  ┆ oecd      ┆ unwto     ┆ … ┆ 3         ┆ 119133.0  ┆ 119135.0  ┆ 3        │\n",
       "│ 3.166552  ┆ 0.899789  ┆ oecd      ┆ unwto     ┆ … ┆ 3         ┆ 36157.0   ┆ 36157.0   ┆ 3        │\n",
       "│ 3.166552  ┆ 0.899789  ┆ oecd      ┆ unwto     ┆ … ┆ 3         ┆ 2570.046  ┆ 2671.0    ┆ 3        │\n",
       "│ 3.166552  ┆ 0.899789  ┆ oecd      ┆ unwto     ┆ … ┆ 3         ┆ 23785.2   ┆ 23785.0   ┆ 3        │\n",
       "│ 3.166552  ┆ 0.899789  ┆ oecd      ┆ unwto     ┆ … ┆ 3         ┆ 21447.0   ┆ 21447.0   ┆ 3        │\n",
       "└───────────┴───────────┴───────────┴───────────┴───┴───────────┴───────────┴───────────┴──────────┘"
      ]
     },
     "execution_count": 159,
     "metadata": {},
     "output_type": "execute_result"
    }
   ],
   "source": [
    "output_filtered.filter(\n",
    "    ((pl.col(\"source_dataset_l\") == \"oecd\") | (pl.col(\"source_dataset_r\") == \"oecd\"))\n",
    "    & (pl.col(\"country_l\") != pl.col(\"country_r\"))\n",
    ").unique(subset=[\"country_l\", \"country_r\"], keep=\"first\", maintain_order=True)"
   ]
  },
  {
   "cell_type": "markdown",
   "id": "ca91255a",
   "metadata": {},
   "source": [
    "Splink was able to match all six of these countries automatically using our rules!"
   ]
  },
  {
   "cell_type": "markdown",
   "id": "1ba518e3",
   "metadata": {},
   "source": [
    "### Data Fusion\n",
    "\n",
    "Remember that our end goal is to fuse the three datasets together. When we have multiple records for the same country and year, we want to combine them into a single record. The first step is to use the information from entity resolution to make it clear which records are available from each dataset for the same country and year. We will start by concatenating the three datasets together and finding those rows where either one of the country codes is missing."
   ]
  },
  {
   "cell_type": "code",
   "execution_count": 158,
   "id": "e2f39572",
   "metadata": {},
   "outputs": [
    {
     "data": {
      "text/html": [
       "<div><style>\n",
       ".dataframe > thead > tr,\n",
       ".dataframe > tbody > tr {\n",
       "  text-align: right;\n",
       "  white-space: pre-wrap;\n",
       "}\n",
       "</style>\n",
       "<small>shape: (23_297, 8)</small><table border=\"1\" class=\"dataframe\"><thead><tr><th>unique_id</th><th>country</th><th>countryCodeNum</th><th>year</th><th>receipts</th><th>expenditures</th><th>source_dataset</th><th>countryCodeAlpha</th></tr><tr><td>u32</td><td>str</td><td>i64</td><td>i64</td><td>f64</td><td>f64</td><td>str</td><td>str</td></tr></thead><tbody><tr><td>0</td><td>&quot;AFGHANISTAN&quot;</td><td>4</td><td>1995</td><td>null</td><td>null</td><td>&quot;unwto&quot;</td><td>&quot;AFG&quot;</td></tr><tr><td>1</td><td>&quot;ALBANIA&quot;</td><td>8</td><td>1995</td><td>70.0</td><td>19.0</td><td>&quot;unwto&quot;</td><td>&quot;ALB&quot;</td></tr><tr><td>2</td><td>&quot;ALGERIA&quot;</td><td>12</td><td>1995</td><td>32.0</td><td>186.0</td><td>&quot;unwto&quot;</td><td>&quot;DZA&quot;</td></tr><tr><td>3</td><td>&quot;AMERICAN SAMOA&quot;</td><td>16</td><td>1995</td><td>null</td><td>null</td><td>&quot;unwto&quot;</td><td>&quot;ASM&quot;</td></tr><tr><td>4</td><td>&quot;ANDORRA&quot;</td><td>20</td><td>1995</td><td>null</td><td>null</td><td>&quot;unwto&quot;</td><td>&quot;AND&quot;</td></tr><tr><td>&hellip;</td><td>&hellip;</td><td>&hellip;</td><td>&hellip;</td><td>&hellip;</td><td>&hellip;</td><td>&hellip;</td><td>&hellip;</td></tr><tr><td>16487</td><td>&quot;BOTSWANA&quot;</td><td>72</td><td>2008</td><td>510.700012</td><td>null</td><td>&quot;wb&quot;</td><td>&quot;BWA&quot;</td></tr><tr><td>16488</td><td>&quot;POLAND&quot;</td><td>616</td><td>1974</td><td>null</td><td>null</td><td>&quot;wb&quot;</td><td>&quot;POL&quot;</td></tr><tr><td>16489</td><td>&quot;LATE-DEMOGRAPHIC DIVIDEND&quot;</td><td>null</td><td>1986</td><td>null</td><td>null</td><td>&quot;wb&quot;</td><td>&quot;LTE&quot;</td></tr><tr><td>16490</td><td>&quot;PAPUA NEW GUINEA&quot;</td><td>598</td><td>2008</td><td>3.7</td><td>null</td><td>&quot;wb&quot;</td><td>&quot;PNG&quot;</td></tr><tr><td>16491</td><td>&quot;SAMOA&quot;</td><td>882</td><td>1997</td><td>38.511845</td><td>null</td><td>&quot;wb&quot;</td><td>&quot;WSM&quot;</td></tr></tbody></table></div>"
      ],
      "text/plain": [
       "shape: (23_297, 8)\n",
       "┌───────────┬─────────────┬─────────────┬──────┬────────────┬────────────┬────────────┬────────────┐\n",
       "│ unique_id ┆ country     ┆ countryCode ┆ year ┆ receipts   ┆ expenditur ┆ source_dat ┆ countryCod │\n",
       "│ ---       ┆ ---         ┆ Num         ┆ ---  ┆ ---        ┆ es         ┆ aset       ┆ eAlpha     │\n",
       "│ u32       ┆ str         ┆ ---         ┆ i64  ┆ f64        ┆ ---        ┆ ---        ┆ ---        │\n",
       "│           ┆             ┆ i64         ┆      ┆            ┆ f64        ┆ str        ┆ str        │\n",
       "╞═══════════╪═════════════╪═════════════╪══════╪════════════╪════════════╪════════════╪════════════╡\n",
       "│ 0         ┆ AFGHANISTAN ┆ 4           ┆ 1995 ┆ null       ┆ null       ┆ unwto      ┆ AFG        │\n",
       "│ 1         ┆ ALBANIA     ┆ 8           ┆ 1995 ┆ 70.0       ┆ 19.0       ┆ unwto      ┆ ALB        │\n",
       "│ 2         ┆ ALGERIA     ┆ 12          ┆ 1995 ┆ 32.0       ┆ 186.0      ┆ unwto      ┆ DZA        │\n",
       "│ 3         ┆ AMERICAN    ┆ 16          ┆ 1995 ┆ null       ┆ null       ┆ unwto      ┆ ASM        │\n",
       "│           ┆ SAMOA       ┆             ┆      ┆            ┆            ┆            ┆            │\n",
       "│ 4         ┆ ANDORRA     ┆ 20          ┆ 1995 ┆ null       ┆ null       ┆ unwto      ┆ AND        │\n",
       "│ …         ┆ …           ┆ …           ┆ …    ┆ …          ┆ …          ┆ …          ┆ …          │\n",
       "│ 16487     ┆ BOTSWANA    ┆ 72          ┆ 2008 ┆ 510.700012 ┆ null       ┆ wb         ┆ BWA        │\n",
       "│ 16488     ┆ POLAND      ┆ 616         ┆ 1974 ┆ null       ┆ null       ┆ wb         ┆ POL        │\n",
       "│ 16489     ┆ LATE-DEMOGR ┆ null        ┆ 1986 ┆ null       ┆ null       ┆ wb         ┆ LTE        │\n",
       "│           ┆ APHIC       ┆             ┆      ┆            ┆            ┆            ┆            │\n",
       "│           ┆ DIVIDEND    ┆             ┆      ┆            ┆            ┆            ┆            │\n",
       "│ 16490     ┆ PAPUA NEW   ┆ 598         ┆ 2008 ┆ 3.7        ┆ null       ┆ wb         ┆ PNG        │\n",
       "│           ┆ GUINEA      ┆             ┆      ┆            ┆            ┆            ┆            │\n",
       "│ 16491     ┆ SAMOA       ┆ 882         ┆ 1997 ┆ 38.511845  ┆ null       ┆ wb         ┆ WSM        │\n",
       "└───────────┴─────────────┴─────────────┴──────┴────────────┴────────────┴────────────┴────────────┘"
      ]
     },
     "execution_count": 158,
     "metadata": {},
     "output_type": "execute_result"
    }
   ],
   "source": [
    "all = pl.concat([unwto_w_ind, oecd_w_ind, wb_w_ind], how=\"diagonal\")"
   ]
  },
  {
   "cell_type": "code",
   "execution_count": 165,
   "id": "7c67e6fa",
   "metadata": {},
   "outputs": [
    {
     "data": {
      "text/html": [
       "<div><style>\n",
       ".dataframe > thead > tr,\n",
       ".dataframe > tbody > tr {\n",
       "  text-align: right;\n",
       "  white-space: pre-wrap;\n",
       "}\n",
       "</style>\n",
       "<small>shape: (3_387, 8)</small><table border=\"1\" class=\"dataframe\"><thead><tr><th>unique_id</th><th>country</th><th>countryCodeNum</th><th>year</th><th>receipts</th><th>expenditures</th><th>source_dataset</th><th>countryCodeAlpha</th></tr><tr><td>u32</td><td>str</td><td>i64</td><td>i64</td><td>f64</td><td>f64</td><td>str</td><td>str</td></tr></thead><tbody><tr><td>66</td><td>&quot;ETHIOPIA&quot;</td><td>230</td><td>1995</td><td>177.0</td><td>30.0</td><td>&quot;unwto&quot;</td><td>null</td></tr><tr><td>75</td><td>&quot;GERMANY&quot;</td><td>280</td><td>1995</td><td>24053.0</td><td>66527.0</td><td>&quot;unwto&quot;</td><td>null</td></tr><tr><td>166</td><td>&quot;SABA&quot;</td><td>461</td><td>1995</td><td>null</td><td>null</td><td>&quot;unwto&quot;</td><td>null</td></tr><tr><td>176</td><td>&quot;SERBIA AND MONTENEGRO&quot;</td><td>891</td><td>1995</td><td>42.0</td><td>null</td><td>&quot;unwto&quot;</td><td>null</td></tr><tr><td>180</td><td>&quot;SINT EUSTATIUS&quot;</td><td>658</td><td>1995</td><td>null</td><td>null</td><td>&quot;unwto&quot;</td><td>null</td></tr><tr><td>&hellip;</td><td>&hellip;</td><td>&hellip;</td><td>&hellip;</td><td>&hellip;</td><td>&hellip;</td><td>&hellip;</td><td>&hellip;</td></tr><tr><td>16479</td><td>&quot;PRE-DEMOGRAPHIC DIVIDEND&quot;</td><td>null</td><td>1996</td><td>null</td><td>null</td><td>&quot;wb&quot;</td><td>&quot;PRE&quot;</td></tr><tr><td>16483</td><td>&quot;SMALL STATES&quot;</td><td>null</td><td>1976</td><td>null</td><td>null</td><td>&quot;wb&quot;</td><td>&quot;SST&quot;</td></tr><tr><td>16484</td><td>&quot;UPPER MIDDLE INCOME&quot;</td><td>null</td><td>1990</td><td>null</td><td>null</td><td>&quot;wb&quot;</td><td>&quot;UMC&quot;</td></tr><tr><td>16486</td><td>&quot;OECD MEMBERS&quot;</td><td>null</td><td>1960</td><td>null</td><td>null</td><td>&quot;wb&quot;</td><td>&quot;OED&quot;</td></tr><tr><td>16489</td><td>&quot;LATE-DEMOGRAPHIC DIVIDEND&quot;</td><td>null</td><td>1986</td><td>null</td><td>null</td><td>&quot;wb&quot;</td><td>&quot;LTE&quot;</td></tr></tbody></table></div>"
      ],
      "text/plain": [
       "shape: (3_387, 8)\n",
       "┌───────────┬─────────────┬─────────────┬──────┬──────────┬─────────────┬─────────────┬────────────┐\n",
       "│ unique_id ┆ country     ┆ countryCode ┆ year ┆ receipts ┆ expenditure ┆ source_data ┆ countryCod │\n",
       "│ ---       ┆ ---         ┆ Num         ┆ ---  ┆ ---      ┆ s           ┆ set         ┆ eAlpha     │\n",
       "│ u32       ┆ str         ┆ ---         ┆ i64  ┆ f64      ┆ ---         ┆ ---         ┆ ---        │\n",
       "│           ┆             ┆ i64         ┆      ┆          ┆ f64         ┆ str         ┆ str        │\n",
       "╞═══════════╪═════════════╪═════════════╪══════╪══════════╪═════════════╪═════════════╪════════════╡\n",
       "│ 66        ┆ ETHIOPIA    ┆ 230         ┆ 1995 ┆ 177.0    ┆ 30.0        ┆ unwto       ┆ null       │\n",
       "│ 75        ┆ GERMANY     ┆ 280         ┆ 1995 ┆ 24053.0  ┆ 66527.0     ┆ unwto       ┆ null       │\n",
       "│ 166       ┆ SABA        ┆ 461         ┆ 1995 ┆ null     ┆ null        ┆ unwto       ┆ null       │\n",
       "│ 176       ┆ SERBIA AND  ┆ 891         ┆ 1995 ┆ 42.0     ┆ null        ┆ unwto       ┆ null       │\n",
       "│           ┆ MONTENEGRO  ┆             ┆      ┆          ┆             ┆             ┆            │\n",
       "│ 180       ┆ SINT        ┆ 658         ┆ 1995 ┆ null     ┆ null        ┆ unwto       ┆ null       │\n",
       "│           ┆ EUSTATIUS   ┆             ┆      ┆          ┆             ┆             ┆            │\n",
       "│ …         ┆ …           ┆ …           ┆ …    ┆ …        ┆ …           ┆ …           ┆ …          │\n",
       "│ 16479     ┆ PRE-DEMOGRA ┆ null        ┆ 1996 ┆ null     ┆ null        ┆ wb          ┆ PRE        │\n",
       "│           ┆ PHIC        ┆             ┆      ┆          ┆             ┆             ┆            │\n",
       "│           ┆ DIVIDEND    ┆             ┆      ┆          ┆             ┆             ┆            │\n",
       "│ 16483     ┆ SMALL       ┆ null        ┆ 1976 ┆ null     ┆ null        ┆ wb          ┆ SST        │\n",
       "│           ┆ STATES      ┆             ┆      ┆          ┆             ┆             ┆            │\n",
       "│ 16484     ┆ UPPER       ┆ null        ┆ 1990 ┆ null     ┆ null        ┆ wb          ┆ UMC        │\n",
       "│           ┆ MIDDLE      ┆             ┆      ┆          ┆             ┆             ┆            │\n",
       "│           ┆ INCOME      ┆             ┆      ┆          ┆             ┆             ┆            │\n",
       "│ 16486     ┆ OECD        ┆ null        ┆ 1960 ┆ null     ┆ null        ┆ wb          ┆ OED        │\n",
       "│           ┆ MEMBERS     ┆             ┆      ┆          ┆             ┆             ┆            │\n",
       "│ 16489     ┆ LATE-DEMOGR ┆ null        ┆ 1986 ┆ null     ┆ null        ┆ wb          ┆ LTE        │\n",
       "│           ┆ APHIC       ┆             ┆      ┆          ┆             ┆             ┆            │\n",
       "│           ┆ DIVIDEND    ┆             ┆      ┆          ┆             ┆             ┆            │\n",
       "└───────────┴─────────────┴─────────────┴──────┴──────────┴─────────────┴─────────────┴────────────┘"
      ]
     },
     "execution_count": 165,
     "metadata": {},
     "output_type": "execute_result"
    }
   ],
   "source": [
    "missing = all.filter(\n",
    "    pl.col(\"countryCodeAlpha\").is_null() | pl.col(\"countryCodeNum\").is_null()\n",
    ")"
   ]
  },
  {
   "cell_type": "markdown",
   "id": "83eddb9a",
   "metadata": {},
   "source": [
    "We want to find any codes that exist in the matched records."
   ]
  },
  {
   "cell_type": "code",
   "execution_count": 169,
   "id": "2c25376a",
   "metadata": {},
   "outputs": [
    {
     "data": {
      "text/html": [
       "<div><style>\n",
       ".dataframe > thead > tr,\n",
       ".dataframe > tbody > tr {\n",
       "  text-align: right;\n",
       "  white-space: pre-wrap;\n",
       "}\n",
       "</style>\n",
       "<small>shape: (186, 10)</small><table border=\"1\" class=\"dataframe\"><thead><tr><th>unique_id</th><th>country</th><th>countryCodeNum</th><th>year</th><th>receipts</th><th>expenditures</th><th>source_dataset</th><th>countryCodeAlpha</th><th>source_dataset_other</th><th>unique_id_other</th></tr><tr><td>u32</td><td>str</td><td>i64</td><td>i64</td><td>f64</td><td>f64</td><td>str</td><td>str</td><td>str</td><td>u32</td></tr></thead><tbody><tr><td>63</td><td>&quot;CZECH REPUBLIC&quot;</td><td>null</td><td>2009</td><td>7874.834</td><td>4128.136</td><td>&quot;oecd&quot;</td><td>null</td><td>&quot;unwto&quot;</td><td>3176</td></tr><tr><td>119</td><td>&quot;CZECH REPUBLIC&quot;</td><td>null</td><td>2010</td><td>8065.4</td><td>4352.2</td><td>&quot;oecd&quot;</td><td>null</td><td>&quot;unwto&quot;</td><td>3399</td></tr><tr><td>175</td><td>&quot;CZECH REPUBLIC&quot;</td><td>null</td><td>2011</td><td>8929.0</td><td>4855.6</td><td>&quot;oecd&quot;</td><td>null</td><td>&quot;unwto&quot;</td><td>3622</td></tr><tr><td>231</td><td>&quot;CZECH REPUBLIC&quot;</td><td>null</td><td>2012</td><td>8174.1</td><td>4557.5</td><td>&quot;oecd&quot;</td><td>null</td><td>&quot;unwto&quot;</td><td>3845</td></tr><tr><td>287</td><td>&quot;CZECH REPUBLIC&quot;</td><td>null</td><td>2013</td><td>7792.6</td><td>4697.9</td><td>&quot;oecd&quot;</td><td>null</td><td>&quot;unwto&quot;</td><td>4068</td></tr><tr><td>&hellip;</td><td>&hellip;</td><td>&hellip;</td><td>&hellip;</td><td>&hellip;</td><td>&hellip;</td><td>&hellip;</td><td>&hellip;</td><td>&hellip;</td><td>&hellip;</td></tr><tr><td>4535</td><td>&quot;GERMANY&quot;</td><td>280</td><td>2015</td><td>50669.0</td><td>85334.0</td><td>&quot;unwto&quot;</td><td>null</td><td>&quot;oecd&quot;</td><td>404</td></tr><tr><td>4758</td><td>&quot;GERMANY&quot;</td><td>280</td><td>2016</td><td>52234.0</td><td>87412.0</td><td>&quot;unwto&quot;</td><td>null</td><td>&quot;oecd&quot;</td><td>460</td></tr><tr><td>4981</td><td>&quot;GERMANY&quot;</td><td>280</td><td>2017</td><td>40011.0</td><td>89736.0</td><td>&quot;unwto&quot;</td><td>null</td><td>&quot;oecd&quot;</td><td>516</td></tr><tr><td>5427</td><td>&quot;GERMANY&quot;</td><td>280</td><td>2019</td><td>41779.0</td><td>93097.0</td><td>&quot;unwto&quot;</td><td>null</td><td>&quot;oecd&quot;</td><td>628</td></tr><tr><td>5650</td><td>&quot;GERMANY&quot;</td><td>280</td><td>2020</td><td>22068.0</td><td>38752.0</td><td>&quot;unwto&quot;</td><td>null</td><td>&quot;oecd&quot;</td><td>684</td></tr></tbody></table></div>"
      ],
      "text/plain": [
       "shape: (186, 10)\n",
       "┌───────────┬────────────┬────────────┬──────┬───┬────────────┬────────────┬───────────┬───────────┐\n",
       "│ unique_id ┆ country    ┆ countryCod ┆ year ┆ … ┆ source_dat ┆ countryCod ┆ source_da ┆ unique_id │\n",
       "│ ---       ┆ ---        ┆ eNum       ┆ ---  ┆   ┆ aset       ┆ eAlpha     ┆ taset_oth ┆ _other    │\n",
       "│ u32       ┆ str        ┆ ---        ┆ i64  ┆   ┆ ---        ┆ ---        ┆ er        ┆ ---       │\n",
       "│           ┆            ┆ i64        ┆      ┆   ┆ str        ┆ str        ┆ ---       ┆ u32       │\n",
       "│           ┆            ┆            ┆      ┆   ┆            ┆            ┆ str       ┆           │\n",
       "╞═══════════╪════════════╪════════════╪══════╪═══╪════════════╪════════════╪═══════════╪═══════════╡\n",
       "│ 63        ┆ CZECH      ┆ null       ┆ 2009 ┆ … ┆ oecd       ┆ null       ┆ unwto     ┆ 3176      │\n",
       "│           ┆ REPUBLIC   ┆            ┆      ┆   ┆            ┆            ┆           ┆           │\n",
       "│ 119       ┆ CZECH      ┆ null       ┆ 2010 ┆ … ┆ oecd       ┆ null       ┆ unwto     ┆ 3399      │\n",
       "│           ┆ REPUBLIC   ┆            ┆      ┆   ┆            ┆            ┆           ┆           │\n",
       "│ 175       ┆ CZECH      ┆ null       ┆ 2011 ┆ … ┆ oecd       ┆ null       ┆ unwto     ┆ 3622      │\n",
       "│           ┆ REPUBLIC   ┆            ┆      ┆   ┆            ┆            ┆           ┆           │\n",
       "│ 231       ┆ CZECH      ┆ null       ┆ 2012 ┆ … ┆ oecd       ┆ null       ┆ unwto     ┆ 3845      │\n",
       "│           ┆ REPUBLIC   ┆            ┆      ┆   ┆            ┆            ┆           ┆           │\n",
       "│ 287       ┆ CZECH      ┆ null       ┆ 2013 ┆ … ┆ oecd       ┆ null       ┆ unwto     ┆ 4068      │\n",
       "│           ┆ REPUBLIC   ┆            ┆      ┆   ┆            ┆            ┆           ┆           │\n",
       "│ …         ┆ …          ┆ …          ┆ …    ┆ … ┆ …          ┆ …          ┆ …         ┆ …         │\n",
       "│ 4535      ┆ GERMANY    ┆ 280        ┆ 2015 ┆ … ┆ unwto      ┆ null       ┆ oecd      ┆ 404       │\n",
       "│ 4758      ┆ GERMANY    ┆ 280        ┆ 2016 ┆ … ┆ unwto      ┆ null       ┆ oecd      ┆ 460       │\n",
       "│ 4981      ┆ GERMANY    ┆ 280        ┆ 2017 ┆ … ┆ unwto      ┆ null       ┆ oecd      ┆ 516       │\n",
       "│ 5427      ┆ GERMANY    ┆ 280        ┆ 2019 ┆ … ┆ unwto      ┆ null       ┆ oecd      ┆ 628       │\n",
       "│ 5650      ┆ GERMANY    ┆ 280        ┆ 2020 ┆ … ┆ unwto      ┆ null       ┆ oecd      ┆ 684       │\n",
       "└───────────┴────────────┴────────────┴──────┴───┴────────────┴────────────┴───────────┴───────────┘"
      ]
     },
     "execution_count": 169,
     "metadata": {},
     "output_type": "execute_result"
    }
   ],
   "source": [
    "missing_l = missing.join(\n",
    "    output_filtered.select(\n",
    "        \"source_dataset_l\",\n",
    "        \"unique_id_l\",\n",
    "        pl.col(\"source_dataset_r\").alias(\"source_dataset_other\"),\n",
    "        pl.col(\"unique_id_r\").alias(\"unique_id_other\"),\n",
    "    ),\n",
    "    left_on=[\"source_dataset\", \"unique_id\"],\n",
    "    right_on=[\"source_dataset_l\", \"unique_id_l\"],\n",
    ")\n",
    "missing_r = missing.join(\n",
    "    output_filtered.select(\n",
    "        \"source_dataset_r\",\n",
    "        \"unique_id_r\",\n",
    "        pl.col(\"source_dataset_l\").alias(\"source_dataset_other\"),\n",
    "        pl.col(\"unique_id_l\").alias(\"unique_id_other\"),\n",
    "    ),\n",
    "    left_on=[\"source_dataset\", \"unique_id\"],\n",
    "    right_on=[\"source_dataset_r\", \"unique_id_r\"],\n",
    ")\n",
    "missing_matches = pl.concat([missing_l, missing_r], how=\"diagonal\")"
   ]
  },
  {
   "cell_type": "markdown",
   "id": "80585c3e",
   "metadata": {},
   "source": [
    "Next, we will join these other datasets to fill in the missing country codes."
   ]
  },
  {
   "cell_type": "code",
   "execution_count": 175,
   "id": "c130eef4",
   "metadata": {},
   "outputs": [
    {
     "data": {
      "text/html": [
       "<div><style>\n",
       ".dataframe > thead > tr,\n",
       ".dataframe > tbody > tr {\n",
       "  text-align: right;\n",
       "  white-space: pre-wrap;\n",
       "}\n",
       "</style>\n",
       "<small>shape: (186, 8)</small><table border=\"1\" class=\"dataframe\"><thead><tr><th>unique_id</th><th>country</th><th>countryCodeNum</th><th>year</th><th>receipts</th><th>expenditures</th><th>source_dataset</th><th>countryCodeAlpha</th></tr><tr><td>u32</td><td>str</td><td>i64</td><td>i64</td><td>f64</td><td>f64</td><td>str</td><td>str</td></tr></thead><tbody><tr><td>42</td><td>&quot;CHINA (PEOPLE&#x27;S REPUBLIC OF)&quot;</td><td>156</td><td>2008</td><td>40843.0</td><td>36157.0</td><td>&quot;oecd&quot;</td><td>&quot;CHN&quot;</td></tr><tr><td>7</td><td>&quot;CZECH REPUBLIC&quot;</td><td>203</td><td>2008</td><td>8801.611</td><td>4749.628</td><td>&quot;oecd&quot;</td><td>&quot;CZE&quot;</td></tr><tr><td>20</td><td>&quot;KOREA&quot;</td><td>410</td><td>2008</td><td>13439.8</td><td>21447.0</td><td>&quot;oecd&quot;</td><td>&quot;KOR&quot;</td></tr><tr><td>30</td><td>&quot;SLOVAK REPUBLIC&quot;</td><td>703</td><td>2008</td><td>2989.323</td><td>2570.046</td><td>&quot;oecd&quot;</td><td>&quot;SVK&quot;</td></tr><tr><td>37</td><td>&quot;UNITED STATES&quot;</td><td>840</td><td>2008</td><td>149095.0</td><td>119133.0</td><td>&quot;oecd&quot;</td><td>&quot;USA&quot;</td></tr><tr><td>&hellip;</td><td>&hellip;</td><td>&hellip;</td><td>&hellip;</td><td>&hellip;</td><td>&hellip;</td><td>&hellip;</td><td>&hellip;</td></tr><tr><td>5097</td><td>&quot;SUDAN&quot;</td><td>736</td><td>2017</td><td>1029.0</td><td>29.0</td><td>&quot;unwto&quot;</td><td>&quot;SDN&quot;</td></tr><tr><td>5641</td><td>&quot;ETHIOPIA&quot;</td><td>230</td><td>2020</td><td>2282.0</td><td>322.5</td><td>&quot;unwto&quot;</td><td>&quot;ETH&quot;</td></tr><tr><td>298</td><td>&quot;GERMANY&quot;</td><td>280</td><td>1996</td><td>23982.0</td><td>64725.0</td><td>&quot;unwto&quot;</td><td>&quot;DEU&quot;</td></tr><tr><td>4205</td><td>&quot;SUDAN&quot;</td><td>736</td><td>2013</td><td>773.0</td><td>460.0</td><td>&quot;unwto&quot;</td><td>&quot;SDN&quot;</td></tr><tr><td>744</td><td>&quot;GERMANY&quot;</td><td>280</td><td>1998</td><td>25806.0</td><td>60253.0</td><td>&quot;unwto&quot;</td><td>&quot;DEU&quot;</td></tr></tbody></table></div>"
      ],
      "text/plain": [
       "shape: (186, 8)\n",
       "┌───────────┬─────────────┬─────────────┬──────┬──────────┬─────────────┬─────────────┬────────────┐\n",
       "│ unique_id ┆ country     ┆ countryCode ┆ year ┆ receipts ┆ expenditure ┆ source_data ┆ countryCod │\n",
       "│ ---       ┆ ---         ┆ Num         ┆ ---  ┆ ---      ┆ s           ┆ set         ┆ eAlpha     │\n",
       "│ u32       ┆ str         ┆ ---         ┆ i64  ┆ f64      ┆ ---         ┆ ---         ┆ ---        │\n",
       "│           ┆             ┆ i64         ┆      ┆          ┆ f64         ┆ str         ┆ str        │\n",
       "╞═══════════╪═════════════╪═════════════╪══════╪══════════╪═════════════╪═════════════╪════════════╡\n",
       "│ 42        ┆ CHINA       ┆ 156         ┆ 2008 ┆ 40843.0  ┆ 36157.0     ┆ oecd        ┆ CHN        │\n",
       "│           ┆ (PEOPLE'S   ┆             ┆      ┆          ┆             ┆             ┆            │\n",
       "│           ┆ REPUBLIC    ┆             ┆      ┆          ┆             ┆             ┆            │\n",
       "│           ┆ OF)         ┆             ┆      ┆          ┆             ┆             ┆            │\n",
       "│ 7         ┆ CZECH       ┆ 203         ┆ 2008 ┆ 8801.611 ┆ 4749.628    ┆ oecd        ┆ CZE        │\n",
       "│           ┆ REPUBLIC    ┆             ┆      ┆          ┆             ┆             ┆            │\n",
       "│ 20        ┆ KOREA       ┆ 410         ┆ 2008 ┆ 13439.8  ┆ 21447.0     ┆ oecd        ┆ KOR        │\n",
       "│ 30        ┆ SLOVAK      ┆ 703         ┆ 2008 ┆ 2989.323 ┆ 2570.046    ┆ oecd        ┆ SVK        │\n",
       "│           ┆ REPUBLIC    ┆             ┆      ┆          ┆             ┆             ┆            │\n",
       "│ 37        ┆ UNITED      ┆ 840         ┆ 2008 ┆ 149095.0 ┆ 119133.0    ┆ oecd        ┆ USA        │\n",
       "│           ┆ STATES      ┆             ┆      ┆          ┆             ┆             ┆            │\n",
       "│ …         ┆ …           ┆ …           ┆ …    ┆ …        ┆ …           ┆ …           ┆ …          │\n",
       "│ 5097      ┆ SUDAN       ┆ 736         ┆ 2017 ┆ 1029.0   ┆ 29.0        ┆ unwto       ┆ SDN        │\n",
       "│ 5641      ┆ ETHIOPIA    ┆ 230         ┆ 2020 ┆ 2282.0   ┆ 322.5       ┆ unwto       ┆ ETH        │\n",
       "│ 298       ┆ GERMANY     ┆ 280         ┆ 1996 ┆ 23982.0  ┆ 64725.0     ┆ unwto       ┆ DEU        │\n",
       "│ 4205      ┆ SUDAN       ┆ 736         ┆ 2013 ┆ 773.0    ┆ 460.0       ┆ unwto       ┆ SDN        │\n",
       "│ 744       ┆ GERMANY     ┆ 280         ┆ 1998 ┆ 25806.0  ┆ 60253.0     ┆ unwto       ┆ DEU        │\n",
       "└───────────┴─────────────┴─────────────┴──────┴──────────┴─────────────┴─────────────┴────────────┘"
      ]
     },
     "execution_count": 175,
     "metadata": {},
     "output_type": "execute_result"
    }
   ],
   "source": [
    "missing_fixes = (\n",
    "    missing_matches.join(\n",
    "        all.select(\"countryCodeAlpha\", \"countryCodeNum\", \"source_dataset\", \"unique_id\"),\n",
    "        left_on=[\"source_dataset_other\", \"unique_id_other\"],\n",
    "        right_on=[\"source_dataset\", \"unique_id\"],\n",
    "    )\n",
    "    .with_columns(\n",
    "        pl.coalesce(pl.col(\"countryCodeAlpha\"), pl.col(\"countryCodeAlpha_right\")),\n",
    "        pl.coalesce(pl.col(\"countryCodeNum\"), pl.col(\"countryCodeNum_right\")),\n",
    "    )\n",
    "    .drop(\n",
    "        \"countryCodeNum_right\",\n",
    "        \"countryCodeAlpha_right\",\n",
    "        \"source_dataset_other\",\n",
    "        \"unique_id_other\",\n",
    "    )\n",
    ")"
   ]
  },
  {
   "cell_type": "code",
   "execution_count": 176,
   "id": "b9862c0b",
   "metadata": {},
   "outputs": [
    {
     "data": {
      "text/html": [
       "<div><style>\n",
       ".dataframe > thead > tr,\n",
       ".dataframe > tbody > tr {\n",
       "  text-align: right;\n",
       "  white-space: pre-wrap;\n",
       "}\n",
       "</style>\n",
       "<small>shape: (23_297, 8)</small><table border=\"1\" class=\"dataframe\"><thead><tr><th>unique_id</th><th>country</th><th>countryCodeNum</th><th>year</th><th>receipts</th><th>expenditures</th><th>source_dataset</th><th>countryCodeAlpha</th></tr><tr><td>u32</td><td>str</td><td>i64</td><td>i64</td><td>f64</td><td>f64</td><td>str</td><td>str</td></tr></thead><tbody><tr><td>42</td><td>&quot;CHINA (PEOPLE&#x27;S REPUBLIC OF)&quot;</td><td>156</td><td>2008</td><td>40843.0</td><td>36157.0</td><td>&quot;oecd&quot;</td><td>&quot;CHN&quot;</td></tr><tr><td>7</td><td>&quot;CZECH REPUBLIC&quot;</td><td>203</td><td>2008</td><td>8801.611</td><td>4749.628</td><td>&quot;oecd&quot;</td><td>&quot;CZE&quot;</td></tr><tr><td>20</td><td>&quot;KOREA&quot;</td><td>410</td><td>2008</td><td>13439.8</td><td>21447.0</td><td>&quot;oecd&quot;</td><td>&quot;KOR&quot;</td></tr><tr><td>30</td><td>&quot;SLOVAK REPUBLIC&quot;</td><td>703</td><td>2008</td><td>2989.323</td><td>2570.046</td><td>&quot;oecd&quot;</td><td>&quot;SVK&quot;</td></tr><tr><td>37</td><td>&quot;UNITED STATES&quot;</td><td>840</td><td>2008</td><td>149095.0</td><td>119133.0</td><td>&quot;oecd&quot;</td><td>&quot;USA&quot;</td></tr><tr><td>&hellip;</td><td>&hellip;</td><td>&hellip;</td><td>&hellip;</td><td>&hellip;</td><td>&hellip;</td><td>&hellip;</td><td>&hellip;</td></tr><tr><td>16487</td><td>&quot;BOTSWANA&quot;</td><td>72</td><td>2008</td><td>510.700012</td><td>null</td><td>&quot;wb&quot;</td><td>&quot;BWA&quot;</td></tr><tr><td>16488</td><td>&quot;POLAND&quot;</td><td>616</td><td>1974</td><td>null</td><td>null</td><td>&quot;wb&quot;</td><td>&quot;POL&quot;</td></tr><tr><td>16489</td><td>&quot;LATE-DEMOGRAPHIC DIVIDEND&quot;</td><td>null</td><td>1986</td><td>null</td><td>null</td><td>&quot;wb&quot;</td><td>&quot;LTE&quot;</td></tr><tr><td>16490</td><td>&quot;PAPUA NEW GUINEA&quot;</td><td>598</td><td>2008</td><td>3.7</td><td>null</td><td>&quot;wb&quot;</td><td>&quot;PNG&quot;</td></tr><tr><td>16491</td><td>&quot;SAMOA&quot;</td><td>882</td><td>1997</td><td>38.511845</td><td>null</td><td>&quot;wb&quot;</td><td>&quot;WSM&quot;</td></tr></tbody></table></div>"
      ],
      "text/plain": [
       "shape: (23_297, 8)\n",
       "┌───────────┬─────────────┬─────────────┬──────┬────────────┬────────────┬────────────┬────────────┐\n",
       "│ unique_id ┆ country     ┆ countryCode ┆ year ┆ receipts   ┆ expenditur ┆ source_dat ┆ countryCod │\n",
       "│ ---       ┆ ---         ┆ Num         ┆ ---  ┆ ---        ┆ es         ┆ aset       ┆ eAlpha     │\n",
       "│ u32       ┆ str         ┆ ---         ┆ i64  ┆ f64        ┆ ---        ┆ ---        ┆ ---        │\n",
       "│           ┆             ┆ i64         ┆      ┆            ┆ f64        ┆ str        ┆ str        │\n",
       "╞═══════════╪═════════════╪═════════════╪══════╪════════════╪════════════╪════════════╪════════════╡\n",
       "│ 42        ┆ CHINA       ┆ 156         ┆ 2008 ┆ 40843.0    ┆ 36157.0    ┆ oecd       ┆ CHN        │\n",
       "│           ┆ (PEOPLE'S   ┆             ┆      ┆            ┆            ┆            ┆            │\n",
       "│           ┆ REPUBLIC    ┆             ┆      ┆            ┆            ┆            ┆            │\n",
       "│           ┆ OF)         ┆             ┆      ┆            ┆            ┆            ┆            │\n",
       "│ 7         ┆ CZECH       ┆ 203         ┆ 2008 ┆ 8801.611   ┆ 4749.628   ┆ oecd       ┆ CZE        │\n",
       "│           ┆ REPUBLIC    ┆             ┆      ┆            ┆            ┆            ┆            │\n",
       "│ 20        ┆ KOREA       ┆ 410         ┆ 2008 ┆ 13439.8    ┆ 21447.0    ┆ oecd       ┆ KOR        │\n",
       "│ 30        ┆ SLOVAK      ┆ 703         ┆ 2008 ┆ 2989.323   ┆ 2570.046   ┆ oecd       ┆ SVK        │\n",
       "│           ┆ REPUBLIC    ┆             ┆      ┆            ┆            ┆            ┆            │\n",
       "│ 37        ┆ UNITED      ┆ 840         ┆ 2008 ┆ 149095.0   ┆ 119133.0   ┆ oecd       ┆ USA        │\n",
       "│           ┆ STATES      ┆             ┆      ┆            ┆            ┆            ┆            │\n",
       "│ …         ┆ …           ┆ …           ┆ …    ┆ …          ┆ …          ┆ …          ┆ …          │\n",
       "│ 16487     ┆ BOTSWANA    ┆ 72          ┆ 2008 ┆ 510.700012 ┆ null       ┆ wb         ┆ BWA        │\n",
       "│ 16488     ┆ POLAND      ┆ 616         ┆ 1974 ┆ null       ┆ null       ┆ wb         ┆ POL        │\n",
       "│ 16489     ┆ LATE-DEMOGR ┆ null        ┆ 1986 ┆ null       ┆ null       ┆ wb         ┆ LTE        │\n",
       "│           ┆ APHIC       ┆             ┆      ┆            ┆            ┆            ┆            │\n",
       "│           ┆ DIVIDEND    ┆             ┆      ┆            ┆            ┆            ┆            │\n",
       "│ 16490     ┆ PAPUA NEW   ┆ 598         ┆ 2008 ┆ 3.7        ┆ null       ┆ wb         ┆ PNG        │\n",
       "│           ┆ GUINEA      ┆             ┆      ┆            ┆            ┆            ┆            │\n",
       "│ 16491     ┆ SAMOA       ┆ 882         ┆ 1997 ┆ 38.511845  ┆ null       ┆ wb         ┆ WSM        │\n",
       "└───────────┴─────────────┴─────────────┴──────┴────────────┴────────────┴────────────┴────────────┘"
      ]
     },
     "execution_count": 176,
     "metadata": {},
     "output_type": "execute_result"
    }
   ],
   "source": [
    "all_fixed = pl.concat([missing_fixes, all]).unique(\n",
    "    subset=[\"source_dataset\", \"unique_id\"], maintain_order=True, keep=\"first\"\n",
    ")"
   ]
  },
  {
   "cell_type": "markdown",
   "id": "24e91b3c",
   "metadata": {},
   "source": [
    "### Finding Matching Rows\n",
    "\n",
    "Now that we have filled in missing country codes, we can use this information to find rows that match across datasets. This is a  group_by operation on the codes and year."
   ]
  },
  {
   "cell_type": "code",
   "execution_count": 177,
   "id": "f737b6c7",
   "metadata": {},
   "outputs": [
    {
     "data": {
      "text/html": [
       "<div><style>\n",
       ".dataframe > thead > tr,\n",
       ".dataframe > tbody > tr {\n",
       "  text-align: right;\n",
       "  white-space: pre-wrap;\n",
       "}\n",
       "</style>\n",
       "<small>shape: (16_965, 7)</small><table border=\"1\" class=\"dataframe\"><thead><tr><th>countryCodeNum</th><th>countryCodeAlpha</th><th>year</th><th>country</th><th>receipts</th><th>expenditures</th><th>source_dataset</th></tr><tr><td>i64</td><td>str</td><td>i64</td><td>list[str]</td><td>list[f64]</td><td>list[f64]</td><td>list[str]</td></tr></thead><tbody><tr><td>50</td><td>&quot;BGD&quot;</td><td>1999</td><td>[&quot;BANGLADESH&quot;, &quot;BANGLADESH&quot;]</td><td>[50.0, null]</td><td>[375.0, null]</td><td>[&quot;unwto&quot;, &quot;wb&quot;]</td></tr><tr><td>250</td><td>&quot;FRA&quot;</td><td>2017</td><td>[&quot;FRANCE&quot;, &quot;FRANCE&quot;, &quot;FRANCE&quot;]</td><td>[67717.0, 67342.6, 67717.0]</td><td>[53787.0, 53595.4, null]</td><td>[&quot;unwto&quot;, &quot;oecd&quot;, &quot;wb&quot;]</td></tr><tr><td>392</td><td>&quot;JPN&quot;</td><td>1968</td><td>[&quot;JAPAN&quot;]</td><td>[null]</td><td>[null]</td><td>[&quot;wb&quot;]</td></tr><tr><td>null</td><td>&quot;TMN&quot;</td><td>2002</td><td>[&quot;MIDDLE EAST &amp; NORTH AFRICA (IDA &amp; IBRD COUNTRIES)&quot;]</td><td>[20322.226453]</td><td>[null]</td><td>[&quot;wb&quot;]</td></tr><tr><td>60</td><td>&quot;BMU&quot;</td><td>2011</td><td>[&quot;BERMUDA&quot;, &quot;BERMUDA&quot;]</td><td>[500.0, 500.0]</td><td>[326.0, null]</td><td>[&quot;unwto&quot;, &quot;wb&quot;]</td></tr><tr><td>&hellip;</td><td>&hellip;</td><td>&hellip;</td><td>&hellip;</td><td>&hellip;</td><td>&hellip;</td><td>&hellip;</td></tr><tr><td>894</td><td>&quot;ZMB&quot;</td><td>2004</td><td>[&quot;ZAMBIA&quot;, &quot;ZAMBIA&quot;]</td><td>[92.0, null]</td><td>[86.0, null]</td><td>[&quot;unwto&quot;, &quot;wb&quot;]</td></tr><tr><td>320</td><td>&quot;GTM&quot;</td><td>1961</td><td>[&quot;GUATEMALA&quot;]</td><td>[null]</td><td>[null]</td><td>[&quot;wb&quot;]</td></tr><tr><td>620</td><td>&quot;PRT&quot;</td><td>1988</td><td>[&quot;PORTUGAL&quot;]</td><td>[null]</td><td>[null]</td><td>[&quot;wb&quot;]</td></tr><tr><td>418</td><td>&quot;LAO&quot;</td><td>2010</td><td>[&quot;LAO PEOPLE´S DEMOCRATIC REPUBLIC&quot;, &quot;LAO PDR&quot;]</td><td>[385.0, 385.0]</td><td>[215.0, null]</td><td>[&quot;unwto&quot;, &quot;wb&quot;]</td></tr><tr><td>558</td><td>&quot;NIC&quot;</td><td>2007</td><td>[&quot;NICARAGUA&quot;, &quot;NICARAGUA&quot;]</td><td>[277.0, null]</td><td>[238.0, null]</td><td>[&quot;unwto&quot;, &quot;wb&quot;]</td></tr></tbody></table></div>"
      ],
      "text/plain": [
       "shape: (16_965, 7)\n",
       "┌───────────────┬───────────────┬──────┬──────────────┬──────────────┬──────────────┬──────────────┐\n",
       "│ countryCodeNu ┆ countryCodeAl ┆ year ┆ country      ┆ receipts     ┆ expenditures ┆ source_datas │\n",
       "│ m             ┆ pha           ┆ ---  ┆ ---          ┆ ---          ┆ ---          ┆ et           │\n",
       "│ ---           ┆ ---           ┆ i64  ┆ list[str]    ┆ list[f64]    ┆ list[f64]    ┆ ---          │\n",
       "│ i64           ┆ str           ┆      ┆              ┆              ┆              ┆ list[str]    │\n",
       "╞═══════════════╪═══════════════╪══════╪══════════════╪══════════════╪══════════════╪══════════════╡\n",
       "│ 50            ┆ BGD           ┆ 1999 ┆ [\"BANGLADESH ┆ [50.0, null] ┆ [375.0,      ┆ [\"unwto\",    │\n",
       "│               ┆               ┆      ┆ \", \"BANGLADE ┆              ┆ null]        ┆ \"wb\"]        │\n",
       "│               ┆               ┆      ┆ SH\"]         ┆              ┆              ┆              │\n",
       "│ 250           ┆ FRA           ┆ 2017 ┆ [\"FRANCE\",   ┆ [67717.0,    ┆ [53787.0,    ┆ [\"unwto\",    │\n",
       "│               ┆               ┆      ┆ \"FRANCE\",    ┆ 67342.6,     ┆ 53595.4,     ┆ \"oecd\",      │\n",
       "│               ┆               ┆      ┆ \"FRANCE\"]    ┆ 67717.0]     ┆ null]        ┆ \"wb\"]        │\n",
       "│ 392           ┆ JPN           ┆ 1968 ┆ [\"JAPAN\"]    ┆ [null]       ┆ [null]       ┆ [\"wb\"]       │\n",
       "│ null          ┆ TMN           ┆ 2002 ┆ [\"MIDDLE     ┆ [20322.22645 ┆ [null]       ┆ [\"wb\"]       │\n",
       "│               ┆               ┆      ┆ EAST & NORTH ┆ 3]           ┆              ┆              │\n",
       "│               ┆               ┆      ┆ AFRICA (…    ┆              ┆              ┆              │\n",
       "│ 60            ┆ BMU           ┆ 2011 ┆ [\"BERMUDA\",  ┆ [500.0,      ┆ [326.0,      ┆ [\"unwto\",    │\n",
       "│               ┆               ┆      ┆ \"BERMUDA\"]   ┆ 500.0]       ┆ null]        ┆ \"wb\"]        │\n",
       "│ …             ┆ …             ┆ …    ┆ …            ┆ …            ┆ …            ┆ …            │\n",
       "│ 894           ┆ ZMB           ┆ 2004 ┆ [\"ZAMBIA\",   ┆ [92.0, null] ┆ [86.0, null] ┆ [\"unwto\",    │\n",
       "│               ┆               ┆      ┆ \"ZAMBIA\"]    ┆              ┆              ┆ \"wb\"]        │\n",
       "│ 320           ┆ GTM           ┆ 1961 ┆ [\"GUATEMALA\" ┆ [null]       ┆ [null]       ┆ [\"wb\"]       │\n",
       "│               ┆               ┆      ┆ ]            ┆              ┆              ┆              │\n",
       "│ 620           ┆ PRT           ┆ 1988 ┆ [\"PORTUGAL\"] ┆ [null]       ┆ [null]       ┆ [\"wb\"]       │\n",
       "│ 418           ┆ LAO           ┆ 2010 ┆ [\"LAO        ┆ [385.0,      ┆ [215.0,      ┆ [\"unwto\",    │\n",
       "│               ┆               ┆      ┆ PEOPLE´S     ┆ 385.0]       ┆ null]        ┆ \"wb\"]        │\n",
       "│               ┆               ┆      ┆ DEMOCRATIC   ┆              ┆              ┆              │\n",
       "│               ┆               ┆      ┆ REPU…        ┆              ┆              ┆              │\n",
       "│ 558           ┆ NIC           ┆ 2007 ┆ [\"NICARAGUA\" ┆ [277.0,      ┆ [238.0,      ┆ [\"unwto\",    │\n",
       "│               ┆               ┆      ┆ ,            ┆ null]        ┆ null]        ┆ \"wb\"]        │\n",
       "│               ┆               ┆      ┆ \"NICARAGUA\"] ┆              ┆              ┆              │\n",
       "└───────────────┴───────────────┴──────┴──────────────┴──────────────┴──────────────┴──────────────┘"
      ]
     },
     "execution_count": 177,
     "metadata": {},
     "output_type": "execute_result"
    }
   ],
   "source": [
    "all_fixed.group_by(\"countryCodeNum\", \"countryCodeAlpha\", \"year\").agg(\n",
    "    [\n",
    "        pl.col(\"country\"),\n",
    "        pl.col(\"receipts\"),\n",
    "        pl.col(\"expenditures\"),\n",
    "        pl.col(\"source_dataset\"),\n",
    "    ]\n",
    ")"
   ]
  },
  {
   "cell_type": "markdown",
   "id": "d0756128",
   "metadata": {},
   "source": [
    "Now, we have to determine criteria to fuse the records together. We have a number of options:\n",
    "\n",
    "* Random: Randomly select one of the records.\n",
    "* Preferred Dataset: Choose records from a preferred dataset when available.\n",
    "* Mode: Choose the most common value across records.\n",
    "\n",
    "For numeric fields, we have additional options:\n",
    "\n",
    "* Mean\n",
    "* Median\n",
    "* Max/Min\n",
    "\n",
    "Which method to to use depends on the data and the use case. Here, we will use the mode for country names and the mean for receipts and expenditures."
   ]
  },
  {
   "cell_type": "code",
   "execution_count": 179,
   "id": "014761ad",
   "metadata": {},
   "outputs": [
    {
     "data": {
      "text/html": [
       "<div><style>\n",
       ".dataframe > thead > tr,\n",
       ".dataframe > tbody > tr {\n",
       "  text-align: right;\n",
       "  white-space: pre-wrap;\n",
       "}\n",
       "</style>\n",
       "<small>shape: (16_965, 6)</small><table border=\"1\" class=\"dataframe\"><thead><tr><th>countryCodeNum</th><th>countryCodeAlpha</th><th>year</th><th>country</th><th>receipts</th><th>expenditures</th></tr><tr><td>i64</td><td>str</td><td>i64</td><td>str</td><td>f64</td><td>f64</td></tr></thead><tbody><tr><td>796</td><td>&quot;TCA&quot;</td><td>2005</td><td>&quot;TURKS AND CAICOS ISLANDS&quot;</td><td>null</td><td>null</td></tr><tr><td>348</td><td>&quot;HUN&quot;</td><td>2017</td><td>&quot;HUNGARY&quot;</td><td>8424.433333</td><td>3038.9</td></tr><tr><td>454</td><td>&quot;MWI&quot;</td><td>2020</td><td>&quot;MALAWI&quot;</td><td>31.5</td><td>130.0</td></tr><tr><td>704</td><td>&quot;VNM&quot;</td><td>1991</td><td>&quot;VIETNAM&quot;</td><td>null</td><td>null</td></tr><tr><td>203</td><td>&quot;CZE&quot;</td><td>1986</td><td>&quot;CZECHIA&quot;</td><td>null</td><td>null</td></tr><tr><td>&hellip;</td><td>&hellip;</td><td>&hellip;</td><td>&hellip;</td><td>&hellip;</td><td>&hellip;</td></tr><tr><td>454</td><td>&quot;MWI&quot;</td><td>2007</td><td>&quot;MALAWI&quot;</td><td>43.0</td><td>79.0</td></tr><tr><td>292</td><td>&quot;GIB&quot;</td><td>1962</td><td>&quot;GIBRALTAR&quot;</td><td>null</td><td>null</td></tr><tr><td>null</td><td>&quot;LMY&quot;</td><td>1960</td><td>&quot;LOW &amp; MIDDLE INCOME&quot;</td><td>null</td><td>null</td></tr><tr><td>232</td><td>&quot;ERI&quot;</td><td>1996</td><td>&quot;ERITREA&quot;</td><td>69.0</td><td>null</td></tr><tr><td>729</td><td>&quot;SDN&quot;</td><td>1967</td><td>&quot;SUDAN&quot;</td><td>null</td><td>null</td></tr></tbody></table></div>"
      ],
      "text/plain": [
       "shape: (16_965, 6)\n",
       "┌────────────────┬──────────────────┬──────┬──────────────────────────┬─────────────┬──────────────┐\n",
       "│ countryCodeNum ┆ countryCodeAlpha ┆ year ┆ country                  ┆ receipts    ┆ expenditures │\n",
       "│ ---            ┆ ---              ┆ ---  ┆ ---                      ┆ ---         ┆ ---          │\n",
       "│ i64            ┆ str              ┆ i64  ┆ str                      ┆ f64         ┆ f64          │\n",
       "╞════════════════╪══════════════════╪══════╪══════════════════════════╪═════════════╪══════════════╡\n",
       "│ 796            ┆ TCA              ┆ 2005 ┆ TURKS AND CAICOS ISLANDS ┆ null        ┆ null         │\n",
       "│ 348            ┆ HUN              ┆ 2017 ┆ HUNGARY                  ┆ 8424.433333 ┆ 3038.9       │\n",
       "│ 454            ┆ MWI              ┆ 2020 ┆ MALAWI                   ┆ 31.5        ┆ 130.0        │\n",
       "│ 704            ┆ VNM              ┆ 1991 ┆ VIETNAM                  ┆ null        ┆ null         │\n",
       "│ 203            ┆ CZE              ┆ 1986 ┆ CZECHIA                  ┆ null        ┆ null         │\n",
       "│ …              ┆ …                ┆ …    ┆ …                        ┆ …           ┆ …            │\n",
       "│ 454            ┆ MWI              ┆ 2007 ┆ MALAWI                   ┆ 43.0        ┆ 79.0         │\n",
       "│ 292            ┆ GIB              ┆ 1962 ┆ GIBRALTAR                ┆ null        ┆ null         │\n",
       "│ null           ┆ LMY              ┆ 1960 ┆ LOW & MIDDLE INCOME      ┆ null        ┆ null         │\n",
       "│ 232            ┆ ERI              ┆ 1996 ┆ ERITREA                  ┆ 69.0        ┆ null         │\n",
       "│ 729            ┆ SDN              ┆ 1967 ┆ SUDAN                    ┆ null        ┆ null         │\n",
       "└────────────────┴──────────────────┴──────┴──────────────────────────┴─────────────┴──────────────┘"
      ]
     },
     "execution_count": 179,
     "metadata": {},
     "output_type": "execute_result"
    }
   ],
   "source": [
    "fused = all_fixed.group_by(\"countryCodeNum\", \"countryCodeAlpha\", \"year\").agg(\n",
    "    [\n",
    "        pl.col(\"country\").mode().first(),\n",
    "        pl.col(\"receipts\").mean(),\n",
    "        pl.col(\"expenditures\").mean(),\n",
    "    ]\n",
    ")"
   ]
  },
  {
   "cell_type": "markdown",
   "id": "18a91b6a",
   "metadata": {},
   "source": [
    "Finally, we might drop all data when there is neither receipts nor expenditures data."
   ]
  },
  {
   "cell_type": "code",
   "execution_count": 182,
   "id": "4e41d128",
   "metadata": {},
   "outputs": [
    {
     "data": {
      "text/html": [
       "<div><style>\n",
       ".dataframe > thead > tr,\n",
       ".dataframe > tbody > tr {\n",
       "  text-align: right;\n",
       "  white-space: pre-wrap;\n",
       "}\n",
       "</style>\n",
       "<small>shape: (4_905, 6)</small><table border=\"1\" class=\"dataframe\"><thead><tr><th>country</th><th>countryCodeAlpha</th><th>countryCodeNum</th><th>year</th><th>receipts</th><th>expenditures</th></tr><tr><td>str</td><td>str</td><td>i64</td><td>i64</td><td>f64</td><td>f64</td></tr></thead><tbody><tr><td>&quot;ALBANIA&quot;</td><td>&quot;ALB&quot;</td><td>8</td><td>1995</td><td>70.0</td><td>19.0</td></tr><tr><td>&quot;ALGERIA&quot;</td><td>&quot;DZA&quot;</td><td>12</td><td>1995</td><td>32.0</td><td>186.0</td></tr><tr><td>&quot;ANGOLA&quot;</td><td>&quot;AGO&quot;</td><td>24</td><td>1995</td><td>27.0</td><td>113.0</td></tr><tr><td>&quot;ANGUILLA&quot;</td><td>&quot;AIA&quot;</td><td>660</td><td>1995</td><td>50.0</td><td>6.0</td></tr><tr><td>&quot;ANTIGUA AND BARBUDA&quot;</td><td>&quot;ATG&quot;</td><td>28</td><td>1995</td><td>247.0</td><td>23.0</td></tr><tr><td>&hellip;</td><td>&hellip;</td><td>&hellip;</td><td>&hellip;</td><td>&hellip;</td><td>&hellip;</td></tr><tr><td>&quot;URUGUAY&quot;</td><td>&quot;URY&quot;</td><td>858</td><td>2021</td><td>586.0</td><td>260.0</td></tr><tr><td>&quot;UZBEKISTAN&quot;</td><td>&quot;UZB&quot;</td><td>860</td><td>2021</td><td>679.0</td><td>2049.0</td></tr><tr><td>&quot;VANUATU&quot;</td><td>&quot;VUT&quot;</td><td>548</td><td>2021</td><td>2.2</td><td>97.4</td></tr><tr><td>&quot;VIETNAM&quot;</td><td>&quot;VNM&quot;</td><td>704</td><td>2021</td><td>149.0</td><td>3830.0</td></tr><tr><td>&quot;ZAMBIA&quot;</td><td>&quot;ZMB&quot;</td><td>894</td><td>2021</td><td>393.0</td><td>430.0</td></tr></tbody></table></div>"
      ],
      "text/plain": [
       "shape: (4_905, 6)\n",
       "┌─────────────────────┬──────────────────┬────────────────┬──────┬──────────┬──────────────┐\n",
       "│ country             ┆ countryCodeAlpha ┆ countryCodeNum ┆ year ┆ receipts ┆ expenditures │\n",
       "│ ---                 ┆ ---              ┆ ---            ┆ ---  ┆ ---      ┆ ---          │\n",
       "│ str                 ┆ str              ┆ i64            ┆ i64  ┆ f64      ┆ f64          │\n",
       "╞═════════════════════╪══════════════════╪════════════════╪══════╪══════════╪══════════════╡\n",
       "│ ALBANIA             ┆ ALB              ┆ 8              ┆ 1995 ┆ 70.0     ┆ 19.0         │\n",
       "│ ALGERIA             ┆ DZA              ┆ 12             ┆ 1995 ┆ 32.0     ┆ 186.0        │\n",
       "│ ANGOLA              ┆ AGO              ┆ 24             ┆ 1995 ┆ 27.0     ┆ 113.0        │\n",
       "│ ANGUILLA            ┆ AIA              ┆ 660            ┆ 1995 ┆ 50.0     ┆ 6.0          │\n",
       "│ ANTIGUA AND BARBUDA ┆ ATG              ┆ 28             ┆ 1995 ┆ 247.0    ┆ 23.0         │\n",
       "│ …                   ┆ …                ┆ …              ┆ …    ┆ …        ┆ …            │\n",
       "│ URUGUAY             ┆ URY              ┆ 858            ┆ 2021 ┆ 586.0    ┆ 260.0        │\n",
       "│ UZBEKISTAN          ┆ UZB              ┆ 860            ┆ 2021 ┆ 679.0    ┆ 2049.0       │\n",
       "│ VANUATU             ┆ VUT              ┆ 548            ┆ 2021 ┆ 2.2      ┆ 97.4         │\n",
       "│ VIETNAM             ┆ VNM              ┆ 704            ┆ 2021 ┆ 149.0    ┆ 3830.0       │\n",
       "│ ZAMBIA              ┆ ZMB              ┆ 894            ┆ 2021 ┆ 393.0    ┆ 430.0        │\n",
       "└─────────────────────┴──────────────────┴────────────────┴──────┴──────────┴──────────────┘"
      ]
     },
     "execution_count": 182,
     "metadata": {},
     "output_type": "execute_result"
    }
   ],
   "source": [
    "fused.filter(\n",
    "    pl.col(\"receipts\").is_not_null().and_(pl.col(\"expenditures\").is_not_null())\n",
    ").sort(\"year\", \"country\").select(\n",
    "    \"country\", \"countryCodeAlpha\", \"countryCodeNum\", \"year\", \"receipts\", \"expenditures\"\n",
    ")"
   ]
  },
  {
   "cell_type": "markdown",
   "id": "5d4277dd",
   "metadata": {},
   "source": [
    "##### Exercise\n",
    "\n",
    "Can you find any issues with the proposed fusion strategy? How could you diagnose this? Experiment with different fusion strategies for the fields. "
   ]
  },
  {
   "cell_type": "markdown",
   "id": "f9398a08",
   "metadata": {},
   "source": []
  }
 ],
 "metadata": {
  "kernelspec": {
   "display_name": "fount",
   "language": "python",
   "name": "python3"
  },
  "language_info": {
   "codemirror_mode": {
    "name": "ipython",
    "version": 3
   },
   "file_extension": ".py",
   "mimetype": "text/x-python",
   "name": "python",
   "nbconvert_exporter": "python",
   "pygments_lexer": "ipython3",
   "version": "3.12.7"
  }
 },
 "nbformat": 4,
 "nbformat_minor": 5
}
